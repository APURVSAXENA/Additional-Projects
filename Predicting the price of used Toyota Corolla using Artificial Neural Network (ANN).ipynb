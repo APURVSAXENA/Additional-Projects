{
  "cells": [
    {
      "cell_type": "markdown",
      "metadata": {
        "id": "view-in-github",
        "colab_type": "text"
      },
      "source": [
        "<a href=\"https://colab.research.google.com/github/APURVSAXENA/Additional-Projects/blob/master/Predicting%20the%20price%20of%20used%20Toyota%20Corolla%20using%20Artificial%20Neural%20Network%20(ANN).ipynb\" target=\"_parent\"><img src=\"https://colab.research.google.com/assets/colab-badge.svg\" alt=\"Open In Colab\"/></a>"
      ]
    },
    {
      "cell_type": "markdown",
      "metadata": {
        "id": "6FqbXgHDrtjU"
      },
      "source": [
        "<h2 align=\"center\"> Predicting the price of used Toyota Corolla using Artificial Neural Network (ANN) </h1>"
      ]
    },
    {
      "cell_type": "markdown",
      "metadata": {
        "id": "tKB1ZjicrtjY"
      },
      "source": [
        "## 1. Data"
      ]
    },
    {
      "cell_type": "markdown",
      "metadata": {
        "id": "UgSaq0rXrtjZ"
      },
      "source": [
        "We use the full Toyota Corolla dataset to show how to use artificial neural network models for prediction. Compared to the simplified version, the full dataset contains many columns."
      ]
    },
    {
      "cell_type": "code",
      "execution_count": null,
      "metadata": {
        "id": "Cgd363V_rtja"
      },
      "outputs": [],
      "source": [
        "# Import modules\n",
        "import pandas as pd\n",
        "\n",
        "# Import the matplotlib.pyplot\n",
        "import matplotlib.pyplot as plt\n",
        "\n",
        "# Enable inline plotting in notebook\n",
        "%matplotlib inline"
      ]
    },
    {
      "cell_type": "markdown",
      "metadata": {
        "id": "NFiYinHertjb"
      },
      "source": [
        "### 1.1. Import Data"
      ]
    },
    {
      "cell_type": "code",
      "execution_count": null,
      "metadata": {
        "id": "8Ot5qUHlrtjb",
        "outputId": "811041d0-c6e4-4875-8724-d6d1fdf692ae"
      },
      "outputs": [
        {
          "data": {
            "text/html": [
              "<div>\n",
              "<style scoped>\n",
              "    .dataframe tbody tr th:only-of-type {\n",
              "        vertical-align: middle;\n",
              "    }\n",
              "\n",
              "    .dataframe tbody tr th {\n",
              "        vertical-align: top;\n",
              "    }\n",
              "\n",
              "    .dataframe thead th {\n",
              "        text-align: right;\n",
              "    }\n",
              "</style>\n",
              "<table border=\"1\" class=\"dataframe\">\n",
              "  <thead>\n",
              "    <tr style=\"text-align: right;\">\n",
              "      <th></th>\n",
              "      <th>0</th>\n",
              "      <th>1</th>\n",
              "    </tr>\n",
              "  </thead>\n",
              "  <tbody>\n",
              "    <tr>\n",
              "      <th>Id</th>\n",
              "      <td>1</td>\n",
              "      <td>2</td>\n",
              "    </tr>\n",
              "    <tr>\n",
              "      <th>Model</th>\n",
              "      <td>TOYOTA Corolla 2.0 D4D HATCHB TERRA 2/3-Doors</td>\n",
              "      <td>TOYOTA Corolla 2.0 D4D HATCHB TERRA 2/3-Doors</td>\n",
              "    </tr>\n",
              "    <tr>\n",
              "      <th>Price</th>\n",
              "      <td>13500</td>\n",
              "      <td>13750</td>\n",
              "    </tr>\n",
              "    <tr>\n",
              "      <th>Age_08_04</th>\n",
              "      <td>23</td>\n",
              "      <td>23</td>\n",
              "    </tr>\n",
              "    <tr>\n",
              "      <th>Mfg_Month</th>\n",
              "      <td>10</td>\n",
              "      <td>10</td>\n",
              "    </tr>\n",
              "    <tr>\n",
              "      <th>Mfg_Year</th>\n",
              "      <td>2002</td>\n",
              "      <td>2002</td>\n",
              "    </tr>\n",
              "    <tr>\n",
              "      <th>KM</th>\n",
              "      <td>46986</td>\n",
              "      <td>72937</td>\n",
              "    </tr>\n",
              "    <tr>\n",
              "      <th>Fuel_Type</th>\n",
              "      <td>Diesel</td>\n",
              "      <td>Diesel</td>\n",
              "    </tr>\n",
              "    <tr>\n",
              "      <th>HP</th>\n",
              "      <td>90</td>\n",
              "      <td>90</td>\n",
              "    </tr>\n",
              "    <tr>\n",
              "      <th>Met_Color</th>\n",
              "      <td>1</td>\n",
              "      <td>1</td>\n",
              "    </tr>\n",
              "    <tr>\n",
              "      <th>Color</th>\n",
              "      <td>Blue</td>\n",
              "      <td>Silver</td>\n",
              "    </tr>\n",
              "    <tr>\n",
              "      <th>Automatic</th>\n",
              "      <td>0</td>\n",
              "      <td>0</td>\n",
              "    </tr>\n",
              "    <tr>\n",
              "      <th>CC</th>\n",
              "      <td>2000</td>\n",
              "      <td>2000</td>\n",
              "    </tr>\n",
              "    <tr>\n",
              "      <th>Doors</th>\n",
              "      <td>3</td>\n",
              "      <td>3</td>\n",
              "    </tr>\n",
              "    <tr>\n",
              "      <th>Cylinders</th>\n",
              "      <td>4</td>\n",
              "      <td>4</td>\n",
              "    </tr>\n",
              "    <tr>\n",
              "      <th>Gears</th>\n",
              "      <td>5</td>\n",
              "      <td>5</td>\n",
              "    </tr>\n",
              "    <tr>\n",
              "      <th>Quarterly_Tax</th>\n",
              "      <td>210</td>\n",
              "      <td>210</td>\n",
              "    </tr>\n",
              "    <tr>\n",
              "      <th>Weight</th>\n",
              "      <td>1165</td>\n",
              "      <td>1165</td>\n",
              "    </tr>\n",
              "    <tr>\n",
              "      <th>Mfr_Guarantee</th>\n",
              "      <td>0</td>\n",
              "      <td>0</td>\n",
              "    </tr>\n",
              "    <tr>\n",
              "      <th>BOVAG_Guarantee</th>\n",
              "      <td>1</td>\n",
              "      <td>1</td>\n",
              "    </tr>\n",
              "    <tr>\n",
              "      <th>Guarantee_Period</th>\n",
              "      <td>3</td>\n",
              "      <td>3</td>\n",
              "    </tr>\n",
              "    <tr>\n",
              "      <th>ABS</th>\n",
              "      <td>1</td>\n",
              "      <td>1</td>\n",
              "    </tr>\n",
              "    <tr>\n",
              "      <th>Airbag_1</th>\n",
              "      <td>1</td>\n",
              "      <td>1</td>\n",
              "    </tr>\n",
              "    <tr>\n",
              "      <th>Airbag_2</th>\n",
              "      <td>1</td>\n",
              "      <td>1</td>\n",
              "    </tr>\n",
              "    <tr>\n",
              "      <th>Airco</th>\n",
              "      <td>0</td>\n",
              "      <td>1</td>\n",
              "    </tr>\n",
              "    <tr>\n",
              "      <th>Automatic_airco</th>\n",
              "      <td>0</td>\n",
              "      <td>0</td>\n",
              "    </tr>\n",
              "    <tr>\n",
              "      <th>Boardcomputer</th>\n",
              "      <td>1</td>\n",
              "      <td>1</td>\n",
              "    </tr>\n",
              "    <tr>\n",
              "      <th>CD_Player</th>\n",
              "      <td>0</td>\n",
              "      <td>1</td>\n",
              "    </tr>\n",
              "    <tr>\n",
              "      <th>Central_Lock</th>\n",
              "      <td>1</td>\n",
              "      <td>1</td>\n",
              "    </tr>\n",
              "    <tr>\n",
              "      <th>Powered_Windows</th>\n",
              "      <td>1</td>\n",
              "      <td>0</td>\n",
              "    </tr>\n",
              "    <tr>\n",
              "      <th>Power_Steering</th>\n",
              "      <td>1</td>\n",
              "      <td>1</td>\n",
              "    </tr>\n",
              "    <tr>\n",
              "      <th>Radio</th>\n",
              "      <td>0</td>\n",
              "      <td>0</td>\n",
              "    </tr>\n",
              "    <tr>\n",
              "      <th>Mistlamps</th>\n",
              "      <td>0</td>\n",
              "      <td>0</td>\n",
              "    </tr>\n",
              "    <tr>\n",
              "      <th>Sport_Model</th>\n",
              "      <td>0</td>\n",
              "      <td>0</td>\n",
              "    </tr>\n",
              "    <tr>\n",
              "      <th>Backseat_Divider</th>\n",
              "      <td>1</td>\n",
              "      <td>1</td>\n",
              "    </tr>\n",
              "    <tr>\n",
              "      <th>Metallic_Rim</th>\n",
              "      <td>0</td>\n",
              "      <td>0</td>\n",
              "    </tr>\n",
              "    <tr>\n",
              "      <th>Radio_cassette</th>\n",
              "      <td>0</td>\n",
              "      <td>0</td>\n",
              "    </tr>\n",
              "    <tr>\n",
              "      <th>Parking_Assistant</th>\n",
              "      <td>0</td>\n",
              "      <td>0</td>\n",
              "    </tr>\n",
              "    <tr>\n",
              "      <th>Tow_Bar</th>\n",
              "      <td>0</td>\n",
              "      <td>0</td>\n",
              "    </tr>\n",
              "  </tbody>\n",
              "</table>\n",
              "</div>"
            ],
            "text/plain": [
              "                                                               0  \\\n",
              "Id                                                             1   \n",
              "Model              TOYOTA Corolla 2.0 D4D HATCHB TERRA 2/3-Doors   \n",
              "Price                                                      13500   \n",
              "Age_08_04                                                     23   \n",
              "Mfg_Month                                                     10   \n",
              "Mfg_Year                                                    2002   \n",
              "KM                                                         46986   \n",
              "Fuel_Type                                                 Diesel   \n",
              "HP                                                            90   \n",
              "Met_Color                                                      1   \n",
              "Color                                                       Blue   \n",
              "Automatic                                                      0   \n",
              "CC                                                          2000   \n",
              "Doors                                                          3   \n",
              "Cylinders                                                      4   \n",
              "Gears                                                          5   \n",
              "Quarterly_Tax                                                210   \n",
              "Weight                                                      1165   \n",
              "Mfr_Guarantee                                                  0   \n",
              "BOVAG_Guarantee                                                1   \n",
              "Guarantee_Period                                               3   \n",
              "ABS                                                            1   \n",
              "Airbag_1                                                       1   \n",
              "Airbag_2                                                       1   \n",
              "Airco                                                          0   \n",
              "Automatic_airco                                                0   \n",
              "Boardcomputer                                                  1   \n",
              "CD_Player                                                      0   \n",
              "Central_Lock                                                   1   \n",
              "Powered_Windows                                                1   \n",
              "Power_Steering                                                 1   \n",
              "Radio                                                          0   \n",
              "Mistlamps                                                      0   \n",
              "Sport_Model                                                    0   \n",
              "Backseat_Divider                                               1   \n",
              "Metallic_Rim                                                   0   \n",
              "Radio_cassette                                                 0   \n",
              "Parking_Assistant                                              0   \n",
              "Tow_Bar                                                        0   \n",
              "\n",
              "                                                               1  \n",
              "Id                                                             2  \n",
              "Model              TOYOTA Corolla 2.0 D4D HATCHB TERRA 2/3-Doors  \n",
              "Price                                                      13750  \n",
              "Age_08_04                                                     23  \n",
              "Mfg_Month                                                     10  \n",
              "Mfg_Year                                                    2002  \n",
              "KM                                                         72937  \n",
              "Fuel_Type                                                 Diesel  \n",
              "HP                                                            90  \n",
              "Met_Color                                                      1  \n",
              "Color                                                     Silver  \n",
              "Automatic                                                      0  \n",
              "CC                                                          2000  \n",
              "Doors                                                          3  \n",
              "Cylinders                                                      4  \n",
              "Gears                                                          5  \n",
              "Quarterly_Tax                                                210  \n",
              "Weight                                                      1165  \n",
              "Mfr_Guarantee                                                  0  \n",
              "BOVAG_Guarantee                                                1  \n",
              "Guarantee_Period                                               3  \n",
              "ABS                                                            1  \n",
              "Airbag_1                                                       1  \n",
              "Airbag_2                                                       1  \n",
              "Airco                                                          1  \n",
              "Automatic_airco                                                0  \n",
              "Boardcomputer                                                  1  \n",
              "CD_Player                                                      1  \n",
              "Central_Lock                                                   1  \n",
              "Powered_Windows                                                0  \n",
              "Power_Steering                                                 1  \n",
              "Radio                                                          0  \n",
              "Mistlamps                                                      0  \n",
              "Sport_Model                                                    0  \n",
              "Backseat_Divider                                               1  \n",
              "Metallic_Rim                                                   0  \n",
              "Radio_cassette                                                 0  \n",
              "Parking_Assistant                                              0  \n",
              "Tow_Bar                                                        0  "
            ]
          },
          "execution_count": 2,
          "metadata": {},
          "output_type": "execute_result"
        }
      ],
      "source": [
        "dat = pd.read_excel(\"../Data/ToyotaCorolla_FullData.xls\", sheet_name='data')\n",
        "dat.head(2).transpose()"
      ]
    },
    {
      "cell_type": "code",
      "execution_count": null,
      "metadata": {
        "scrolled": false,
        "id": "Xsmk_OAxrtjc",
        "outputId": "09db8c3a-fa26-4284-c7c9-6a03bec82630"
      },
      "outputs": [
        {
          "name": "stdout",
          "output_type": "stream",
          "text": [
            "<class 'pandas.core.frame.DataFrame'>\n",
            "RangeIndex: 1436 entries, 0 to 1435\n",
            "Data columns (total 39 columns):\n",
            " #   Column             Non-Null Count  Dtype \n",
            "---  ------             --------------  ----- \n",
            " 0   Id                 1436 non-null   int64 \n",
            " 1   Model              1436 non-null   object\n",
            " 2   Price              1436 non-null   int64 \n",
            " 3   Age_08_04          1436 non-null   int64 \n",
            " 4   Mfg_Month          1436 non-null   int64 \n",
            " 5   Mfg_Year           1436 non-null   int64 \n",
            " 6   KM                 1436 non-null   int64 \n",
            " 7   Fuel_Type          1436 non-null   object\n",
            " 8   HP                 1436 non-null   int64 \n",
            " 9   Met_Color          1436 non-null   int64 \n",
            " 10  Color              1436 non-null   object\n",
            " 11  Automatic          1436 non-null   int64 \n",
            " 12  CC                 1436 non-null   int64 \n",
            " 13  Doors              1436 non-null   int64 \n",
            " 14  Cylinders          1436 non-null   int64 \n",
            " 15  Gears              1436 non-null   int64 \n",
            " 16  Quarterly_Tax      1436 non-null   int64 \n",
            " 17  Weight             1436 non-null   int64 \n",
            " 18  Mfr_Guarantee      1436 non-null   int64 \n",
            " 19  BOVAG_Guarantee    1436 non-null   int64 \n",
            " 20  Guarantee_Period   1436 non-null   int64 \n",
            " 21  ABS                1436 non-null   int64 \n",
            " 22  Airbag_1           1436 non-null   int64 \n",
            " 23  Airbag_2           1436 non-null   int64 \n",
            " 24  Airco              1436 non-null   int64 \n",
            " 25  Automatic_airco    1436 non-null   int64 \n",
            " 26  Boardcomputer      1436 non-null   int64 \n",
            " 27  CD_Player          1436 non-null   int64 \n",
            " 28  Central_Lock       1436 non-null   int64 \n",
            " 29  Powered_Windows    1436 non-null   int64 \n",
            " 30  Power_Steering     1436 non-null   int64 \n",
            " 31  Radio              1436 non-null   int64 \n",
            " 32  Mistlamps          1436 non-null   int64 \n",
            " 33  Sport_Model        1436 non-null   int64 \n",
            " 34  Backseat_Divider   1436 non-null   int64 \n",
            " 35  Metallic_Rim       1436 non-null   int64 \n",
            " 36  Radio_cassette     1436 non-null   int64 \n",
            " 37  Parking_Assistant  1436 non-null   int64 \n",
            " 38  Tow_Bar            1436 non-null   int64 \n",
            "dtypes: int64(36), object(3)\n",
            "memory usage: 437.7+ KB\n"
          ]
        }
      ],
      "source": [
        "dat.info()"
      ]
    },
    {
      "cell_type": "code",
      "execution_count": null,
      "metadata": {
        "scrolled": false,
        "id": "WJPK_4iGrtjd",
        "outputId": "15dca41a-7e49-48cf-d1b1-721ad751c3ba"
      },
      "outputs": [
        {
          "data": {
            "text/html": [
              "<div>\n",
              "<style scoped>\n",
              "    .dataframe tbody tr th:only-of-type {\n",
              "        vertical-align: middle;\n",
              "    }\n",
              "\n",
              "    .dataframe tbody tr th {\n",
              "        vertical-align: top;\n",
              "    }\n",
              "\n",
              "    .dataframe thead th {\n",
              "        text-align: right;\n",
              "    }\n",
              "</style>\n",
              "<table border=\"1\" class=\"dataframe\">\n",
              "  <thead>\n",
              "    <tr style=\"text-align: right;\">\n",
              "      <th></th>\n",
              "      <th>count</th>\n",
              "      <th>mean</th>\n",
              "      <th>std</th>\n",
              "      <th>min</th>\n",
              "      <th>25%</th>\n",
              "      <th>50%</th>\n",
              "      <th>75%</th>\n",
              "      <th>max</th>\n",
              "    </tr>\n",
              "  </thead>\n",
              "  <tbody>\n",
              "    <tr>\n",
              "      <th>Id</th>\n",
              "      <td>1436.0</td>\n",
              "      <td>721.555014</td>\n",
              "      <td>416.476890</td>\n",
              "      <td>1.0</td>\n",
              "      <td>361.75</td>\n",
              "      <td>721.5</td>\n",
              "      <td>1081.25</td>\n",
              "      <td>1442.0</td>\n",
              "    </tr>\n",
              "    <tr>\n",
              "      <th>Price</th>\n",
              "      <td>1436.0</td>\n",
              "      <td>10730.824513</td>\n",
              "      <td>3626.964585</td>\n",
              "      <td>4350.0</td>\n",
              "      <td>8450.00</td>\n",
              "      <td>9900.0</td>\n",
              "      <td>11950.00</td>\n",
              "      <td>32500.0</td>\n",
              "    </tr>\n",
              "    <tr>\n",
              "      <th>Age_08_04</th>\n",
              "      <td>1436.0</td>\n",
              "      <td>55.947075</td>\n",
              "      <td>18.599988</td>\n",
              "      <td>1.0</td>\n",
              "      <td>44.00</td>\n",
              "      <td>61.0</td>\n",
              "      <td>70.00</td>\n",
              "      <td>80.0</td>\n",
              "    </tr>\n",
              "    <tr>\n",
              "      <th>Mfg_Month</th>\n",
              "      <td>1436.0</td>\n",
              "      <td>5.548747</td>\n",
              "      <td>3.354085</td>\n",
              "      <td>1.0</td>\n",
              "      <td>3.00</td>\n",
              "      <td>5.0</td>\n",
              "      <td>8.00</td>\n",
              "      <td>12.0</td>\n",
              "    </tr>\n",
              "    <tr>\n",
              "      <th>Mfg_Year</th>\n",
              "      <td>1436.0</td>\n",
              "      <td>1999.625348</td>\n",
              "      <td>1.540722</td>\n",
              "      <td>1998.0</td>\n",
              "      <td>1998.00</td>\n",
              "      <td>1999.0</td>\n",
              "      <td>2001.00</td>\n",
              "      <td>2004.0</td>\n",
              "    </tr>\n",
              "    <tr>\n",
              "      <th>KM</th>\n",
              "      <td>1436.0</td>\n",
              "      <td>68533.259749</td>\n",
              "      <td>37506.448872</td>\n",
              "      <td>1.0</td>\n",
              "      <td>43000.00</td>\n",
              "      <td>63389.5</td>\n",
              "      <td>87020.75</td>\n",
              "      <td>243000.0</td>\n",
              "    </tr>\n",
              "    <tr>\n",
              "      <th>HP</th>\n",
              "      <td>1436.0</td>\n",
              "      <td>101.502089</td>\n",
              "      <td>14.981080</td>\n",
              "      <td>69.0</td>\n",
              "      <td>90.00</td>\n",
              "      <td>110.0</td>\n",
              "      <td>110.00</td>\n",
              "      <td>192.0</td>\n",
              "    </tr>\n",
              "    <tr>\n",
              "      <th>Met_Color</th>\n",
              "      <td>1436.0</td>\n",
              "      <td>0.674791</td>\n",
              "      <td>0.468616</td>\n",
              "      <td>0.0</td>\n",
              "      <td>0.00</td>\n",
              "      <td>1.0</td>\n",
              "      <td>1.00</td>\n",
              "      <td>1.0</td>\n",
              "    </tr>\n",
              "    <tr>\n",
              "      <th>Automatic</th>\n",
              "      <td>1436.0</td>\n",
              "      <td>0.055710</td>\n",
              "      <td>0.229441</td>\n",
              "      <td>0.0</td>\n",
              "      <td>0.00</td>\n",
              "      <td>0.0</td>\n",
              "      <td>0.00</td>\n",
              "      <td>1.0</td>\n",
              "    </tr>\n",
              "    <tr>\n",
              "      <th>CC</th>\n",
              "      <td>1436.0</td>\n",
              "      <td>1576.855850</td>\n",
              "      <td>424.386770</td>\n",
              "      <td>1300.0</td>\n",
              "      <td>1400.00</td>\n",
              "      <td>1600.0</td>\n",
              "      <td>1600.00</td>\n",
              "      <td>16000.0</td>\n",
              "    </tr>\n",
              "    <tr>\n",
              "      <th>Doors</th>\n",
              "      <td>1436.0</td>\n",
              "      <td>4.033426</td>\n",
              "      <td>0.952677</td>\n",
              "      <td>2.0</td>\n",
              "      <td>3.00</td>\n",
              "      <td>4.0</td>\n",
              "      <td>5.00</td>\n",
              "      <td>5.0</td>\n",
              "    </tr>\n",
              "    <tr>\n",
              "      <th>Cylinders</th>\n",
              "      <td>1436.0</td>\n",
              "      <td>4.000000</td>\n",
              "      <td>0.000000</td>\n",
              "      <td>4.0</td>\n",
              "      <td>4.00</td>\n",
              "      <td>4.0</td>\n",
              "      <td>4.00</td>\n",
              "      <td>4.0</td>\n",
              "    </tr>\n",
              "    <tr>\n",
              "      <th>Gears</th>\n",
              "      <td>1436.0</td>\n",
              "      <td>5.026462</td>\n",
              "      <td>0.188510</td>\n",
              "      <td>3.0</td>\n",
              "      <td>5.00</td>\n",
              "      <td>5.0</td>\n",
              "      <td>5.00</td>\n",
              "      <td>6.0</td>\n",
              "    </tr>\n",
              "    <tr>\n",
              "      <th>Quarterly_Tax</th>\n",
              "      <td>1436.0</td>\n",
              "      <td>87.122563</td>\n",
              "      <td>41.128611</td>\n",
              "      <td>19.0</td>\n",
              "      <td>69.00</td>\n",
              "      <td>85.0</td>\n",
              "      <td>85.00</td>\n",
              "      <td>283.0</td>\n",
              "    </tr>\n",
              "    <tr>\n",
              "      <th>Weight</th>\n",
              "      <td>1436.0</td>\n",
              "      <td>1072.459610</td>\n",
              "      <td>52.641120</td>\n",
              "      <td>1000.0</td>\n",
              "      <td>1040.00</td>\n",
              "      <td>1070.0</td>\n",
              "      <td>1085.00</td>\n",
              "      <td>1615.0</td>\n",
              "    </tr>\n",
              "    <tr>\n",
              "      <th>Mfr_Guarantee</th>\n",
              "      <td>1436.0</td>\n",
              "      <td>0.409471</td>\n",
              "      <td>0.491907</td>\n",
              "      <td>0.0</td>\n",
              "      <td>0.00</td>\n",
              "      <td>0.0</td>\n",
              "      <td>1.00</td>\n",
              "      <td>1.0</td>\n",
              "    </tr>\n",
              "    <tr>\n",
              "      <th>BOVAG_Guarantee</th>\n",
              "      <td>1436.0</td>\n",
              "      <td>0.895543</td>\n",
              "      <td>0.305959</td>\n",
              "      <td>0.0</td>\n",
              "      <td>1.00</td>\n",
              "      <td>1.0</td>\n",
              "      <td>1.00</td>\n",
              "      <td>1.0</td>\n",
              "    </tr>\n",
              "    <tr>\n",
              "      <th>Guarantee_Period</th>\n",
              "      <td>1436.0</td>\n",
              "      <td>3.815460</td>\n",
              "      <td>3.011025</td>\n",
              "      <td>3.0</td>\n",
              "      <td>3.00</td>\n",
              "      <td>3.0</td>\n",
              "      <td>3.00</td>\n",
              "      <td>36.0</td>\n",
              "    </tr>\n",
              "    <tr>\n",
              "      <th>ABS</th>\n",
              "      <td>1436.0</td>\n",
              "      <td>0.813370</td>\n",
              "      <td>0.389750</td>\n",
              "      <td>0.0</td>\n",
              "      <td>1.00</td>\n",
              "      <td>1.0</td>\n",
              "      <td>1.00</td>\n",
              "      <td>1.0</td>\n",
              "    </tr>\n",
              "    <tr>\n",
              "      <th>Airbag_1</th>\n",
              "      <td>1436.0</td>\n",
              "      <td>0.970752</td>\n",
              "      <td>0.168559</td>\n",
              "      <td>0.0</td>\n",
              "      <td>1.00</td>\n",
              "      <td>1.0</td>\n",
              "      <td>1.00</td>\n",
              "      <td>1.0</td>\n",
              "    </tr>\n",
              "    <tr>\n",
              "      <th>Airbag_2</th>\n",
              "      <td>1436.0</td>\n",
              "      <td>0.722841</td>\n",
              "      <td>0.447751</td>\n",
              "      <td>0.0</td>\n",
              "      <td>0.00</td>\n",
              "      <td>1.0</td>\n",
              "      <td>1.00</td>\n",
              "      <td>1.0</td>\n",
              "    </tr>\n",
              "    <tr>\n",
              "      <th>Airco</th>\n",
              "      <td>1436.0</td>\n",
              "      <td>0.508357</td>\n",
              "      <td>0.500104</td>\n",
              "      <td>0.0</td>\n",
              "      <td>0.00</td>\n",
              "      <td>1.0</td>\n",
              "      <td>1.00</td>\n",
              "      <td>1.0</td>\n",
              "    </tr>\n",
              "    <tr>\n",
              "      <th>Automatic_airco</th>\n",
              "      <td>1436.0</td>\n",
              "      <td>0.056407</td>\n",
              "      <td>0.230786</td>\n",
              "      <td>0.0</td>\n",
              "      <td>0.00</td>\n",
              "      <td>0.0</td>\n",
              "      <td>0.00</td>\n",
              "      <td>1.0</td>\n",
              "    </tr>\n",
              "    <tr>\n",
              "      <th>Boardcomputer</th>\n",
              "      <td>1436.0</td>\n",
              "      <td>0.294568</td>\n",
              "      <td>0.456007</td>\n",
              "      <td>0.0</td>\n",
              "      <td>0.00</td>\n",
              "      <td>0.0</td>\n",
              "      <td>1.00</td>\n",
              "      <td>1.0</td>\n",
              "    </tr>\n",
              "    <tr>\n",
              "      <th>CD_Player</th>\n",
              "      <td>1436.0</td>\n",
              "      <td>0.218663</td>\n",
              "      <td>0.413483</td>\n",
              "      <td>0.0</td>\n",
              "      <td>0.00</td>\n",
              "      <td>0.0</td>\n",
              "      <td>0.00</td>\n",
              "      <td>1.0</td>\n",
              "    </tr>\n",
              "    <tr>\n",
              "      <th>Central_Lock</th>\n",
              "      <td>1436.0</td>\n",
              "      <td>0.580084</td>\n",
              "      <td>0.493717</td>\n",
              "      <td>0.0</td>\n",
              "      <td>0.00</td>\n",
              "      <td>1.0</td>\n",
              "      <td>1.00</td>\n",
              "      <td>1.0</td>\n",
              "    </tr>\n",
              "    <tr>\n",
              "      <th>Powered_Windows</th>\n",
              "      <td>1436.0</td>\n",
              "      <td>0.561978</td>\n",
              "      <td>0.496317</td>\n",
              "      <td>0.0</td>\n",
              "      <td>0.00</td>\n",
              "      <td>1.0</td>\n",
              "      <td>1.00</td>\n",
              "      <td>1.0</td>\n",
              "    </tr>\n",
              "    <tr>\n",
              "      <th>Power_Steering</th>\n",
              "      <td>1436.0</td>\n",
              "      <td>0.977716</td>\n",
              "      <td>0.147657</td>\n",
              "      <td>0.0</td>\n",
              "      <td>1.00</td>\n",
              "      <td>1.0</td>\n",
              "      <td>1.00</td>\n",
              "      <td>1.0</td>\n",
              "    </tr>\n",
              "    <tr>\n",
              "      <th>Radio</th>\n",
              "      <td>1436.0</td>\n",
              "      <td>0.146240</td>\n",
              "      <td>0.353469</td>\n",
              "      <td>0.0</td>\n",
              "      <td>0.00</td>\n",
              "      <td>0.0</td>\n",
              "      <td>0.00</td>\n",
              "      <td>1.0</td>\n",
              "    </tr>\n",
              "    <tr>\n",
              "      <th>Mistlamps</th>\n",
              "      <td>1436.0</td>\n",
              "      <td>0.256964</td>\n",
              "      <td>0.437111</td>\n",
              "      <td>0.0</td>\n",
              "      <td>0.00</td>\n",
              "      <td>0.0</td>\n",
              "      <td>1.00</td>\n",
              "      <td>1.0</td>\n",
              "    </tr>\n",
              "    <tr>\n",
              "      <th>Sport_Model</th>\n",
              "      <td>1436.0</td>\n",
              "      <td>0.300139</td>\n",
              "      <td>0.458478</td>\n",
              "      <td>0.0</td>\n",
              "      <td>0.00</td>\n",
              "      <td>0.0</td>\n",
              "      <td>1.00</td>\n",
              "      <td>1.0</td>\n",
              "    </tr>\n",
              "    <tr>\n",
              "      <th>Backseat_Divider</th>\n",
              "      <td>1436.0</td>\n",
              "      <td>0.770195</td>\n",
              "      <td>0.420854</td>\n",
              "      <td>0.0</td>\n",
              "      <td>1.00</td>\n",
              "      <td>1.0</td>\n",
              "      <td>1.00</td>\n",
              "      <td>1.0</td>\n",
              "    </tr>\n",
              "    <tr>\n",
              "      <th>Metallic_Rim</th>\n",
              "      <td>1436.0</td>\n",
              "      <td>0.204735</td>\n",
              "      <td>0.403649</td>\n",
              "      <td>0.0</td>\n",
              "      <td>0.00</td>\n",
              "      <td>0.0</td>\n",
              "      <td>0.00</td>\n",
              "      <td>1.0</td>\n",
              "    </tr>\n",
              "    <tr>\n",
              "      <th>Radio_cassette</th>\n",
              "      <td>1436.0</td>\n",
              "      <td>0.145543</td>\n",
              "      <td>0.352770</td>\n",
              "      <td>0.0</td>\n",
              "      <td>0.00</td>\n",
              "      <td>0.0</td>\n",
              "      <td>0.00</td>\n",
              "      <td>1.0</td>\n",
              "    </tr>\n",
              "    <tr>\n",
              "      <th>Parking_Assistant</th>\n",
              "      <td>1436.0</td>\n",
              "      <td>0.002786</td>\n",
              "      <td>0.052723</td>\n",
              "      <td>0.0</td>\n",
              "      <td>0.00</td>\n",
              "      <td>0.0</td>\n",
              "      <td>0.00</td>\n",
              "      <td>1.0</td>\n",
              "    </tr>\n",
              "    <tr>\n",
              "      <th>Tow_Bar</th>\n",
              "      <td>1436.0</td>\n",
              "      <td>0.277855</td>\n",
              "      <td>0.448098</td>\n",
              "      <td>0.0</td>\n",
              "      <td>0.00</td>\n",
              "      <td>0.0</td>\n",
              "      <td>1.00</td>\n",
              "      <td>1.0</td>\n",
              "    </tr>\n",
              "  </tbody>\n",
              "</table>\n",
              "</div>"
            ],
            "text/plain": [
              "                    count          mean           std     min       25%  \\\n",
              "Id                 1436.0    721.555014    416.476890     1.0    361.75   \n",
              "Price              1436.0  10730.824513   3626.964585  4350.0   8450.00   \n",
              "Age_08_04          1436.0     55.947075     18.599988     1.0     44.00   \n",
              "Mfg_Month          1436.0      5.548747      3.354085     1.0      3.00   \n",
              "Mfg_Year           1436.0   1999.625348      1.540722  1998.0   1998.00   \n",
              "KM                 1436.0  68533.259749  37506.448872     1.0  43000.00   \n",
              "HP                 1436.0    101.502089     14.981080    69.0     90.00   \n",
              "Met_Color          1436.0      0.674791      0.468616     0.0      0.00   \n",
              "Automatic          1436.0      0.055710      0.229441     0.0      0.00   \n",
              "CC                 1436.0   1576.855850    424.386770  1300.0   1400.00   \n",
              "Doors              1436.0      4.033426      0.952677     2.0      3.00   \n",
              "Cylinders          1436.0      4.000000      0.000000     4.0      4.00   \n",
              "Gears              1436.0      5.026462      0.188510     3.0      5.00   \n",
              "Quarterly_Tax      1436.0     87.122563     41.128611    19.0     69.00   \n",
              "Weight             1436.0   1072.459610     52.641120  1000.0   1040.00   \n",
              "Mfr_Guarantee      1436.0      0.409471      0.491907     0.0      0.00   \n",
              "BOVAG_Guarantee    1436.0      0.895543      0.305959     0.0      1.00   \n",
              "Guarantee_Period   1436.0      3.815460      3.011025     3.0      3.00   \n",
              "ABS                1436.0      0.813370      0.389750     0.0      1.00   \n",
              "Airbag_1           1436.0      0.970752      0.168559     0.0      1.00   \n",
              "Airbag_2           1436.0      0.722841      0.447751     0.0      0.00   \n",
              "Airco              1436.0      0.508357      0.500104     0.0      0.00   \n",
              "Automatic_airco    1436.0      0.056407      0.230786     0.0      0.00   \n",
              "Boardcomputer      1436.0      0.294568      0.456007     0.0      0.00   \n",
              "CD_Player          1436.0      0.218663      0.413483     0.0      0.00   \n",
              "Central_Lock       1436.0      0.580084      0.493717     0.0      0.00   \n",
              "Powered_Windows    1436.0      0.561978      0.496317     0.0      0.00   \n",
              "Power_Steering     1436.0      0.977716      0.147657     0.0      1.00   \n",
              "Radio              1436.0      0.146240      0.353469     0.0      0.00   \n",
              "Mistlamps          1436.0      0.256964      0.437111     0.0      0.00   \n",
              "Sport_Model        1436.0      0.300139      0.458478     0.0      0.00   \n",
              "Backseat_Divider   1436.0      0.770195      0.420854     0.0      1.00   \n",
              "Metallic_Rim       1436.0      0.204735      0.403649     0.0      0.00   \n",
              "Radio_cassette     1436.0      0.145543      0.352770     0.0      0.00   \n",
              "Parking_Assistant  1436.0      0.002786      0.052723     0.0      0.00   \n",
              "Tow_Bar            1436.0      0.277855      0.448098     0.0      0.00   \n",
              "\n",
              "                       50%       75%       max  \n",
              "Id                   721.5   1081.25    1442.0  \n",
              "Price               9900.0  11950.00   32500.0  \n",
              "Age_08_04             61.0     70.00      80.0  \n",
              "Mfg_Month              5.0      8.00      12.0  \n",
              "Mfg_Year            1999.0   2001.00    2004.0  \n",
              "KM                 63389.5  87020.75  243000.0  \n",
              "HP                   110.0    110.00     192.0  \n",
              "Met_Color              1.0      1.00       1.0  \n",
              "Automatic              0.0      0.00       1.0  \n",
              "CC                  1600.0   1600.00   16000.0  \n",
              "Doors                  4.0      5.00       5.0  \n",
              "Cylinders              4.0      4.00       4.0  \n",
              "Gears                  5.0      5.00       6.0  \n",
              "Quarterly_Tax         85.0     85.00     283.0  \n",
              "Weight              1070.0   1085.00    1615.0  \n",
              "Mfr_Guarantee          0.0      1.00       1.0  \n",
              "BOVAG_Guarantee        1.0      1.00       1.0  \n",
              "Guarantee_Period       3.0      3.00      36.0  \n",
              "ABS                    1.0      1.00       1.0  \n",
              "Airbag_1               1.0      1.00       1.0  \n",
              "Airbag_2               1.0      1.00       1.0  \n",
              "Airco                  1.0      1.00       1.0  \n",
              "Automatic_airco        0.0      0.00       1.0  \n",
              "Boardcomputer          0.0      1.00       1.0  \n",
              "CD_Player              0.0      0.00       1.0  \n",
              "Central_Lock           1.0      1.00       1.0  \n",
              "Powered_Windows        1.0      1.00       1.0  \n",
              "Power_Steering         1.0      1.00       1.0  \n",
              "Radio                  0.0      0.00       1.0  \n",
              "Mistlamps              0.0      1.00       1.0  \n",
              "Sport_Model            0.0      1.00       1.0  \n",
              "Backseat_Divider       1.0      1.00       1.0  \n",
              "Metallic_Rim           0.0      0.00       1.0  \n",
              "Radio_cassette         0.0      0.00       1.0  \n",
              "Parking_Assistant      0.0      0.00       1.0  \n",
              "Tow_Bar                0.0      1.00       1.0  "
            ]
          },
          "execution_count": 4,
          "metadata": {},
          "output_type": "execute_result"
        }
      ],
      "source": [
        "# Get the descriptive summary\n",
        "dat.describe().transpose()"
      ]
    },
    {
      "cell_type": "markdown",
      "metadata": {
        "id": "vQbxQ1E_rtjd"
      },
      "source": [
        "### 1.2. Data Transformation"
      ]
    },
    {
      "cell_type": "markdown",
      "metadata": {
        "id": "s7Jqx7Dlrtje"
      },
      "source": [
        "The categorical/string columns cannot be directly used as input for most algorithms. Let's create dummies for them."
      ]
    },
    {
      "cell_type": "code",
      "execution_count": null,
      "metadata": {
        "id": "Y_TthjX1rtjf"
      },
      "outputs": [],
      "source": [
        "# Create y\n",
        "y = dat['Price'].copy()"
      ]
    },
    {
      "cell_type": "code",
      "execution_count": null,
      "metadata": {
        "id": "2GOsqVzRrtjf",
        "outputId": "73248c57-0e06-471e-a1ee-ef3b06d87aee"
      },
      "outputs": [
        {
          "name": "stdout",
          "output_type": "stream",
          "text": [
            "<class 'pandas.core.frame.DataFrame'>\n",
            "RangeIndex: 1436 entries, 0 to 1435\n",
            "Data columns (total 47 columns):\n",
            " #   Column             Non-Null Count  Dtype\n",
            "---  ------             --------------  -----\n",
            " 0   Age_08_04          1436 non-null   int64\n",
            " 1   Mfg_Month          1436 non-null   int64\n",
            " 2   Mfg_Year           1436 non-null   int64\n",
            " 3   KM                 1436 non-null   int64\n",
            " 4   HP                 1436 non-null   int64\n",
            " 5   Met_Color          1436 non-null   int64\n",
            " 6   Automatic          1436 non-null   int64\n",
            " 7   CC                 1436 non-null   int64\n",
            " 8   Doors              1436 non-null   int64\n",
            " 9   Cylinders          1436 non-null   int64\n",
            " 10  Gears              1436 non-null   int64\n",
            " 11  Quarterly_Tax      1436 non-null   int64\n",
            " 12  Weight             1436 non-null   int64\n",
            " 13  Mfr_Guarantee      1436 non-null   int64\n",
            " 14  BOVAG_Guarantee    1436 non-null   int64\n",
            " 15  Guarantee_Period   1436 non-null   int64\n",
            " 16  ABS                1436 non-null   int64\n",
            " 17  Airbag_1           1436 non-null   int64\n",
            " 18  Airbag_2           1436 non-null   int64\n",
            " 19  Airco              1436 non-null   int64\n",
            " 20  Automatic_airco    1436 non-null   int64\n",
            " 21  Boardcomputer      1436 non-null   int64\n",
            " 22  CD_Player          1436 non-null   int64\n",
            " 23  Central_Lock       1436 non-null   int64\n",
            " 24  Powered_Windows    1436 non-null   int64\n",
            " 25  Power_Steering     1436 non-null   int64\n",
            " 26  Radio              1436 non-null   int64\n",
            " 27  Mistlamps          1436 non-null   int64\n",
            " 28  Sport_Model        1436 non-null   int64\n",
            " 29  Backseat_Divider   1436 non-null   int64\n",
            " 30  Metallic_Rim       1436 non-null   int64\n",
            " 31  Radio_cassette     1436 non-null   int64\n",
            " 32  Parking_Assistant  1436 non-null   int64\n",
            " 33  Tow_Bar            1436 non-null   int64\n",
            " 34  Fuel_Type_CNG      1436 non-null   uint8\n",
            " 35  Fuel_Type_Diesel   1436 non-null   uint8\n",
            " 36  Fuel_Type_Petrol   1436 non-null   uint8\n",
            " 37  Color_Beige        1436 non-null   uint8\n",
            " 38  Color_Black        1436 non-null   uint8\n",
            " 39  Color_Blue         1436 non-null   uint8\n",
            " 40  Color_Green        1436 non-null   uint8\n",
            " 41  Color_Grey         1436 non-null   uint8\n",
            " 42  Color_Red          1436 non-null   uint8\n",
            " 43  Color_Silver       1436 non-null   uint8\n",
            " 44  Color_Violet       1436 non-null   uint8\n",
            " 45  Color_White        1436 non-null   uint8\n",
            " 46  Color_Yellow       1436 non-null   uint8\n",
            "dtypes: int64(34), uint8(13)\n",
            "memory usage: 399.8 KB\n"
          ]
        }
      ],
      "source": [
        "# Convert Fuel_Type and Color into dummies and drop ID and Model\n",
        "X = pd.get_dummies(data=dat.drop(['Id','Model','Price'], axis=1),\n",
        "                   columns=['Fuel_Type','Color'],\n",
        "                   prefix = ['Fuel_Type','Color'])\n",
        "X.info()"
      ]
    },
    {
      "cell_type": "code",
      "execution_count": null,
      "metadata": {
        "id": "Ykgmg3CBrtjg",
        "outputId": "54a9e6d7-06a0-4d93-ed09-1152e0832dc9"
      },
      "outputs": [
        {
          "data": {
            "text/plain": [
              "(1436, 47)"
            ]
          },
          "execution_count": 7,
          "metadata": {},
          "output_type": "execute_result"
        }
      ],
      "source": [
        "X.shape"
      ]
    },
    {
      "cell_type": "code",
      "execution_count": null,
      "metadata": {
        "id": "LikujNgrrtjg",
        "outputId": "e51598c4-961f-4a7c-95d0-db5809bc0e3e"
      },
      "outputs": [
        {
          "data": {
            "text/plain": [
              "(1436,)"
            ]
          },
          "execution_count": 8,
          "metadata": {},
          "output_type": "execute_result"
        }
      ],
      "source": [
        "y.shape"
      ]
    },
    {
      "cell_type": "markdown",
      "metadata": {
        "id": "4kPyO3oqrtjg"
      },
      "source": [
        "### 1.3. Data Partition"
      ]
    },
    {
      "cell_type": "code",
      "execution_count": null,
      "metadata": {
        "id": "tXctdSihrtjh"
      },
      "outputs": [],
      "source": [
        "from sklearn.model_selection import train_test_split"
      ]
    },
    {
      "cell_type": "code",
      "execution_count": null,
      "metadata": {
        "id": "w6bqjOqgrtjh"
      },
      "outputs": [],
      "source": [
        "# 30-70% simple split\n",
        "# To make the result reproducible, set the random_state\n",
        "train_y,test_y,train_X,test_X = train_test_split(y, X,\n",
        "                                                 test_size=0.3,\n",
        "                                                 random_state=123)"
      ]
    },
    {
      "cell_type": "code",
      "execution_count": null,
      "metadata": {
        "id": "QicgZPrCrtjh",
        "outputId": "551b6091-36c8-42a8-fe3f-701627ab6f73"
      },
      "outputs": [
        {
          "data": {
            "text/plain": [
              "(1005,)"
            ]
          },
          "execution_count": 11,
          "metadata": {},
          "output_type": "execute_result"
        }
      ],
      "source": [
        "train_y.shape"
      ]
    },
    {
      "cell_type": "code",
      "execution_count": null,
      "metadata": {
        "id": "ib61uMlArtjh",
        "outputId": "180f95c2-05b5-45b1-918d-5fc8b3da7aea"
      },
      "outputs": [
        {
          "data": {
            "text/plain": [
              "(1005, 47)"
            ]
          },
          "execution_count": 12,
          "metadata": {},
          "output_type": "execute_result"
        }
      ],
      "source": [
        "train_X.shape"
      ]
    },
    {
      "cell_type": "code",
      "execution_count": null,
      "metadata": {
        "id": "lz_7yvlHrtji",
        "outputId": "ad48ce59-d547-4809-c2ab-0e74ccee16f7"
      },
      "outputs": [
        {
          "data": {
            "text/plain": [
              "(431,)"
            ]
          },
          "execution_count": 13,
          "metadata": {},
          "output_type": "execute_result"
        }
      ],
      "source": [
        "test_y.shape"
      ]
    },
    {
      "cell_type": "code",
      "execution_count": null,
      "metadata": {
        "scrolled": true,
        "id": "Ng2KJeXZrtji",
        "outputId": "1cd21cb3-f1da-4518-fdd2-b839d112919f"
      },
      "outputs": [
        {
          "data": {
            "text/plain": [
              "(431, 47)"
            ]
          },
          "execution_count": 14,
          "metadata": {},
          "output_type": "execute_result"
        }
      ],
      "source": [
        "test_X.shape"
      ]
    },
    {
      "cell_type": "markdown",
      "metadata": {
        "id": "A9w9Ib6trtji"
      },
      "source": [
        "### 1.4. Data Normalization\n",
        "\n",
        "Also, it's usually recommended to normalize data before apply the neural network model. We normalize the predictor variables to the range of [0, 1]. We can the sklearn.preprocessing module to normalize variables.\n",
        "\n",
        "Here we train the normalizer (scaler) by the training dataset. Then apply the normalizer to transform both the training and test sets."
      ]
    },
    {
      "cell_type": "code",
      "execution_count": null,
      "metadata": {
        "id": "fIivbL1Trtjj"
      },
      "outputs": [],
      "source": [
        "from sklearn import preprocessing"
      ]
    },
    {
      "cell_type": "code",
      "execution_count": null,
      "metadata": {
        "id": "8z9X8iQartjj",
        "outputId": "407eaab2-0723-4e71-a49a-57d62c83c54f"
      },
      "outputs": [
        {
          "name": "stderr",
          "output_type": "stream",
          "text": [
            "c:\\users\\chenla\\appdata\\local\\programs\\python\\python36\\lib\\site-packages\\sklearn\\preprocessing\\data.py:323: DataConversionWarning: Data with input dtype uint8, int64 were all converted to float64 by MinMaxScaler.\n",
            "  return self.partial_fit(X, y)\n"
          ]
        }
      ],
      "source": [
        "train_scale = preprocessing.MinMaxScaler().fit(train_X)"
      ]
    },
    {
      "cell_type": "code",
      "execution_count": null,
      "metadata": {
        "id": "EI_c8QDNrtjj",
        "outputId": "d34c1ce5-65d8-45bd-9565-4801b095496d"
      },
      "outputs": [
        {
          "data": {
            "text/html": [
              "<div>\n",
              "<style scoped>\n",
              "    .dataframe tbody tr th:only-of-type {\n",
              "        vertical-align: middle;\n",
              "    }\n",
              "\n",
              "    .dataframe tbody tr th {\n",
              "        vertical-align: top;\n",
              "    }\n",
              "\n",
              "    .dataframe thead th {\n",
              "        text-align: right;\n",
              "    }\n",
              "</style>\n",
              "<table border=\"1\" class=\"dataframe\">\n",
              "  <thead>\n",
              "    <tr style=\"text-align: right;\">\n",
              "      <th></th>\n",
              "      <th>count</th>\n",
              "      <th>mean</th>\n",
              "      <th>std</th>\n",
              "      <th>min</th>\n",
              "      <th>25%</th>\n",
              "      <th>50%</th>\n",
              "      <th>75%</th>\n",
              "      <th>max</th>\n",
              "    </tr>\n",
              "  </thead>\n",
              "  <tbody>\n",
              "    <tr>\n",
              "      <th>Age_08_04</th>\n",
              "      <td>1005.0</td>\n",
              "      <td>0.696173</td>\n",
              "      <td>0.234387</td>\n",
              "      <td>0.0</td>\n",
              "      <td>0.538462</td>\n",
              "      <td>0.756410</td>\n",
              "      <td>0.871795</td>\n",
              "      <td>1.0</td>\n",
              "    </tr>\n",
              "    <tr>\n",
              "      <th>Mfg_Month</th>\n",
              "      <td>1005.0</td>\n",
              "      <td>0.419810</td>\n",
              "      <td>0.304760</td>\n",
              "      <td>0.0</td>\n",
              "      <td>0.181818</td>\n",
              "      <td>0.363636</td>\n",
              "      <td>0.636364</td>\n",
              "      <td>1.0</td>\n",
              "    </tr>\n",
              "    <tr>\n",
              "      <th>Mfg_Year</th>\n",
              "      <td>1005.0</td>\n",
              "      <td>0.265008</td>\n",
              "      <td>0.253304</td>\n",
              "      <td>0.0</td>\n",
              "      <td>0.000000</td>\n",
              "      <td>0.166667</td>\n",
              "      <td>0.500000</td>\n",
              "      <td>1.0</td>\n",
              "    </tr>\n",
              "    <tr>\n",
              "      <th>KM</th>\n",
              "      <td>1005.0</td>\n",
              "      <td>0.296967</td>\n",
              "      <td>0.161147</td>\n",
              "      <td>0.0</td>\n",
              "      <td>0.187212</td>\n",
              "      <td>0.273179</td>\n",
              "      <td>0.380718</td>\n",
              "      <td>1.0</td>\n",
              "    </tr>\n",
              "    <tr>\n",
              "      <th>HP</th>\n",
              "      <td>1005.0</td>\n",
              "      <td>0.265041</td>\n",
              "      <td>0.122945</td>\n",
              "      <td>0.0</td>\n",
              "      <td>0.170732</td>\n",
              "      <td>0.333333</td>\n",
              "      <td>0.333333</td>\n",
              "      <td>1.0</td>\n",
              "    </tr>\n",
              "    <tr>\n",
              "      <th>Met_Color</th>\n",
              "      <td>1005.0</td>\n",
              "      <td>0.672637</td>\n",
              "      <td>0.469485</td>\n",
              "      <td>0.0</td>\n",
              "      <td>0.000000</td>\n",
              "      <td>1.000000</td>\n",
              "      <td>1.000000</td>\n",
              "      <td>1.0</td>\n",
              "    </tr>\n",
              "    <tr>\n",
              "      <th>Automatic</th>\n",
              "      <td>1005.0</td>\n",
              "      <td>0.057711</td>\n",
              "      <td>0.233313</td>\n",
              "      <td>0.0</td>\n",
              "      <td>0.000000</td>\n",
              "      <td>0.000000</td>\n",
              "      <td>0.000000</td>\n",
              "      <td>1.0</td>\n",
              "    </tr>\n",
              "    <tr>\n",
              "      <th>CC</th>\n",
              "      <td>1005.0</td>\n",
              "      <td>0.019410</td>\n",
              "      <td>0.033492</td>\n",
              "      <td>0.0</td>\n",
              "      <td>0.006803</td>\n",
              "      <td>0.020408</td>\n",
              "      <td>0.020408</td>\n",
              "      <td>1.0</td>\n",
              "    </tr>\n",
              "    <tr>\n",
              "      <th>Doors</th>\n",
              "      <td>1005.0</td>\n",
              "      <td>0.670978</td>\n",
              "      <td>0.316793</td>\n",
              "      <td>0.0</td>\n",
              "      <td>0.333333</td>\n",
              "      <td>0.666667</td>\n",
              "      <td>1.000000</td>\n",
              "      <td>1.0</td>\n",
              "    </tr>\n",
              "    <tr>\n",
              "      <th>Cylinders</th>\n",
              "      <td>1005.0</td>\n",
              "      <td>0.000000</td>\n",
              "      <td>0.000000</td>\n",
              "      <td>0.0</td>\n",
              "      <td>0.000000</td>\n",
              "      <td>0.000000</td>\n",
              "      <td>0.000000</td>\n",
              "      <td>0.0</td>\n",
              "    </tr>\n",
              "    <tr>\n",
              "      <th>Gears</th>\n",
              "      <td>1005.0</td>\n",
              "      <td>0.675290</td>\n",
              "      <td>0.065972</td>\n",
              "      <td>0.0</td>\n",
              "      <td>0.666667</td>\n",
              "      <td>0.666667</td>\n",
              "      <td>0.666667</td>\n",
              "      <td>1.0</td>\n",
              "    </tr>\n",
              "    <tr>\n",
              "      <th>Quarterly_Tax</th>\n",
              "      <td>1005.0</td>\n",
              "      <td>0.260866</td>\n",
              "      <td>0.154396</td>\n",
              "      <td>0.0</td>\n",
              "      <td>0.189394</td>\n",
              "      <td>0.250000</td>\n",
              "      <td>0.250000</td>\n",
              "      <td>1.0</td>\n",
              "    </tr>\n",
              "    <tr>\n",
              "      <th>Weight</th>\n",
              "      <td>1005.0</td>\n",
              "      <td>0.148673</td>\n",
              "      <td>0.101306</td>\n",
              "      <td>0.0</td>\n",
              "      <td>0.083333</td>\n",
              "      <td>0.135417</td>\n",
              "      <td>0.177083</td>\n",
              "      <td>1.0</td>\n",
              "    </tr>\n",
              "    <tr>\n",
              "      <th>Mfr_Guarantee</th>\n",
              "      <td>1005.0</td>\n",
              "      <td>0.409950</td>\n",
              "      <td>0.492069</td>\n",
              "      <td>0.0</td>\n",
              "      <td>0.000000</td>\n",
              "      <td>0.000000</td>\n",
              "      <td>1.000000</td>\n",
              "      <td>1.0</td>\n",
              "    </tr>\n",
              "    <tr>\n",
              "      <th>BOVAG_Guarantee</th>\n",
              "      <td>1005.0</td>\n",
              "      <td>0.907463</td>\n",
              "      <td>0.289927</td>\n",
              "      <td>0.0</td>\n",
              "      <td>1.000000</td>\n",
              "      <td>1.000000</td>\n",
              "      <td>1.000000</td>\n",
              "      <td>1.0</td>\n",
              "    </tr>\n",
              "    <tr>\n",
              "      <th>Guarantee_Period</th>\n",
              "      <td>1005.0</td>\n",
              "      <td>0.023157</td>\n",
              "      <td>0.081099</td>\n",
              "      <td>0.0</td>\n",
              "      <td>0.000000</td>\n",
              "      <td>0.000000</td>\n",
              "      <td>0.000000</td>\n",
              "      <td>1.0</td>\n",
              "    </tr>\n",
              "    <tr>\n",
              "      <th>ABS</th>\n",
              "      <td>1005.0</td>\n",
              "      <td>0.814925</td>\n",
              "      <td>0.388551</td>\n",
              "      <td>0.0</td>\n",
              "      <td>1.000000</td>\n",
              "      <td>1.000000</td>\n",
              "      <td>1.000000</td>\n",
              "      <td>1.0</td>\n",
              "    </tr>\n",
              "    <tr>\n",
              "      <th>Airbag_1</th>\n",
              "      <td>1005.0</td>\n",
              "      <td>0.967164</td>\n",
              "      <td>0.178295</td>\n",
              "      <td>0.0</td>\n",
              "      <td>1.000000</td>\n",
              "      <td>1.000000</td>\n",
              "      <td>1.000000</td>\n",
              "      <td>1.0</td>\n",
              "    </tr>\n",
              "    <tr>\n",
              "      <th>Airbag_2</th>\n",
              "      <td>1005.0</td>\n",
              "      <td>0.733333</td>\n",
              "      <td>0.442437</td>\n",
              "      <td>0.0</td>\n",
              "      <td>0.000000</td>\n",
              "      <td>1.000000</td>\n",
              "      <td>1.000000</td>\n",
              "      <td>1.0</td>\n",
              "    </tr>\n",
              "    <tr>\n",
              "      <th>Airco</th>\n",
              "      <td>1005.0</td>\n",
              "      <td>0.499502</td>\n",
              "      <td>0.500249</td>\n",
              "      <td>0.0</td>\n",
              "      <td>0.000000</td>\n",
              "      <td>0.000000</td>\n",
              "      <td>1.000000</td>\n",
              "      <td>1.0</td>\n",
              "    </tr>\n",
              "    <tr>\n",
              "      <th>Automatic_airco</th>\n",
              "      <td>1005.0</td>\n",
              "      <td>0.055721</td>\n",
              "      <td>0.229497</td>\n",
              "      <td>0.0</td>\n",
              "      <td>0.000000</td>\n",
              "      <td>0.000000</td>\n",
              "      <td>0.000000</td>\n",
              "      <td>1.0</td>\n",
              "    </tr>\n",
              "    <tr>\n",
              "      <th>Boardcomputer</th>\n",
              "      <td>1005.0</td>\n",
              "      <td>0.282587</td>\n",
              "      <td>0.450481</td>\n",
              "      <td>0.0</td>\n",
              "      <td>0.000000</td>\n",
              "      <td>0.000000</td>\n",
              "      <td>1.000000</td>\n",
              "      <td>1.0</td>\n",
              "    </tr>\n",
              "    <tr>\n",
              "      <th>CD_Player</th>\n",
              "      <td>1005.0</td>\n",
              "      <td>0.214925</td>\n",
              "      <td>0.410975</td>\n",
              "      <td>0.0</td>\n",
              "      <td>0.000000</td>\n",
              "      <td>0.000000</td>\n",
              "      <td>0.000000</td>\n",
              "      <td>1.0</td>\n",
              "    </tr>\n",
              "    <tr>\n",
              "      <th>Central_Lock</th>\n",
              "      <td>1005.0</td>\n",
              "      <td>0.566169</td>\n",
              "      <td>0.495849</td>\n",
              "      <td>0.0</td>\n",
              "      <td>0.000000</td>\n",
              "      <td>1.000000</td>\n",
              "      <td>1.000000</td>\n",
              "      <td>1.0</td>\n",
              "    </tr>\n",
              "    <tr>\n",
              "      <th>Powered_Windows</th>\n",
              "      <td>1005.0</td>\n",
              "      <td>0.546269</td>\n",
              "      <td>0.498102</td>\n",
              "      <td>0.0</td>\n",
              "      <td>0.000000</td>\n",
              "      <td>1.000000</td>\n",
              "      <td>1.000000</td>\n",
              "      <td>1.0</td>\n",
              "    </tr>\n",
              "    <tr>\n",
              "      <th>Power_Steering</th>\n",
              "      <td>1005.0</td>\n",
              "      <td>0.974129</td>\n",
              "      <td>0.158828</td>\n",
              "      <td>0.0</td>\n",
              "      <td>1.000000</td>\n",
              "      <td>1.000000</td>\n",
              "      <td>1.000000</td>\n",
              "      <td>1.0</td>\n",
              "    </tr>\n",
              "    <tr>\n",
              "      <th>Radio</th>\n",
              "      <td>1005.0</td>\n",
              "      <td>0.140299</td>\n",
              "      <td>0.347469</td>\n",
              "      <td>0.0</td>\n",
              "      <td>0.000000</td>\n",
              "      <td>0.000000</td>\n",
              "      <td>0.000000</td>\n",
              "      <td>1.0</td>\n",
              "    </tr>\n",
              "    <tr>\n",
              "      <th>Mistlamps</th>\n",
              "      <td>1005.0</td>\n",
              "      <td>0.249751</td>\n",
              "      <td>0.433085</td>\n",
              "      <td>0.0</td>\n",
              "      <td>0.000000</td>\n",
              "      <td>0.000000</td>\n",
              "      <td>0.000000</td>\n",
              "      <td>1.0</td>\n",
              "    </tr>\n",
              "    <tr>\n",
              "      <th>Sport_Model</th>\n",
              "      <td>1005.0</td>\n",
              "      <td>0.305473</td>\n",
              "      <td>0.460837</td>\n",
              "      <td>0.0</td>\n",
              "      <td>0.000000</td>\n",
              "      <td>0.000000</td>\n",
              "      <td>1.000000</td>\n",
              "      <td>1.0</td>\n",
              "    </tr>\n",
              "    <tr>\n",
              "      <th>Backseat_Divider</th>\n",
              "      <td>1005.0</td>\n",
              "      <td>0.772139</td>\n",
              "      <td>0.419661</td>\n",
              "      <td>0.0</td>\n",
              "      <td>1.000000</td>\n",
              "      <td>1.000000</td>\n",
              "      <td>1.000000</td>\n",
              "      <td>1.0</td>\n",
              "    </tr>\n",
              "    <tr>\n",
              "      <th>Metallic_Rim</th>\n",
              "      <td>1005.0</td>\n",
              "      <td>0.204975</td>\n",
              "      <td>0.403884</td>\n",
              "      <td>0.0</td>\n",
              "      <td>0.000000</td>\n",
              "      <td>0.000000</td>\n",
              "      <td>0.000000</td>\n",
              "      <td>1.0</td>\n",
              "    </tr>\n",
              "    <tr>\n",
              "      <th>Radio_cassette</th>\n",
              "      <td>1005.0</td>\n",
              "      <td>0.139303</td>\n",
              "      <td>0.346435</td>\n",
              "      <td>0.0</td>\n",
              "      <td>0.000000</td>\n",
              "      <td>0.000000</td>\n",
              "      <td>0.000000</td>\n",
              "      <td>1.0</td>\n",
              "    </tr>\n",
              "    <tr>\n",
              "      <th>Parking_Assistant</th>\n",
              "      <td>1005.0</td>\n",
              "      <td>0.001990</td>\n",
              "      <td>0.044588</td>\n",
              "      <td>0.0</td>\n",
              "      <td>0.000000</td>\n",
              "      <td>0.000000</td>\n",
              "      <td>0.000000</td>\n",
              "      <td>1.0</td>\n",
              "    </tr>\n",
              "    <tr>\n",
              "      <th>Tow_Bar</th>\n",
              "      <td>1005.0</td>\n",
              "      <td>0.285572</td>\n",
              "      <td>0.451911</td>\n",
              "      <td>0.0</td>\n",
              "      <td>0.000000</td>\n",
              "      <td>0.000000</td>\n",
              "      <td>1.000000</td>\n",
              "      <td>1.0</td>\n",
              "    </tr>\n",
              "    <tr>\n",
              "      <th>Fuel_Type_CNG</th>\n",
              "      <td>1005.0</td>\n",
              "      <td>0.012935</td>\n",
              "      <td>0.113052</td>\n",
              "      <td>0.0</td>\n",
              "      <td>0.000000</td>\n",
              "      <td>0.000000</td>\n",
              "      <td>0.000000</td>\n",
              "      <td>1.0</td>\n",
              "    </tr>\n",
              "    <tr>\n",
              "      <th>Fuel_Type_Diesel</th>\n",
              "      <td>1005.0</td>\n",
              "      <td>0.111443</td>\n",
              "      <td>0.314836</td>\n",
              "      <td>0.0</td>\n",
              "      <td>0.000000</td>\n",
              "      <td>0.000000</td>\n",
              "      <td>0.000000</td>\n",
              "      <td>1.0</td>\n",
              "    </tr>\n",
              "    <tr>\n",
              "      <th>Fuel_Type_Petrol</th>\n",
              "      <td>1005.0</td>\n",
              "      <td>0.875622</td>\n",
              "      <td>0.330177</td>\n",
              "      <td>0.0</td>\n",
              "      <td>1.000000</td>\n",
              "      <td>1.000000</td>\n",
              "      <td>1.000000</td>\n",
              "      <td>1.0</td>\n",
              "    </tr>\n",
              "    <tr>\n",
              "      <th>Color_Beige</th>\n",
              "      <td>1005.0</td>\n",
              "      <td>0.001990</td>\n",
              "      <td>0.044588</td>\n",
              "      <td>0.0</td>\n",
              "      <td>0.000000</td>\n",
              "      <td>0.000000</td>\n",
              "      <td>0.000000</td>\n",
              "      <td>1.0</td>\n",
              "    </tr>\n",
              "    <tr>\n",
              "      <th>Color_Black</th>\n",
              "      <td>1005.0</td>\n",
              "      <td>0.144279</td>\n",
              "      <td>0.351547</td>\n",
              "      <td>0.0</td>\n",
              "      <td>0.000000</td>\n",
              "      <td>0.000000</td>\n",
              "      <td>0.000000</td>\n",
              "      <td>1.0</td>\n",
              "    </tr>\n",
              "    <tr>\n",
              "      <th>Color_Blue</th>\n",
              "      <td>1005.0</td>\n",
              "      <td>0.195025</td>\n",
              "      <td>0.396417</td>\n",
              "      <td>0.0</td>\n",
              "      <td>0.000000</td>\n",
              "      <td>0.000000</td>\n",
              "      <td>0.000000</td>\n",
              "      <td>1.0</td>\n",
              "    </tr>\n",
              "    <tr>\n",
              "      <th>Color_Green</th>\n",
              "      <td>1005.0</td>\n",
              "      <td>0.146269</td>\n",
              "      <td>0.353551</td>\n",
              "      <td>0.0</td>\n",
              "      <td>0.000000</td>\n",
              "      <td>0.000000</td>\n",
              "      <td>0.000000</td>\n",
              "      <td>1.0</td>\n",
              "    </tr>\n",
              "    <tr>\n",
              "      <th>Color_Grey</th>\n",
              "      <td>1005.0</td>\n",
              "      <td>0.206965</td>\n",
              "      <td>0.405332</td>\n",
              "      <td>0.0</td>\n",
              "      <td>0.000000</td>\n",
              "      <td>0.000000</td>\n",
              "      <td>0.000000</td>\n",
              "      <td>1.0</td>\n",
              "    </tr>\n",
              "    <tr>\n",
              "      <th>Color_Red</th>\n",
              "      <td>1005.0</td>\n",
              "      <td>0.204975</td>\n",
              "      <td>0.403884</td>\n",
              "      <td>0.0</td>\n",
              "      <td>0.000000</td>\n",
              "      <td>0.000000</td>\n",
              "      <td>0.000000</td>\n",
              "      <td>1.0</td>\n",
              "    </tr>\n",
              "    <tr>\n",
              "      <th>Color_Silver</th>\n",
              "      <td>1005.0</td>\n",
              "      <td>0.079602</td>\n",
              "      <td>0.270811</td>\n",
              "      <td>0.0</td>\n",
              "      <td>0.000000</td>\n",
              "      <td>0.000000</td>\n",
              "      <td>0.000000</td>\n",
              "      <td>1.0</td>\n",
              "    </tr>\n",
              "    <tr>\n",
              "      <th>Color_Violet</th>\n",
              "      <td>1005.0</td>\n",
              "      <td>0.001990</td>\n",
              "      <td>0.044588</td>\n",
              "      <td>0.0</td>\n",
              "      <td>0.000000</td>\n",
              "      <td>0.000000</td>\n",
              "      <td>0.000000</td>\n",
              "      <td>1.0</td>\n",
              "    </tr>\n",
              "    <tr>\n",
              "      <th>Color_White</th>\n",
              "      <td>1005.0</td>\n",
              "      <td>0.016915</td>\n",
              "      <td>0.129019</td>\n",
              "      <td>0.0</td>\n",
              "      <td>0.000000</td>\n",
              "      <td>0.000000</td>\n",
              "      <td>0.000000</td>\n",
              "      <td>1.0</td>\n",
              "    </tr>\n",
              "    <tr>\n",
              "      <th>Color_Yellow</th>\n",
              "      <td>1005.0</td>\n",
              "      <td>0.001990</td>\n",
              "      <td>0.044588</td>\n",
              "      <td>0.0</td>\n",
              "      <td>0.000000</td>\n",
              "      <td>0.000000</td>\n",
              "      <td>0.000000</td>\n",
              "      <td>1.0</td>\n",
              "    </tr>\n",
              "  </tbody>\n",
              "</table>\n",
              "</div>"
            ],
            "text/plain": [
              "                    count      mean       std  min       25%       50%  \\\n",
              "Age_08_04          1005.0  0.696173  0.234387  0.0  0.538462  0.756410   \n",
              "Mfg_Month          1005.0  0.419810  0.304760  0.0  0.181818  0.363636   \n",
              "Mfg_Year           1005.0  0.265008  0.253304  0.0  0.000000  0.166667   \n",
              "KM                 1005.0  0.296967  0.161147  0.0  0.187212  0.273179   \n",
              "HP                 1005.0  0.265041  0.122945  0.0  0.170732  0.333333   \n",
              "Met_Color          1005.0  0.672637  0.469485  0.0  0.000000  1.000000   \n",
              "Automatic          1005.0  0.057711  0.233313  0.0  0.000000  0.000000   \n",
              "CC                 1005.0  0.019410  0.033492  0.0  0.006803  0.020408   \n",
              "Doors              1005.0  0.670978  0.316793  0.0  0.333333  0.666667   \n",
              "Cylinders          1005.0  0.000000  0.000000  0.0  0.000000  0.000000   \n",
              "Gears              1005.0  0.675290  0.065972  0.0  0.666667  0.666667   \n",
              "Quarterly_Tax      1005.0  0.260866  0.154396  0.0  0.189394  0.250000   \n",
              "Weight             1005.0  0.148673  0.101306  0.0  0.083333  0.135417   \n",
              "Mfr_Guarantee      1005.0  0.409950  0.492069  0.0  0.000000  0.000000   \n",
              "BOVAG_Guarantee    1005.0  0.907463  0.289927  0.0  1.000000  1.000000   \n",
              "Guarantee_Period   1005.0  0.023157  0.081099  0.0  0.000000  0.000000   \n",
              "ABS                1005.0  0.814925  0.388551  0.0  1.000000  1.000000   \n",
              "Airbag_1           1005.0  0.967164  0.178295  0.0  1.000000  1.000000   \n",
              "Airbag_2           1005.0  0.733333  0.442437  0.0  0.000000  1.000000   \n",
              "Airco              1005.0  0.499502  0.500249  0.0  0.000000  0.000000   \n",
              "Automatic_airco    1005.0  0.055721  0.229497  0.0  0.000000  0.000000   \n",
              "Boardcomputer      1005.0  0.282587  0.450481  0.0  0.000000  0.000000   \n",
              "CD_Player          1005.0  0.214925  0.410975  0.0  0.000000  0.000000   \n",
              "Central_Lock       1005.0  0.566169  0.495849  0.0  0.000000  1.000000   \n",
              "Powered_Windows    1005.0  0.546269  0.498102  0.0  0.000000  1.000000   \n",
              "Power_Steering     1005.0  0.974129  0.158828  0.0  1.000000  1.000000   \n",
              "Radio              1005.0  0.140299  0.347469  0.0  0.000000  0.000000   \n",
              "Mistlamps          1005.0  0.249751  0.433085  0.0  0.000000  0.000000   \n",
              "Sport_Model        1005.0  0.305473  0.460837  0.0  0.000000  0.000000   \n",
              "Backseat_Divider   1005.0  0.772139  0.419661  0.0  1.000000  1.000000   \n",
              "Metallic_Rim       1005.0  0.204975  0.403884  0.0  0.000000  0.000000   \n",
              "Radio_cassette     1005.0  0.139303  0.346435  0.0  0.000000  0.000000   \n",
              "Parking_Assistant  1005.0  0.001990  0.044588  0.0  0.000000  0.000000   \n",
              "Tow_Bar            1005.0  0.285572  0.451911  0.0  0.000000  0.000000   \n",
              "Fuel_Type_CNG      1005.0  0.012935  0.113052  0.0  0.000000  0.000000   \n",
              "Fuel_Type_Diesel   1005.0  0.111443  0.314836  0.0  0.000000  0.000000   \n",
              "Fuel_Type_Petrol   1005.0  0.875622  0.330177  0.0  1.000000  1.000000   \n",
              "Color_Beige        1005.0  0.001990  0.044588  0.0  0.000000  0.000000   \n",
              "Color_Black        1005.0  0.144279  0.351547  0.0  0.000000  0.000000   \n",
              "Color_Blue         1005.0  0.195025  0.396417  0.0  0.000000  0.000000   \n",
              "Color_Green        1005.0  0.146269  0.353551  0.0  0.000000  0.000000   \n",
              "Color_Grey         1005.0  0.206965  0.405332  0.0  0.000000  0.000000   \n",
              "Color_Red          1005.0  0.204975  0.403884  0.0  0.000000  0.000000   \n",
              "Color_Silver       1005.0  0.079602  0.270811  0.0  0.000000  0.000000   \n",
              "Color_Violet       1005.0  0.001990  0.044588  0.0  0.000000  0.000000   \n",
              "Color_White        1005.0  0.016915  0.129019  0.0  0.000000  0.000000   \n",
              "Color_Yellow       1005.0  0.001990  0.044588  0.0  0.000000  0.000000   \n",
              "\n",
              "                        75%  max  \n",
              "Age_08_04          0.871795  1.0  \n",
              "Mfg_Month          0.636364  1.0  \n",
              "Mfg_Year           0.500000  1.0  \n",
              "KM                 0.380718  1.0  \n",
              "HP                 0.333333  1.0  \n",
              "Met_Color          1.000000  1.0  \n",
              "Automatic          0.000000  1.0  \n",
              "CC                 0.020408  1.0  \n",
              "Doors              1.000000  1.0  \n",
              "Cylinders          0.000000  0.0  \n",
              "Gears              0.666667  1.0  \n",
              "Quarterly_Tax      0.250000  1.0  \n",
              "Weight             0.177083  1.0  \n",
              "Mfr_Guarantee      1.000000  1.0  \n",
              "BOVAG_Guarantee    1.000000  1.0  \n",
              "Guarantee_Period   0.000000  1.0  \n",
              "ABS                1.000000  1.0  \n",
              "Airbag_1           1.000000  1.0  \n",
              "Airbag_2           1.000000  1.0  \n",
              "Airco              1.000000  1.0  \n",
              "Automatic_airco    0.000000  1.0  \n",
              "Boardcomputer      1.000000  1.0  \n",
              "CD_Player          0.000000  1.0  \n",
              "Central_Lock       1.000000  1.0  \n",
              "Powered_Windows    1.000000  1.0  \n",
              "Power_Steering     1.000000  1.0  \n",
              "Radio              0.000000  1.0  \n",
              "Mistlamps          0.000000  1.0  \n",
              "Sport_Model        1.000000  1.0  \n",
              "Backseat_Divider   1.000000  1.0  \n",
              "Metallic_Rim       0.000000  1.0  \n",
              "Radio_cassette     0.000000  1.0  \n",
              "Parking_Assistant  0.000000  1.0  \n",
              "Tow_Bar            1.000000  1.0  \n",
              "Fuel_Type_CNG      0.000000  1.0  \n",
              "Fuel_Type_Diesel   0.000000  1.0  \n",
              "Fuel_Type_Petrol   1.000000  1.0  \n",
              "Color_Beige        0.000000  1.0  \n",
              "Color_Black        0.000000  1.0  \n",
              "Color_Blue         0.000000  1.0  \n",
              "Color_Green        0.000000  1.0  \n",
              "Color_Grey         0.000000  1.0  \n",
              "Color_Red          0.000000  1.0  \n",
              "Color_Silver       0.000000  1.0  \n",
              "Color_Violet       0.000000  1.0  \n",
              "Color_White        0.000000  1.0  \n",
              "Color_Yellow       0.000000  1.0  "
            ]
          },
          "execution_count": 17,
          "metadata": {},
          "output_type": "execute_result"
        }
      ],
      "source": [
        "train_X_scale = pd.DataFrame(train_scale.transform(train_X),columns=train_X.columns)\n",
        "train_X_scale.describe().transpose()"
      ]
    },
    {
      "cell_type": "code",
      "execution_count": null,
      "metadata": {
        "id": "jEnuqhsxrtjj",
        "outputId": "faba9845-1f3a-4332-e78e-a0ddabd257c6"
      },
      "outputs": [
        {
          "data": {
            "text/html": [
              "<div>\n",
              "<style scoped>\n",
              "    .dataframe tbody tr th:only-of-type {\n",
              "        vertical-align: middle;\n",
              "    }\n",
              "\n",
              "    .dataframe tbody tr th {\n",
              "        vertical-align: top;\n",
              "    }\n",
              "\n",
              "    .dataframe thead th {\n",
              "        text-align: right;\n",
              "    }\n",
              "</style>\n",
              "<table border=\"1\" class=\"dataframe\">\n",
              "  <thead>\n",
              "    <tr style=\"text-align: right;\">\n",
              "      <th></th>\n",
              "      <th>count</th>\n",
              "      <th>mean</th>\n",
              "      <th>std</th>\n",
              "      <th>min</th>\n",
              "      <th>25%</th>\n",
              "      <th>50%</th>\n",
              "      <th>75%</th>\n",
              "      <th>max</th>\n",
              "    </tr>\n",
              "  </thead>\n",
              "  <tbody>\n",
              "    <tr>\n",
              "      <th>Age_08_04</th>\n",
              "      <td>431.0</td>\n",
              "      <td>0.681034</td>\n",
              "      <td>0.247656</td>\n",
              "      <td>-0.012821</td>\n",
              "      <td>0.525641</td>\n",
              "      <td>0.756410</td>\n",
              "      <td>0.858974</td>\n",
              "      <td>1.000000</td>\n",
              "    </tr>\n",
              "    <tr>\n",
              "      <th>Mfg_Month</th>\n",
              "      <td>431.0</td>\n",
              "      <td>0.398861</td>\n",
              "      <td>0.305132</td>\n",
              "      <td>0.000000</td>\n",
              "      <td>0.181818</td>\n",
              "      <td>0.363636</td>\n",
              "      <td>0.636364</td>\n",
              "      <td>1.000000</td>\n",
              "    </tr>\n",
              "    <tr>\n",
              "      <th>Mfg_Year</th>\n",
              "      <td>431.0</td>\n",
              "      <td>0.284609</td>\n",
              "      <td>0.264522</td>\n",
              "      <td>0.000000</td>\n",
              "      <td>0.000000</td>\n",
              "      <td>0.166667</td>\n",
              "      <td>0.500000</td>\n",
              "      <td>1.000000</td>\n",
              "    </tr>\n",
              "    <tr>\n",
              "      <th>KM</th>\n",
              "      <td>431.0</td>\n",
              "      <td>0.287770</td>\n",
              "      <td>0.160706</td>\n",
              "      <td>0.000000</td>\n",
              "      <td>0.168259</td>\n",
              "      <td>0.268654</td>\n",
              "      <td>0.361640</td>\n",
              "      <td>1.043187</td>\n",
              "    </tr>\n",
              "    <tr>\n",
              "      <th>HP</th>\n",
              "      <td>431.0</td>\n",
              "      <td>0.262388</td>\n",
              "      <td>0.119200</td>\n",
              "      <td>0.000000</td>\n",
              "      <td>0.138211</td>\n",
              "      <td>0.333333</td>\n",
              "      <td>0.333333</td>\n",
              "      <td>1.000000</td>\n",
              "    </tr>\n",
              "    <tr>\n",
              "      <th>Met_Color</th>\n",
              "      <td>431.0</td>\n",
              "      <td>0.679814</td>\n",
              "      <td>0.467090</td>\n",
              "      <td>0.000000</td>\n",
              "      <td>0.000000</td>\n",
              "      <td>1.000000</td>\n",
              "      <td>1.000000</td>\n",
              "      <td>1.000000</td>\n",
              "    </tr>\n",
              "    <tr>\n",
              "      <th>Automatic</th>\n",
              "      <td>431.0</td>\n",
              "      <td>0.051044</td>\n",
              "      <td>0.220343</td>\n",
              "      <td>0.000000</td>\n",
              "      <td>0.000000</td>\n",
              "      <td>0.000000</td>\n",
              "      <td>0.000000</td>\n",
              "      <td>1.000000</td>\n",
              "    </tr>\n",
              "    <tr>\n",
              "      <th>CC</th>\n",
              "      <td>431.0</td>\n",
              "      <td>0.017489</td>\n",
              "      <td>0.012644</td>\n",
              "      <td>0.000000</td>\n",
              "      <td>0.006803</td>\n",
              "      <td>0.020408</td>\n",
              "      <td>0.020408</td>\n",
              "      <td>0.047619</td>\n",
              "    </tr>\n",
              "    <tr>\n",
              "      <th>Doors</th>\n",
              "      <td>431.0</td>\n",
              "      <td>0.693735</td>\n",
              "      <td>0.319139</td>\n",
              "      <td>0.000000</td>\n",
              "      <td>0.333333</td>\n",
              "      <td>0.666667</td>\n",
              "      <td>1.000000</td>\n",
              "      <td>1.000000</td>\n",
              "    </tr>\n",
              "    <tr>\n",
              "      <th>Cylinders</th>\n",
              "      <td>431.0</td>\n",
              "      <td>0.000000</td>\n",
              "      <td>0.000000</td>\n",
              "      <td>0.000000</td>\n",
              "      <td>0.000000</td>\n",
              "      <td>0.000000</td>\n",
              "      <td>0.000000</td>\n",
              "      <td>0.000000</td>\n",
              "    </tr>\n",
              "    <tr>\n",
              "      <th>Gears</th>\n",
              "      <td>431.0</td>\n",
              "      <td>0.675947</td>\n",
              "      <td>0.054904</td>\n",
              "      <td>0.666667</td>\n",
              "      <td>0.666667</td>\n",
              "      <td>0.666667</td>\n",
              "      <td>0.666667</td>\n",
              "      <td>1.000000</td>\n",
              "    </tr>\n",
              "    <tr>\n",
              "      <th>Quarterly_Tax</th>\n",
              "      <td>431.0</td>\n",
              "      <td>0.251450</td>\n",
              "      <td>0.158980</td>\n",
              "      <td>0.000000</td>\n",
              "      <td>0.189394</td>\n",
              "      <td>0.250000</td>\n",
              "      <td>0.250000</td>\n",
              "      <td>1.000000</td>\n",
              "    </tr>\n",
              "    <tr>\n",
              "      <th>Weight</th>\n",
              "      <td>431.0</td>\n",
              "      <td>0.156284</td>\n",
              "      <td>0.127021</td>\n",
              "      <td>0.000000</td>\n",
              "      <td>0.083333</td>\n",
              "      <td>0.145833</td>\n",
              "      <td>0.177083</td>\n",
              "      <td>1.281250</td>\n",
              "    </tr>\n",
              "    <tr>\n",
              "      <th>Mfr_Guarantee</th>\n",
              "      <td>431.0</td>\n",
              "      <td>0.408353</td>\n",
              "      <td>0.492100</td>\n",
              "      <td>0.000000</td>\n",
              "      <td>0.000000</td>\n",
              "      <td>0.000000</td>\n",
              "      <td>1.000000</td>\n",
              "      <td>1.000000</td>\n",
              "    </tr>\n",
              "    <tr>\n",
              "      <th>BOVAG_Guarantee</th>\n",
              "      <td>431.0</td>\n",
              "      <td>0.867749</td>\n",
              "      <td>0.339157</td>\n",
              "      <td>0.000000</td>\n",
              "      <td>1.000000</td>\n",
              "      <td>1.000000</td>\n",
              "      <td>1.000000</td>\n",
              "      <td>1.000000</td>\n",
              "    </tr>\n",
              "    <tr>\n",
              "      <th>Guarantee_Period</th>\n",
              "      <td>431.0</td>\n",
              "      <td>0.028334</td>\n",
              "      <td>0.111390</td>\n",
              "      <td>0.000000</td>\n",
              "      <td>0.000000</td>\n",
              "      <td>0.000000</td>\n",
              "      <td>0.000000</td>\n",
              "      <td>1.000000</td>\n",
              "    </tr>\n",
              "    <tr>\n",
              "      <th>ABS</th>\n",
              "      <td>431.0</td>\n",
              "      <td>0.809745</td>\n",
              "      <td>0.392959</td>\n",
              "      <td>0.000000</td>\n",
              "      <td>1.000000</td>\n",
              "      <td>1.000000</td>\n",
              "      <td>1.000000</td>\n",
              "      <td>1.000000</td>\n",
              "    </tr>\n",
              "    <tr>\n",
              "      <th>Airbag_1</th>\n",
              "      <td>431.0</td>\n",
              "      <td>0.979118</td>\n",
              "      <td>0.143154</td>\n",
              "      <td>0.000000</td>\n",
              "      <td>1.000000</td>\n",
              "      <td>1.000000</td>\n",
              "      <td>1.000000</td>\n",
              "      <td>1.000000</td>\n",
              "    </tr>\n",
              "    <tr>\n",
              "      <th>Airbag_2</th>\n",
              "      <td>431.0</td>\n",
              "      <td>0.698376</td>\n",
              "      <td>0.459496</td>\n",
              "      <td>0.000000</td>\n",
              "      <td>0.000000</td>\n",
              "      <td>1.000000</td>\n",
              "      <td>1.000000</td>\n",
              "      <td>1.000000</td>\n",
              "    </tr>\n",
              "    <tr>\n",
              "      <th>Airco</th>\n",
              "      <td>431.0</td>\n",
              "      <td>0.529002</td>\n",
              "      <td>0.499738</td>\n",
              "      <td>0.000000</td>\n",
              "      <td>0.000000</td>\n",
              "      <td>1.000000</td>\n",
              "      <td>1.000000</td>\n",
              "      <td>1.000000</td>\n",
              "    </tr>\n",
              "    <tr>\n",
              "      <th>Automatic_airco</th>\n",
              "      <td>431.0</td>\n",
              "      <td>0.058005</td>\n",
              "      <td>0.234024</td>\n",
              "      <td>0.000000</td>\n",
              "      <td>0.000000</td>\n",
              "      <td>0.000000</td>\n",
              "      <td>0.000000</td>\n",
              "      <td>1.000000</td>\n",
              "    </tr>\n",
              "    <tr>\n",
              "      <th>Boardcomputer</th>\n",
              "      <td>431.0</td>\n",
              "      <td>0.322506</td>\n",
              "      <td>0.467979</td>\n",
              "      <td>0.000000</td>\n",
              "      <td>0.000000</td>\n",
              "      <td>0.000000</td>\n",
              "      <td>1.000000</td>\n",
              "      <td>1.000000</td>\n",
              "    </tr>\n",
              "    <tr>\n",
              "      <th>CD_Player</th>\n",
              "      <td>431.0</td>\n",
              "      <td>0.227378</td>\n",
              "      <td>0.419626</td>\n",
              "      <td>0.000000</td>\n",
              "      <td>0.000000</td>\n",
              "      <td>0.000000</td>\n",
              "      <td>0.000000</td>\n",
              "      <td>1.000000</td>\n",
              "    </tr>\n",
              "    <tr>\n",
              "      <th>Central_Lock</th>\n",
              "      <td>431.0</td>\n",
              "      <td>0.612529</td>\n",
              "      <td>0.487739</td>\n",
              "      <td>0.000000</td>\n",
              "      <td>0.000000</td>\n",
              "      <td>1.000000</td>\n",
              "      <td>1.000000</td>\n",
              "      <td>1.000000</td>\n",
              "    </tr>\n",
              "    <tr>\n",
              "      <th>Powered_Windows</th>\n",
              "      <td>431.0</td>\n",
              "      <td>0.598608</td>\n",
              "      <td>0.490750</td>\n",
              "      <td>0.000000</td>\n",
              "      <td>0.000000</td>\n",
              "      <td>1.000000</td>\n",
              "      <td>1.000000</td>\n",
              "      <td>1.000000</td>\n",
              "    </tr>\n",
              "    <tr>\n",
              "      <th>Power_Steering</th>\n",
              "      <td>431.0</td>\n",
              "      <td>0.986079</td>\n",
              "      <td>0.117300</td>\n",
              "      <td>0.000000</td>\n",
              "      <td>1.000000</td>\n",
              "      <td>1.000000</td>\n",
              "      <td>1.000000</td>\n",
              "      <td>1.000000</td>\n",
              "    </tr>\n",
              "    <tr>\n",
              "      <th>Radio</th>\n",
              "      <td>431.0</td>\n",
              "      <td>0.160093</td>\n",
              "      <td>0.367118</td>\n",
              "      <td>0.000000</td>\n",
              "      <td>0.000000</td>\n",
              "      <td>0.000000</td>\n",
              "      <td>0.000000</td>\n",
              "      <td>1.000000</td>\n",
              "    </tr>\n",
              "    <tr>\n",
              "      <th>Mistlamps</th>\n",
              "      <td>431.0</td>\n",
              "      <td>0.273782</td>\n",
              "      <td>0.446417</td>\n",
              "      <td>0.000000</td>\n",
              "      <td>0.000000</td>\n",
              "      <td>0.000000</td>\n",
              "      <td>1.000000</td>\n",
              "      <td>1.000000</td>\n",
              "    </tr>\n",
              "    <tr>\n",
              "      <th>Sport_Model</th>\n",
              "      <td>431.0</td>\n",
              "      <td>0.287703</td>\n",
              "      <td>0.453218</td>\n",
              "      <td>0.000000</td>\n",
              "      <td>0.000000</td>\n",
              "      <td>0.000000</td>\n",
              "      <td>1.000000</td>\n",
              "      <td>1.000000</td>\n",
              "    </tr>\n",
              "    <tr>\n",
              "      <th>Backseat_Divider</th>\n",
              "      <td>431.0</td>\n",
              "      <td>0.765661</td>\n",
              "      <td>0.424077</td>\n",
              "      <td>0.000000</td>\n",
              "      <td>1.000000</td>\n",
              "      <td>1.000000</td>\n",
              "      <td>1.000000</td>\n",
              "      <td>1.000000</td>\n",
              "    </tr>\n",
              "    <tr>\n",
              "      <th>Metallic_Rim</th>\n",
              "      <td>431.0</td>\n",
              "      <td>0.204176</td>\n",
              "      <td>0.403567</td>\n",
              "      <td>0.000000</td>\n",
              "      <td>0.000000</td>\n",
              "      <td>0.000000</td>\n",
              "      <td>0.000000</td>\n",
              "      <td>1.000000</td>\n",
              "    </tr>\n",
              "    <tr>\n",
              "      <th>Radio_cassette</th>\n",
              "      <td>431.0</td>\n",
              "      <td>0.160093</td>\n",
              "      <td>0.367118</td>\n",
              "      <td>0.000000</td>\n",
              "      <td>0.000000</td>\n",
              "      <td>0.000000</td>\n",
              "      <td>0.000000</td>\n",
              "      <td>1.000000</td>\n",
              "    </tr>\n",
              "    <tr>\n",
              "      <th>Parking_Assistant</th>\n",
              "      <td>431.0</td>\n",
              "      <td>0.004640</td>\n",
              "      <td>0.068041</td>\n",
              "      <td>0.000000</td>\n",
              "      <td>0.000000</td>\n",
              "      <td>0.000000</td>\n",
              "      <td>0.000000</td>\n",
              "      <td>1.000000</td>\n",
              "    </tr>\n",
              "    <tr>\n",
              "      <th>Tow_Bar</th>\n",
              "      <td>431.0</td>\n",
              "      <td>0.259861</td>\n",
              "      <td>0.439068</td>\n",
              "      <td>0.000000</td>\n",
              "      <td>0.000000</td>\n",
              "      <td>0.000000</td>\n",
              "      <td>1.000000</td>\n",
              "      <td>1.000000</td>\n",
              "    </tr>\n",
              "    <tr>\n",
              "      <th>Fuel_Type_CNG</th>\n",
              "      <td>431.0</td>\n",
              "      <td>0.009281</td>\n",
              "      <td>0.096000</td>\n",
              "      <td>0.000000</td>\n",
              "      <td>0.000000</td>\n",
              "      <td>0.000000</td>\n",
              "      <td>0.000000</td>\n",
              "      <td>1.000000</td>\n",
              "    </tr>\n",
              "    <tr>\n",
              "      <th>Fuel_Type_Diesel</th>\n",
              "      <td>431.0</td>\n",
              "      <td>0.099768</td>\n",
              "      <td>0.300039</td>\n",
              "      <td>0.000000</td>\n",
              "      <td>0.000000</td>\n",
              "      <td>0.000000</td>\n",
              "      <td>0.000000</td>\n",
              "      <td>1.000000</td>\n",
              "    </tr>\n",
              "    <tr>\n",
              "      <th>Fuel_Type_Petrol</th>\n",
              "      <td>431.0</td>\n",
              "      <td>0.890951</td>\n",
              "      <td>0.312063</td>\n",
              "      <td>0.000000</td>\n",
              "      <td>1.000000</td>\n",
              "      <td>1.000000</td>\n",
              "      <td>1.000000</td>\n",
              "      <td>1.000000</td>\n",
              "    </tr>\n",
              "    <tr>\n",
              "      <th>Color_Beige</th>\n",
              "      <td>431.0</td>\n",
              "      <td>0.002320</td>\n",
              "      <td>0.048168</td>\n",
              "      <td>0.000000</td>\n",
              "      <td>0.000000</td>\n",
              "      <td>0.000000</td>\n",
              "      <td>0.000000</td>\n",
              "      <td>1.000000</td>\n",
              "    </tr>\n",
              "    <tr>\n",
              "      <th>Color_Black</th>\n",
              "      <td>431.0</td>\n",
              "      <td>0.106729</td>\n",
              "      <td>0.309127</td>\n",
              "      <td>0.000000</td>\n",
              "      <td>0.000000</td>\n",
              "      <td>0.000000</td>\n",
              "      <td>0.000000</td>\n",
              "      <td>1.000000</td>\n",
              "    </tr>\n",
              "    <tr>\n",
              "      <th>Color_Blue</th>\n",
              "      <td>431.0</td>\n",
              "      <td>0.201856</td>\n",
              "      <td>0.401852</td>\n",
              "      <td>0.000000</td>\n",
              "      <td>0.000000</td>\n",
              "      <td>0.000000</td>\n",
              "      <td>0.000000</td>\n",
              "      <td>1.000000</td>\n",
              "    </tr>\n",
              "    <tr>\n",
              "      <th>Color_Green</th>\n",
              "      <td>431.0</td>\n",
              "      <td>0.169374</td>\n",
              "      <td>0.375517</td>\n",
              "      <td>0.000000</td>\n",
              "      <td>0.000000</td>\n",
              "      <td>0.000000</td>\n",
              "      <td>0.000000</td>\n",
              "      <td>1.000000</td>\n",
              "    </tr>\n",
              "    <tr>\n",
              "      <th>Color_Grey</th>\n",
              "      <td>431.0</td>\n",
              "      <td>0.215777</td>\n",
              "      <td>0.411839</td>\n",
              "      <td>0.000000</td>\n",
              "      <td>0.000000</td>\n",
              "      <td>0.000000</td>\n",
              "      <td>0.000000</td>\n",
              "      <td>1.000000</td>\n",
              "    </tr>\n",
              "    <tr>\n",
              "      <th>Color_Red</th>\n",
              "      <td>431.0</td>\n",
              "      <td>0.167053</td>\n",
              "      <td>0.373457</td>\n",
              "      <td>0.000000</td>\n",
              "      <td>0.000000</td>\n",
              "      <td>0.000000</td>\n",
              "      <td>0.000000</td>\n",
              "      <td>1.000000</td>\n",
              "    </tr>\n",
              "    <tr>\n",
              "      <th>Color_Silver</th>\n",
              "      <td>431.0</td>\n",
              "      <td>0.097448</td>\n",
              "      <td>0.296911</td>\n",
              "      <td>0.000000</td>\n",
              "      <td>0.000000</td>\n",
              "      <td>0.000000</td>\n",
              "      <td>0.000000</td>\n",
              "      <td>1.000000</td>\n",
              "    </tr>\n",
              "    <tr>\n",
              "      <th>Color_Violet</th>\n",
              "      <td>431.0</td>\n",
              "      <td>0.004640</td>\n",
              "      <td>0.068041</td>\n",
              "      <td>0.000000</td>\n",
              "      <td>0.000000</td>\n",
              "      <td>0.000000</td>\n",
              "      <td>0.000000</td>\n",
              "      <td>1.000000</td>\n",
              "    </tr>\n",
              "    <tr>\n",
              "      <th>Color_White</th>\n",
              "      <td>431.0</td>\n",
              "      <td>0.032483</td>\n",
              "      <td>0.177484</td>\n",
              "      <td>0.000000</td>\n",
              "      <td>0.000000</td>\n",
              "      <td>0.000000</td>\n",
              "      <td>0.000000</td>\n",
              "      <td>1.000000</td>\n",
              "    </tr>\n",
              "    <tr>\n",
              "      <th>Color_Yellow</th>\n",
              "      <td>431.0</td>\n",
              "      <td>0.002320</td>\n",
              "      <td>0.048168</td>\n",
              "      <td>0.000000</td>\n",
              "      <td>0.000000</td>\n",
              "      <td>0.000000</td>\n",
              "      <td>0.000000</td>\n",
              "      <td>1.000000</td>\n",
              "    </tr>\n",
              "  </tbody>\n",
              "</table>\n",
              "</div>"
            ],
            "text/plain": [
              "                   count      mean       std       min       25%       50%  \\\n",
              "Age_08_04          431.0  0.681034  0.247656 -0.012821  0.525641  0.756410   \n",
              "Mfg_Month          431.0  0.398861  0.305132  0.000000  0.181818  0.363636   \n",
              "Mfg_Year           431.0  0.284609  0.264522  0.000000  0.000000  0.166667   \n",
              "KM                 431.0  0.287770  0.160706  0.000000  0.168259  0.268654   \n",
              "HP                 431.0  0.262388  0.119200  0.000000  0.138211  0.333333   \n",
              "Met_Color          431.0  0.679814  0.467090  0.000000  0.000000  1.000000   \n",
              "Automatic          431.0  0.051044  0.220343  0.000000  0.000000  0.000000   \n",
              "CC                 431.0  0.017489  0.012644  0.000000  0.006803  0.020408   \n",
              "Doors              431.0  0.693735  0.319139  0.000000  0.333333  0.666667   \n",
              "Cylinders          431.0  0.000000  0.000000  0.000000  0.000000  0.000000   \n",
              "Gears              431.0  0.675947  0.054904  0.666667  0.666667  0.666667   \n",
              "Quarterly_Tax      431.0  0.251450  0.158980  0.000000  0.189394  0.250000   \n",
              "Weight             431.0  0.156284  0.127021  0.000000  0.083333  0.145833   \n",
              "Mfr_Guarantee      431.0  0.408353  0.492100  0.000000  0.000000  0.000000   \n",
              "BOVAG_Guarantee    431.0  0.867749  0.339157  0.000000  1.000000  1.000000   \n",
              "Guarantee_Period   431.0  0.028334  0.111390  0.000000  0.000000  0.000000   \n",
              "ABS                431.0  0.809745  0.392959  0.000000  1.000000  1.000000   \n",
              "Airbag_1           431.0  0.979118  0.143154  0.000000  1.000000  1.000000   \n",
              "Airbag_2           431.0  0.698376  0.459496  0.000000  0.000000  1.000000   \n",
              "Airco              431.0  0.529002  0.499738  0.000000  0.000000  1.000000   \n",
              "Automatic_airco    431.0  0.058005  0.234024  0.000000  0.000000  0.000000   \n",
              "Boardcomputer      431.0  0.322506  0.467979  0.000000  0.000000  0.000000   \n",
              "CD_Player          431.0  0.227378  0.419626  0.000000  0.000000  0.000000   \n",
              "Central_Lock       431.0  0.612529  0.487739  0.000000  0.000000  1.000000   \n",
              "Powered_Windows    431.0  0.598608  0.490750  0.000000  0.000000  1.000000   \n",
              "Power_Steering     431.0  0.986079  0.117300  0.000000  1.000000  1.000000   \n",
              "Radio              431.0  0.160093  0.367118  0.000000  0.000000  0.000000   \n",
              "Mistlamps          431.0  0.273782  0.446417  0.000000  0.000000  0.000000   \n",
              "Sport_Model        431.0  0.287703  0.453218  0.000000  0.000000  0.000000   \n",
              "Backseat_Divider   431.0  0.765661  0.424077  0.000000  1.000000  1.000000   \n",
              "Metallic_Rim       431.0  0.204176  0.403567  0.000000  0.000000  0.000000   \n",
              "Radio_cassette     431.0  0.160093  0.367118  0.000000  0.000000  0.000000   \n",
              "Parking_Assistant  431.0  0.004640  0.068041  0.000000  0.000000  0.000000   \n",
              "Tow_Bar            431.0  0.259861  0.439068  0.000000  0.000000  0.000000   \n",
              "Fuel_Type_CNG      431.0  0.009281  0.096000  0.000000  0.000000  0.000000   \n",
              "Fuel_Type_Diesel   431.0  0.099768  0.300039  0.000000  0.000000  0.000000   \n",
              "Fuel_Type_Petrol   431.0  0.890951  0.312063  0.000000  1.000000  1.000000   \n",
              "Color_Beige        431.0  0.002320  0.048168  0.000000  0.000000  0.000000   \n",
              "Color_Black        431.0  0.106729  0.309127  0.000000  0.000000  0.000000   \n",
              "Color_Blue         431.0  0.201856  0.401852  0.000000  0.000000  0.000000   \n",
              "Color_Green        431.0  0.169374  0.375517  0.000000  0.000000  0.000000   \n",
              "Color_Grey         431.0  0.215777  0.411839  0.000000  0.000000  0.000000   \n",
              "Color_Red          431.0  0.167053  0.373457  0.000000  0.000000  0.000000   \n",
              "Color_Silver       431.0  0.097448  0.296911  0.000000  0.000000  0.000000   \n",
              "Color_Violet       431.0  0.004640  0.068041  0.000000  0.000000  0.000000   \n",
              "Color_White        431.0  0.032483  0.177484  0.000000  0.000000  0.000000   \n",
              "Color_Yellow       431.0  0.002320  0.048168  0.000000  0.000000  0.000000   \n",
              "\n",
              "                        75%       max  \n",
              "Age_08_04          0.858974  1.000000  \n",
              "Mfg_Month          0.636364  1.000000  \n",
              "Mfg_Year           0.500000  1.000000  \n",
              "KM                 0.361640  1.043187  \n",
              "HP                 0.333333  1.000000  \n",
              "Met_Color          1.000000  1.000000  \n",
              "Automatic          0.000000  1.000000  \n",
              "CC                 0.020408  0.047619  \n",
              "Doors              1.000000  1.000000  \n",
              "Cylinders          0.000000  0.000000  \n",
              "Gears              0.666667  1.000000  \n",
              "Quarterly_Tax      0.250000  1.000000  \n",
              "Weight             0.177083  1.281250  \n",
              "Mfr_Guarantee      1.000000  1.000000  \n",
              "BOVAG_Guarantee    1.000000  1.000000  \n",
              "Guarantee_Period   0.000000  1.000000  \n",
              "ABS                1.000000  1.000000  \n",
              "Airbag_1           1.000000  1.000000  \n",
              "Airbag_2           1.000000  1.000000  \n",
              "Airco              1.000000  1.000000  \n",
              "Automatic_airco    0.000000  1.000000  \n",
              "Boardcomputer      1.000000  1.000000  \n",
              "CD_Player          0.000000  1.000000  \n",
              "Central_Lock       1.000000  1.000000  \n",
              "Powered_Windows    1.000000  1.000000  \n",
              "Power_Steering     1.000000  1.000000  \n",
              "Radio              0.000000  1.000000  \n",
              "Mistlamps          1.000000  1.000000  \n",
              "Sport_Model        1.000000  1.000000  \n",
              "Backseat_Divider   1.000000  1.000000  \n",
              "Metallic_Rim       0.000000  1.000000  \n",
              "Radio_cassette     0.000000  1.000000  \n",
              "Parking_Assistant  0.000000  1.000000  \n",
              "Tow_Bar            1.000000  1.000000  \n",
              "Fuel_Type_CNG      0.000000  1.000000  \n",
              "Fuel_Type_Diesel   0.000000  1.000000  \n",
              "Fuel_Type_Petrol   1.000000  1.000000  \n",
              "Color_Beige        0.000000  1.000000  \n",
              "Color_Black        0.000000  1.000000  \n",
              "Color_Blue         0.000000  1.000000  \n",
              "Color_Green        0.000000  1.000000  \n",
              "Color_Grey         0.000000  1.000000  \n",
              "Color_Red          0.000000  1.000000  \n",
              "Color_Silver       0.000000  1.000000  \n",
              "Color_Violet       0.000000  1.000000  \n",
              "Color_White        0.000000  1.000000  \n",
              "Color_Yellow       0.000000  1.000000  "
            ]
          },
          "execution_count": 18,
          "metadata": {},
          "output_type": "execute_result"
        }
      ],
      "source": [
        "test_X_scale = pd.DataFrame(train_scale.transform(test_X),columns=train_X.columns)\n",
        "test_X_scale.describe().transpose()"
      ]
    },
    {
      "cell_type": "markdown",
      "metadata": {
        "id": "S43Xd8Wwrtjk"
      },
      "source": [
        "We notice that some variables in the normalized test dataset are not necessarily in the range of [0, 1].\n",
        "\n",
        "Now, let's normalize y."
      ]
    },
    {
      "cell_type": "code",
      "execution_count": null,
      "metadata": {
        "id": "TO28RvNIrtjk"
      },
      "outputs": [],
      "source": [
        "train_scale_y = preprocessing.MinMaxScaler().fit(train_y.values.reshape(-1,1).astype(float))"
      ]
    },
    {
      "cell_type": "code",
      "execution_count": null,
      "metadata": {
        "id": "FOnAy1xWrtjk",
        "outputId": "d34f55ea-cb8b-4b3d-d425-43322c3f3fec"
      },
      "outputs": [
        {
          "data": {
            "text/plain": [
              "count    1005.000000\n",
              "mean        0.224881\n",
              "std         0.127351\n",
              "min         0.000000\n",
              "25%         0.145648\n",
              "50%         0.197158\n",
              "75%         0.268028\n",
              "max         1.000000\n",
              "dtype: float64"
            ]
          },
          "execution_count": 20,
          "metadata": {},
          "output_type": "execute_result"
        }
      ],
      "source": [
        "train_y_scale = train_scale_y.transform(train_y.values.reshape(-1,1))\n",
        "train_y_scale = pd.Series(train_y_scale.reshape(train_y.shape[0],))\n",
        "train_y_scale.describe()"
      ]
    },
    {
      "cell_type": "code",
      "execution_count": null,
      "metadata": {
        "id": "GAA-UBUvrtjk",
        "outputId": "41d39b89-9309-4321-c6b2-e2234ca8267c"
      },
      "outputs": [
        {
          "data": {
            "text/plain": [
              "count    431.000000\n",
              "mean       0.230849\n",
              "std        0.132317\n",
              "min        0.049378\n",
              "25%        0.145648\n",
              "50%        0.197158\n",
              "75%        0.270693\n",
              "max        0.946714\n",
              "dtype: float64"
            ]
          },
          "execution_count": 21,
          "metadata": {},
          "output_type": "execute_result"
        }
      ],
      "source": [
        "test_y_scale = train_scale_y.transform(test_y.values.reshape(-1,1))\n",
        "test_y_scale = pd.Series(test_y_scale.reshape(test_y.shape[0],))\n",
        "test_y_scale.describe()"
      ]
    },
    {
      "cell_type": "markdown",
      "metadata": {
        "id": "XYdVTkvVrtjk"
      },
      "source": [
        "### 1.5. Feature Selection\n",
        "\n",
        "As random forests provide the importance score for all predictors, let's use random forests to select features for ANN models."
      ]
    },
    {
      "cell_type": "code",
      "execution_count": null,
      "metadata": {
        "id": "FY-q5VTcrtjl"
      },
      "outputs": [],
      "source": [
        "from sklearn.ensemble import RandomForestRegressor\n",
        "\n",
        "# Train an RF regressor\n",
        "rf = RandomForestRegressor(n_estimators=50, max_features=30, random_state=123)"
      ]
    },
    {
      "cell_type": "code",
      "execution_count": null,
      "metadata": {
        "id": "6RF7hgPMrtjl",
        "outputId": "89aa118a-f8c4-401a-d4ff-0cf7ec587d10"
      },
      "outputs": [
        {
          "data": {
            "text/plain": [
              "RandomForestRegressor(bootstrap=True, criterion='mse', max_depth=None,\n",
              "           max_features=30, max_leaf_nodes=None, min_impurity_decrease=0.0,\n",
              "           min_impurity_split=None, min_samples_leaf=1,\n",
              "           min_samples_split=2, min_weight_fraction_leaf=0.0,\n",
              "           n_estimators=50, n_jobs=None, oob_score=False, random_state=123,\n",
              "           verbose=0, warm_start=False)"
            ]
          },
          "execution_count": 23,
          "metadata": {},
          "output_type": "execute_result"
        }
      ],
      "source": [
        "rf.fit(train_X_scale,train_y_scale)"
      ]
    },
    {
      "cell_type": "code",
      "execution_count": null,
      "metadata": {
        "id": "7rqxQSgbrtjl",
        "outputId": "4734e684-b4e5-48ca-8096-dd4e93e3cff7"
      },
      "outputs": [
        {
          "data": {
            "text/html": [
              "<div>\n",
              "<style scoped>\n",
              "    .dataframe tbody tr th:only-of-type {\n",
              "        vertical-align: middle;\n",
              "    }\n",
              "\n",
              "    .dataframe tbody tr th {\n",
              "        vertical-align: top;\n",
              "    }\n",
              "\n",
              "    .dataframe thead th {\n",
              "        text-align: right;\n",
              "    }\n",
              "</style>\n",
              "<table border=\"1\" class=\"dataframe\">\n",
              "  <thead>\n",
              "    <tr style=\"text-align: right;\">\n",
              "      <th></th>\n",
              "      <th>importance</th>\n",
              "    </tr>\n",
              "  </thead>\n",
              "  <tbody>\n",
              "    <tr>\n",
              "      <th>Age_08_04</th>\n",
              "      <td>0.388873</td>\n",
              "    </tr>\n",
              "    <tr>\n",
              "      <th>Mfg_Year</th>\n",
              "      <td>0.352340</td>\n",
              "    </tr>\n",
              "    <tr>\n",
              "      <th>KM</th>\n",
              "      <td>0.053247</td>\n",
              "    </tr>\n",
              "    <tr>\n",
              "      <th>Automatic_airco</th>\n",
              "      <td>0.046042</td>\n",
              "    </tr>\n",
              "    <tr>\n",
              "      <th>Weight</th>\n",
              "      <td>0.042149</td>\n",
              "    </tr>\n",
              "    <tr>\n",
              "      <th>Boardcomputer</th>\n",
              "      <td>0.024954</td>\n",
              "    </tr>\n",
              "    <tr>\n",
              "      <th>HP</th>\n",
              "      <td>0.017678</td>\n",
              "    </tr>\n",
              "    <tr>\n",
              "      <th>Quarterly_Tax</th>\n",
              "      <td>0.008074</td>\n",
              "    </tr>\n",
              "    <tr>\n",
              "      <th>Mfg_Month</th>\n",
              "      <td>0.007395</td>\n",
              "    </tr>\n",
              "    <tr>\n",
              "      <th>Sport_Model</th>\n",
              "      <td>0.004962</td>\n",
              "    </tr>\n",
              "  </tbody>\n",
              "</table>\n",
              "</div>"
            ],
            "text/plain": [
              "                 importance\n",
              "Age_08_04          0.388873\n",
              "Mfg_Year           0.352340\n",
              "KM                 0.053247\n",
              "Automatic_airco    0.046042\n",
              "Weight             0.042149\n",
              "Boardcomputer      0.024954\n",
              "HP                 0.017678\n",
              "Quarterly_Tax      0.008074\n",
              "Mfg_Month          0.007395\n",
              "Sport_Model        0.004962"
            ]
          },
          "execution_count": 24,
          "metadata": {},
          "output_type": "execute_result"
        }
      ],
      "source": [
        "# Show feature importance\n",
        "feature_importances = pd.DataFrame(rf.feature_importances_,\n",
        "                                   index = train_X_scale.columns,\n",
        "                                   columns=['importance'])\n",
        "feature_importances = feature_importances.sort_values('importance',ascending=False)\n",
        "\n",
        "feature_importances.head(10)"
      ]
    },
    {
      "cell_type": "code",
      "execution_count": null,
      "metadata": {
        "id": "TKg89KQ9rtjm",
        "outputId": "51e4c7fc-efad-480b-8a4c-2b21b459e2c4"
      },
      "outputs": [
        {
          "data": {
            "text/plain": [
              "<matplotlib.axes._subplots.AxesSubplot at 0x252d6d985c0>"
            ]
          },
          "execution_count": 25,
          "metadata": {},
          "output_type": "execute_result"
        },
        {
          "data": {
            "image/png": "[encoded data removed]",
            "text/plain": [
              "<Figure size 1080x360 with 1 Axes>"
            ]
          },
          "metadata": {
            "needs_background": "light"
          },
          "output_type": "display_data"
        }
      ],
      "source": [
        "feature_importances.plot(kind = 'bar',figsize=(15,5),\n",
        "                         title='Feature Importance')"
      ]
    },
    {
      "cell_type": "code",
      "execution_count": null,
      "metadata": {
        "id": "1ss-mJvvrtjm",
        "outputId": "aacff92d-5187-4115-b353-41138e1a9209"
      },
      "outputs": [
        {
          "name": "stdout",
          "output_type": "stream",
          "text": [
            "<class 'pandas.core.frame.DataFrame'>\n",
            "RangeIndex: 1005 entries, 0 to 1004\n",
            "Data columns (total 25 columns):\n",
            " #   Column            Non-Null Count  Dtype  \n",
            "---  ------            --------------  -----  \n",
            " 0   Age_08_04         1005 non-null   float64\n",
            " 1   Mfg_Year          1005 non-null   float64\n",
            " 2   KM                1005 non-null   float64\n",
            " 3   Automatic_airco   1005 non-null   float64\n",
            " 4   Weight            1005 non-null   float64\n",
            " 5   Boardcomputer     1005 non-null   float64\n",
            " 6   HP                1005 non-null   float64\n",
            " 7   Quarterly_Tax     1005 non-null   float64\n",
            " 8   Mfg_Month         1005 non-null   float64\n",
            " 9   Sport_Model       1005 non-null   float64\n",
            " 10  CC                1005 non-null   float64\n",
            " 11  Powered_Windows   1005 non-null   float64\n",
            " 12  Metallic_Rim      1005 non-null   float64\n",
            " 13  Mfr_Guarantee     1005 non-null   float64\n",
            " 14  Airco             1005 non-null   float64\n",
            " 15  Central_Lock      1005 non-null   float64\n",
            " 16  Doors             1005 non-null   float64\n",
            " 17  Mistlamps         1005 non-null   float64\n",
            " 18  Airbag_2          1005 non-null   float64\n",
            " 19  BOVAG_Guarantee   1005 non-null   float64\n",
            " 20  Met_Color         1005 non-null   float64\n",
            " 21  Color_Blue        1005 non-null   float64\n",
            " 22  Color_Grey        1005 non-null   float64\n",
            " 23  Fuel_Type_Petrol  1005 non-null   float64\n",
            " 24  Fuel_Type_Diesel  1005 non-null   float64\n",
            "dtypes: float64(25)\n",
            "memory usage: 196.4 KB\n"
          ]
        }
      ],
      "source": [
        "# Select the 25 most importance features\n",
        "train_X_scale_imp = train_X_scale[feature_importances.index[range(25)]]\n",
        "train_X_scale_imp.info()"
      ]
    },
    {
      "cell_type": "code",
      "execution_count": null,
      "metadata": {
        "id": "eFJYxBLdrtjm",
        "outputId": "bcb4d0e1-e064-4e2e-ff43-288cd47016b3"
      },
      "outputs": [
        {
          "name": "stdout",
          "output_type": "stream",
          "text": [
            "<class 'pandas.core.frame.DataFrame'>\n",
            "RangeIndex: 431 entries, 0 to 430\n",
            "Data columns (total 25 columns):\n",
            " #   Column            Non-Null Count  Dtype  \n",
            "---  ------            --------------  -----  \n",
            " 0   Age_08_04         431 non-null    float64\n",
            " 1   Mfg_Year          431 non-null    float64\n",
            " 2   KM                431 non-null    float64\n",
            " 3   Automatic_airco   431 non-null    float64\n",
            " 4   Weight            431 non-null    float64\n",
            " 5   Boardcomputer     431 non-null    float64\n",
            " 6   HP                431 non-null    float64\n",
            " 7   Quarterly_Tax     431 non-null    float64\n",
            " 8   Mfg_Month         431 non-null    float64\n",
            " 9   Sport_Model       431 non-null    float64\n",
            " 10  CC                431 non-null    float64\n",
            " 11  Powered_Windows   431 non-null    float64\n",
            " 12  Metallic_Rim      431 non-null    float64\n",
            " 13  Mfr_Guarantee     431 non-null    float64\n",
            " 14  Airco             431 non-null    float64\n",
            " 15  Central_Lock      431 non-null    float64\n",
            " 16  Doors             431 non-null    float64\n",
            " 17  Mistlamps         431 non-null    float64\n",
            " 18  Airbag_2          431 non-null    float64\n",
            " 19  BOVAG_Guarantee   431 non-null    float64\n",
            " 20  Met_Color         431 non-null    float64\n",
            " 21  Color_Blue        431 non-null    float64\n",
            " 22  Color_Grey        431 non-null    float64\n",
            " 23  Fuel_Type_Petrol  431 non-null    float64\n",
            " 24  Fuel_Type_Diesel  431 non-null    float64\n",
            "dtypes: float64(25)\n",
            "memory usage: 84.3 KB\n"
          ]
        }
      ],
      "source": [
        "test_X_scale_imp = test_X_scale[feature_importances.index[range(25)]]\n",
        "test_X_scale_imp.info()"
      ]
    },
    {
      "cell_type": "markdown",
      "metadata": {
        "id": "RCCgn8SMrtjn"
      },
      "source": [
        "## 2. Predictive Modeling\n",
        "\n",
        "In this section, we use neural network model to predict the price of used Toyota Corolla."
      ]
    },
    {
      "cell_type": "code",
      "execution_count": null,
      "metadata": {
        "id": "6_6nVeYSrtjn"
      },
      "outputs": [],
      "source": [
        "from sklearn import neural_network"
      ]
    },
    {
      "cell_type": "markdown",
      "metadata": {
        "id": "E8IGYR7mrtjn"
      },
      "source": [
        "### 2.1. Train an ANN Model Using All Features"
      ]
    },
    {
      "cell_type": "code",
      "execution_count": null,
      "metadata": {
        "id": "PaIneEB4rtjn"
      },
      "outputs": [],
      "source": [
        "# Specify an ANN model, use 1 hidden layer with 20 nodes\n",
        "ann1 = neural_network.MLPRegressor(alpha=1e-5,\n",
        "                                   hidden_layer_sizes=(20),\n",
        "                                   random_state=1)"
      ]
    },
    {
      "cell_type": "code",
      "execution_count": null,
      "metadata": {
        "id": "p9oRBmWDrtjn",
        "outputId": "0b075de6-34d8-445b-bd97-c29d3a992cb0"
      },
      "outputs": [
        {
          "data": {
            "text/plain": [
              "MLPRegressor(activation='relu', alpha=1e-05, batch_size='auto', beta_1=0.9,\n",
              "       beta_2=0.999, early_stopping=False, epsilon=1e-08,\n",
              "       hidden_layer_sizes=20, learning_rate='constant',\n",
              "       learning_rate_init=0.001, max_iter=200, momentum=0.9,\n",
              "       n_iter_no_change=10, nesterovs_momentum=True, power_t=0.5,\n",
              "       random_state=1, shuffle=True, solver='adam', tol=0.0001,\n",
              "       validation_fraction=0.1, verbose=False, warm_start=False)"
            ]
          },
          "execution_count": 30,
          "metadata": {},
          "output_type": "execute_result"
        }
      ],
      "source": [
        "ann1.fit(train_X_scale, train_y_scale)"
      ]
    },
    {
      "cell_type": "markdown",
      "metadata": {
        "id": "N6uJYF4drtjn"
      },
      "source": [
        "Now, let's evaluate Model 1."
      ]
    },
    {
      "cell_type": "code",
      "execution_count": null,
      "metadata": {
        "id": "rmljuQYvrtjo"
      },
      "outputs": [],
      "source": [
        "from sklearn import metrics"
      ]
    },
    {
      "cell_type": "code",
      "execution_count": null,
      "metadata": {
        "id": "dp1Huxrgrtjo",
        "outputId": "1d470564-75c2-40aa-c3eb-e177d4b91cae"
      },
      "outputs": [
        {
          "data": {
            "text/plain": [
              "count    431.000000\n",
              "mean       0.238800\n",
              "std        0.145629\n",
              "min       -0.161773\n",
              "25%        0.135447\n",
              "50%        0.219989\n",
              "75%        0.301386\n",
              "max        0.790562\n",
              "dtype: float64"
            ]
          },
          "execution_count": 32,
          "metadata": {},
          "output_type": "execute_result"
        }
      ],
      "source": [
        "# Predict on test set\n",
        "pred_y1 = ann1.predict(test_X_scale)\n",
        "pd.Series(pred_y1).describe()"
      ]
    },
    {
      "cell_type": "markdown",
      "metadata": {
        "id": "rgCdFGKIrtjo"
      },
      "source": [
        "We notice that the predicted price is in the normalized scale. We can convert it back to the original scale."
      ]
    },
    {
      "cell_type": "code",
      "execution_count": null,
      "metadata": {
        "id": "l87tiRTertjo",
        "outputId": "a3c3aced-f6d8-41ef-dedc-92da80912b27"
      },
      "outputs": [
        {
          "data": {
            "text/plain": [
              "count      431.000000\n",
              "mean     11072.226902\n",
              "std       4099.442391\n",
              "min       -203.913605\n",
              "25%       8162.823071\n",
              "50%      10542.690358\n",
              "75%      12834.020438\n",
              "max      26604.307688\n",
              "dtype: float64"
            ]
          },
          "execution_count": 33,
          "metadata": {},
          "output_type": "execute_result"
        }
      ],
      "source": [
        "pred_y1_raw = train_scale_y.inverse_transform(pred_y1.reshape(-1,1))\n",
        "pred_y1_raw = pd.Series(pred_y1_raw.reshape(pred_y1.shape[0],))\n",
        "pred_y1_raw.describe()"
      ]
    },
    {
      "cell_type": "code",
      "execution_count": null,
      "metadata": {
        "id": "fshrvSSGrtjo",
        "outputId": "91c0c11b-a1b2-4372-9467-80470cf45907"
      },
      "outputs": [
        {
          "data": {
            "image/png": "[encoded data removed]",
            "text/plain": [
              "<Figure size 432x288 with 1 Axes>"
            ]
          },
          "metadata": {
            "needs_background": "light"
          },
          "output_type": "display_data"
        }
      ],
      "source": [
        "plt.scatter(test_y, pred_y1_raw)\n",
        "plt.xlabel('Actual Price')\n",
        "plt.ylabel('Predicted Price')\n",
        "plt.show()"
      ]
    },
    {
      "cell_type": "markdown",
      "metadata": {
        "id": "7ibkxIHPrtjp"
      },
      "source": [
        "From the above plot, we can see that the predicted price is related to the actual price in the test dataset. But there are some errors.\n",
        "\n",
        "Now, let's calculate some performance metrics."
      ]
    },
    {
      "cell_type": "code",
      "execution_count": null,
      "metadata": {
        "id": "0Y8kmWCPrtjp",
        "outputId": "f9cdb850-fc49-4bf7-8902-1c1eb9345926"
      },
      "outputs": [
        {
          "data": {
            "text/plain": [
              "1629.033121343838"
            ]
          },
          "execution_count": 35,
          "metadata": {},
          "output_type": "execute_result"
        }
      ],
      "source": [
        "# Calculate MAE\n",
        "metrics.mean_absolute_error(test_y, pred_y1_raw)"
      ]
    },
    {
      "cell_type": "code",
      "execution_count": null,
      "metadata": {
        "scrolled": true,
        "id": "RXhsDaeertjp",
        "outputId": "aa8716d1-938e-456b-f956-ccf8b39fdbdf"
      },
      "outputs": [
        {
          "data": {
            "text/plain": [
              "0.6672406848396826"
            ]
          },
          "execution_count": 36,
          "metadata": {},
          "output_type": "execute_result"
        }
      ],
      "source": [
        "# Calculate R squared\n",
        "metrics.r2_score(test_y, pred_y1_raw)"
      ]
    },
    {
      "cell_type": "code",
      "execution_count": null,
      "metadata": {
        "id": "cHpDSuQwrtjp",
        "outputId": "a5af4597-4ef1-4b97-e67d-3322de19a7af"
      },
      "outputs": [
        {
          "data": {
            "text/plain": [
              "4605837.567506374"
            ]
          },
          "execution_count": 37,
          "metadata": {},
          "output_type": "execute_result"
        }
      ],
      "source": [
        "# Calculate MSE\n",
        "metrics.regression.mean_squared_error(test_y, pred_y1_raw)"
      ]
    },
    {
      "cell_type": "code",
      "execution_count": null,
      "metadata": {
        "id": "qsbLFyaErtjp",
        "outputId": "b803aef2-9336-45d3-e33d-097e6f621963"
      },
      "outputs": [
        {
          "data": {
            "text/plain": [
              "7052.148335734044"
            ]
          },
          "execution_count": 38,
          "metadata": {},
          "output_type": "execute_result"
        }
      ],
      "source": [
        "# Calculate RMSE \n",
        "import numpy as np\n",
        "np.sqrt(((test_y-pred_y1_raw) ** 2).mean())"
      ]
    },
    {
      "cell_type": "markdown",
      "metadata": {
        "id": "YOfuBXAlrtjp"
      },
      "source": [
        "### 2.2. Train another ANN Model Using All Features"
      ]
    },
    {
      "cell_type": "code",
      "execution_count": null,
      "metadata": {
        "id": "GsRzky34rtjq"
      },
      "outputs": [],
      "source": [
        "# Specify an ANN model, use 3 hidden layers\n",
        "ann2 = neural_network.MLPRegressor(solver='lbfgs',\n",
        "                                   alpha=1e-5,\n",
        "                                   hidden_layer_sizes=(20, 15, 10),\n",
        "                                   random_state=1)"
      ]
    },
    {
      "cell_type": "code",
      "execution_count": null,
      "metadata": {
        "id": "hy3ddZz1rtjq",
        "outputId": "8d259d08-e414-4ff6-fe2e-3643bc9705fe"
      },
      "outputs": [
        {
          "data": {
            "text/plain": [
              "MLPRegressor(activation='relu', alpha=1e-05, batch_size='auto', beta_1=0.9,\n",
              "       beta_2=0.999, early_stopping=False, epsilon=1e-08,\n",
              "       hidden_layer_sizes=(20, 15, 10), learning_rate='constant',\n",
              "       learning_rate_init=0.001, max_iter=200, momentum=0.9,\n",
              "       n_iter_no_change=10, nesterovs_momentum=True, power_t=0.5,\n",
              "       random_state=1, shuffle=True, solver='lbfgs', tol=0.0001,\n",
              "       validation_fraction=0.1, verbose=False, warm_start=False)"
            ]
          },
          "execution_count": 40,
          "metadata": {},
          "output_type": "execute_result"
        }
      ],
      "source": [
        "ann2.fit(train_X_scale, train_y_scale)"
      ]
    },
    {
      "cell_type": "markdown",
      "metadata": {
        "id": "WLYQ1vp9rtjq"
      },
      "source": [
        "Evaluate Model 2."
      ]
    },
    {
      "cell_type": "code",
      "execution_count": null,
      "metadata": {
        "id": "bDJGwxzsrtjq",
        "outputId": "38d0d5ba-e6e3-4be9-9844-c5a22fc506f9"
      },
      "outputs": [
        {
          "data": {
            "text/plain": [
              "count    431.000000\n",
              "mean       0.233317\n",
              "std        0.129734\n",
              "min        0.057091\n",
              "25%        0.153787\n",
              "50%        0.195097\n",
              "75%        0.265971\n",
              "max        0.852813\n",
              "dtype: float64"
            ]
          },
          "execution_count": 41,
          "metadata": {},
          "output_type": "execute_result"
        }
      ],
      "source": [
        "# Predict on test set\n",
        "pred_y2 = ann2.predict(test_X_scale)\n",
        "pd.Series(pred_y2).describe()"
      ]
    },
    {
      "cell_type": "code",
      "execution_count": null,
      "metadata": {
        "id": "mlm-f6dDrtjq",
        "outputId": "58cca466-3e58-4927-b80c-d23bc94654cd"
      },
      "outputs": [
        {
          "data": {
            "text/plain": [
              "count      431.000000\n",
              "mean     10917.887514\n",
              "std       3652.004464\n",
              "min       5957.100434\n",
              "25%       8679.092737\n",
              "50%       9841.987930\n",
              "75%      11837.086842\n",
              "max      28356.690580\n",
              "dtype: float64"
            ]
          },
          "execution_count": 42,
          "metadata": {},
          "output_type": "execute_result"
        }
      ],
      "source": [
        "pred_y2_raw = train_scale_y.inverse_transform(pred_y2.reshape(-1,1))\n",
        "pred_y2_raw = pd.Series(pred_y2_raw.reshape(pred_y2.shape[0],))\n",
        "pred_y2_raw.describe()"
      ]
    },
    {
      "cell_type": "code",
      "execution_count": null,
      "metadata": {
        "id": "YOSbdUwHrtjr",
        "outputId": "e2cb5419-9be3-40cc-cd1c-3b35fc33822a"
      },
      "outputs": [
        {
          "data": {
            "text/plain": [
              "Text(0, 0.5, 'Predicted Price')"
            ]
          },
          "execution_count": 43,
          "metadata": {},
          "output_type": "execute_result"
        },
        {
          "data": {
            "image/png": "[encoded data removed]",
            "text/plain": [
              "<Figure size 432x288 with 1 Axes>"
            ]
          },
          "metadata": {
            "needs_background": "light"
          },
          "output_type": "display_data"
        }
      ],
      "source": [
        "plt.scatter(test_y, pred_y2_raw)\n",
        "plt.xlabel('Actual Price')\n",
        "plt.ylabel('Predicted Price')"
      ]
    },
    {
      "cell_type": "markdown",
      "metadata": {
        "id": "wDJvAOUvrtjr"
      },
      "source": [
        "From the above plot, we can see that the predicted price is more close to the actual price than as in model 1. The prediction error of this model is less than that of the model 1.\n",
        "\n",
        "Now, let's calculate some performance metrics."
      ]
    },
    {
      "cell_type": "code",
      "execution_count": null,
      "metadata": {
        "id": "tn7tNi-Vrtjr",
        "outputId": "be5ad762-91cf-4d78-f47e-0cf4ab80c001"
      },
      "outputs": [
        {
          "data": {
            "text/plain": [
              "821.9672462673764"
            ]
          },
          "execution_count": 44,
          "metadata": {},
          "output_type": "execute_result"
        }
      ],
      "source": [
        "# Calculate MAE\n",
        "metrics.mean_absolute_error(test_y, pred_y2_raw)"
      ]
    },
    {
      "cell_type": "code",
      "execution_count": null,
      "metadata": {
        "scrolled": true,
        "id": "SecdxARVrtjr",
        "outputId": "2e4fa1f4-5418-41ce-8cd1-c13dd4a1653d"
      },
      "outputs": [
        {
          "data": {
            "text/plain": [
              "0.9111003827010266"
            ]
          },
          "execution_count": 45,
          "metadata": {},
          "output_type": "execute_result"
        }
      ],
      "source": [
        "# Calculate R squared\n",
        "metrics.r2_score(test_y, pred_y2_raw)"
      ]
    },
    {
      "cell_type": "code",
      "execution_count": null,
      "metadata": {
        "id": "Ob0iNdINrtjr",
        "outputId": "69cd4b55-f0d8-44d1-fd2e-6b6c3a7df42a"
      },
      "outputs": [
        {
          "data": {
            "text/plain": [
              "1230490.563112508"
            ]
          },
          "execution_count": 46,
          "metadata": {},
          "output_type": "execute_result"
        }
      ],
      "source": [
        "# Calculate MSE\n",
        "metrics.regression.mean_squared_error(test_y, pred_y2_raw)"
      ]
    },
    {
      "cell_type": "code",
      "execution_count": null,
      "metadata": {
        "id": "Yhxcugi7rtjr",
        "outputId": "52121bf3-3156-495b-cad3-6095f24ab59b"
      },
      "outputs": [
        {
          "data": {
            "text/plain": [
              "6861.489378248741"
            ]
          },
          "execution_count": 47,
          "metadata": {},
          "output_type": "execute_result"
        }
      ],
      "source": [
        "# Calculate RMSE \n",
        "import numpy as np\n",
        "np.sqrt(((test_y-pred_y2_raw) ** 2).mean())"
      ]
    },
    {
      "cell_type": "markdown",
      "metadata": {
        "id": "pPXsKG6crtjs"
      },
      "source": [
        "### 2.3. Train another ANN Model Using Important Features"
      ]
    },
    {
      "cell_type": "code",
      "execution_count": null,
      "metadata": {
        "id": "x9o3pEfCrtjs"
      },
      "outputs": [],
      "source": [
        "# Specify an ANN model, use 3 hidden layers\n",
        "ann3 = neural_network.MLPRegressor(solver='lbfgs',\n",
        "                                   alpha=1e-5,\n",
        "                                   hidden_layer_sizes=(20, 15, 10),\n",
        "                                   random_state=1)"
      ]
    },
    {
      "cell_type": "code",
      "execution_count": null,
      "metadata": {
        "id": "zey2sJTxrtjs",
        "outputId": "20305c30-98f4-43f2-d713-4bc9d445b36d"
      },
      "outputs": [
        {
          "data": {
            "text/plain": [
              "MLPRegressor(activation='relu', alpha=1e-05, batch_size='auto', beta_1=0.9,\n",
              "       beta_2=0.999, early_stopping=False, epsilon=1e-08,\n",
              "       hidden_layer_sizes=(20, 15, 10), learning_rate='constant',\n",
              "       learning_rate_init=0.001, max_iter=200, momentum=0.9,\n",
              "       n_iter_no_change=10, nesterovs_momentum=True, power_t=0.5,\n",
              "       random_state=1, shuffle=True, solver='lbfgs', tol=0.0001,\n",
              "       validation_fraction=0.1, verbose=False, warm_start=False)"
            ]
          },
          "execution_count": 49,
          "metadata": {},
          "output_type": "execute_result"
        }
      ],
      "source": [
        "ann3.fit(train_X_scale_imp, train_y_scale)"
      ]
    },
    {
      "cell_type": "markdown",
      "metadata": {
        "id": "wXn-g400rtjs"
      },
      "source": [
        "Evaluate Model 3."
      ]
    },
    {
      "cell_type": "code",
      "execution_count": null,
      "metadata": {
        "id": "nXMpXc4Wrtjs",
        "outputId": "2e770943-e95f-4142-8428-45a7b42e4156"
      },
      "outputs": [
        {
          "data": {
            "text/plain": [
              "count    431.000000\n",
              "mean       0.233286\n",
              "std        0.126337\n",
              "min        0.062617\n",
              "25%        0.146739\n",
              "50%        0.193762\n",
              "75%        0.270359\n",
              "max        0.898416\n",
              "dtype: float64"
            ]
          },
          "execution_count": 50,
          "metadata": {},
          "output_type": "execute_result"
        }
      ],
      "source": [
        "# Predict on test set\n",
        "pred_y3 = ann3.predict(test_X_scale_imp)\n",
        "pd.Series(pred_y3).describe()"
      ]
    },
    {
      "cell_type": "code",
      "execution_count": null,
      "metadata": {
        "id": "3FRKEaaurtjs",
        "outputId": "409234ed-589a-4d33-b580-65786d4c0e0a"
      },
      "outputs": [
        {
          "data": {
            "text/plain": [
              "count      431.000000\n",
              "mean     10916.995797\n",
              "std       3556.376039\n",
              "min       6112.681989\n",
              "25%       8480.708522\n",
              "50%       9804.406404\n",
              "75%      11960.603107\n",
              "max      29640.419326\n",
              "dtype: float64"
            ]
          },
          "execution_count": 51,
          "metadata": {},
          "output_type": "execute_result"
        }
      ],
      "source": [
        "pred_y3_raw = train_scale_y.inverse_transform(pred_y3.reshape(-1,1))\n",
        "pred_y3_raw = pd.Series(pred_y3_raw.reshape(pred_y3.shape[0],))\n",
        "pred_y3_raw.describe()"
      ]
    },
    {
      "cell_type": "code",
      "execution_count": null,
      "metadata": {
        "id": "JeSgB046rtjt",
        "outputId": "aa5fb2a8-6290-4ad3-c2df-3e43d0874d4e"
      },
      "outputs": [
        {
          "data": {
            "image/png": "[encoded data removed]",
            "text/plain": [
              "<Figure size 432x288 with 1 Axes>"
            ]
          },
          "metadata": {
            "needs_background": "light"
          },
          "output_type": "display_data"
        }
      ],
      "source": [
        "plt.scatter(test_y, pred_y3_raw)\n",
        "plt.xlabel('Actual Price')\n",
        "plt.ylabel('Predicted Price')\n",
        "plt.show()"
      ]
    },
    {
      "cell_type": "code",
      "execution_count": null,
      "metadata": {
        "id": "PqtFnvobrtjt",
        "outputId": "0987b614-202a-43fd-ee5c-9446e17a6f52"
      },
      "outputs": [
        {
          "data": {
            "text/plain": [
              "825.6122245445783"
            ]
          },
          "execution_count": 53,
          "metadata": {},
          "output_type": "execute_result"
        }
      ],
      "source": [
        "# Calculate MAE\n",
        "metrics.mean_absolute_error(test_y, pred_y3_raw)"
      ]
    },
    {
      "cell_type": "code",
      "execution_count": null,
      "metadata": {
        "id": "Y_CfaYP_rtjt",
        "outputId": "530a800c-e666-40bb-b63d-731536a006f4"
      },
      "outputs": [
        {
          "data": {
            "text/plain": [
              "0.9160372208877865"
            ]
          },
          "execution_count": 54,
          "metadata": {},
          "output_type": "execute_result"
        }
      ],
      "source": [
        "# Calculate R squared\n",
        "metrics.r2_score(test_y, pred_y3_raw)"
      ]
    },
    {
      "cell_type": "code",
      "execution_count": null,
      "metadata": {
        "id": "rlcCmc0krtjt",
        "outputId": "3c943315-2a2a-4ffa-8060-43974e967a61"
      },
      "outputs": [
        {
          "data": {
            "text/plain": [
              "0.9160372208877865"
            ]
          },
          "execution_count": 55,
          "metadata": {},
          "output_type": "execute_result"
        }
      ],
      "source": [
        "metrics.r2_score(test_y_scale, pred_y3)"
      ]
    },
    {
      "cell_type": "code",
      "execution_count": null,
      "metadata": {
        "id": "DCIOQIWzrtjt",
        "outputId": "908e6cf8-fcaf-4b30-d396-0a39c4f3a4be"
      },
      "outputs": [
        {
          "data": {
            "text/plain": [
              "1162158.0664720333"
            ]
          },
          "execution_count": 56,
          "metadata": {},
          "output_type": "execute_result"
        }
      ],
      "source": [
        "# Calculate MSE\n",
        "metrics.regression.mean_squared_error(test_y, pred_y3_raw)"
      ]
    },
    {
      "cell_type": "code",
      "execution_count": null,
      "metadata": {
        "id": "Jf_kBi8Rrtjt",
        "outputId": "4ac254a4-e0be-406a-b366-73983c89a166"
      },
      "outputs": [
        {
          "data": {
            "text/plain": [
              "6840.124931739464"
            ]
          },
          "execution_count": 57,
          "metadata": {},
          "output_type": "execute_result"
        }
      ],
      "source": [
        "# Calculate RMSE \n",
        "import numpy as np\n",
        "np.sqrt(((test_y-pred_y3_raw) ** 2).mean())"
      ]
    },
    {
      "cell_type": "markdown",
      "metadata": {
        "id": "lc8cqmeDrtju"
      },
      "source": [
        "### 3.5. Compare Two Models"
      ]
    },
    {
      "cell_type": "code",
      "execution_count": null,
      "metadata": {
        "id": "_MWLUYsErtju"
      },
      "outputs": [],
      "source": [
        "hid = ['20','20-15-10','20-15-10']\n",
        "\n",
        "fsec = [False, False, True]\n",
        "\n",
        "mae = [metrics.mean_absolute_error(test_y, pred_y1_raw),\n",
        "       metrics.mean_absolute_error(test_y, pred_y2_raw),\n",
        "       metrics.mean_absolute_error(test_y, pred_y3_raw)]\n",
        "\n",
        "r2 = [metrics.r2_score(test_y, pred_y1_raw),\n",
        "      metrics.r2_score(test_y, pred_y2_raw),\n",
        "      metrics.r2_score(test_y, pred_y3_raw)]\n",
        "mse = [metrics.regression.mean_squared_error(test_y, pred_y1_raw),\n",
        "       metrics.regression.mean_squared_error(test_y, pred_y2_raw),\n",
        "       metrics.regression.mean_squared_error(test_y, pred_y3_raw)]\n",
        "\n",
        "rmse =[np.sqrt(((test_y-pred_y1_raw) ** 2).mean()),\n",
        "       np.sqrt(((test_y-pred_y2_raw) ** 2).mean()),\n",
        "       np.sqrt(((test_y-pred_y3_raw) ** 2).mean())] "
      ]
    },
    {
      "cell_type": "code",
      "execution_count": null,
      "metadata": {
        "id": "0L4YUUqvrtju",
        "outputId": "ddce4f72-ee1d-4c75-c976-f72762c32b4f"
      },
      "outputs": [
        {
          "data": {
            "text/html": [
              "<div>\n",
              "<style scoped>\n",
              "    .dataframe tbody tr th:only-of-type {\n",
              "        vertical-align: middle;\n",
              "    }\n",
              "\n",
              "    .dataframe tbody tr th {\n",
              "        vertical-align: top;\n",
              "    }\n",
              "\n",
              "    .dataframe thead th {\n",
              "        text-align: right;\n",
              "    }\n",
              "</style>\n",
              "<table border=\"1\" class=\"dataframe\">\n",
              "  <thead>\n",
              "    <tr style=\"text-align: right;\">\n",
              "      <th></th>\n",
              "      <th>Feature Selection</th>\n",
              "      <th>Hidden Layers</th>\n",
              "      <th>MAE</th>\n",
              "      <th>R2</th>\n",
              "      <th>MSE</th>\n",
              "      <th>RMSE</th>\n",
              "    </tr>\n",
              "  </thead>\n",
              "  <tbody>\n",
              "    <tr>\n",
              "      <th>Model 1</th>\n",
              "      <td>False</td>\n",
              "      <td>20</td>\n",
              "      <td>1629.033121</td>\n",
              "      <td>0.667241</td>\n",
              "      <td>4.605838e+06</td>\n",
              "      <td>7052.148336</td>\n",
              "    </tr>\n",
              "    <tr>\n",
              "      <th>Model 2</th>\n",
              "      <td>False</td>\n",
              "      <td>20-15-10</td>\n",
              "      <td>821.967246</td>\n",
              "      <td>0.911100</td>\n",
              "      <td>1.230491e+06</td>\n",
              "      <td>6861.489378</td>\n",
              "    </tr>\n",
              "    <tr>\n",
              "      <th>Model 3</th>\n",
              "      <td>True</td>\n",
              "      <td>20-15-10</td>\n",
              "      <td>825.612225</td>\n",
              "      <td>0.916037</td>\n",
              "      <td>1.162158e+06</td>\n",
              "      <td>6840.124932</td>\n",
              "    </tr>\n",
              "  </tbody>\n",
              "</table>\n",
              "</div>"
            ],
            "text/plain": [
              "         Feature Selection Hidden Layers          MAE        R2           MSE  \\\n",
              "Model 1              False            20  1629.033121  0.667241  4.605838e+06   \n",
              "Model 2              False      20-15-10   821.967246  0.911100  1.230491e+06   \n",
              "Model 3               True      20-15-10   825.612225  0.916037  1.162158e+06   \n",
              "\n",
              "                RMSE  \n",
              "Model 1  7052.148336  \n",
              "Model 2  6861.489378  \n",
              "Model 3  6840.124932  "
            ]
          },
          "execution_count": 59,
          "metadata": {},
          "output_type": "execute_result"
        }
      ],
      "source": [
        "pd.DataFrame({'Feature Selection': fsec,\n",
        "              'Hidden Layers':hid,\n",
        "              'MAE':mae, 'R2':r2, \n",
        "              'MSE':mse, 'RMSE':rmse},\n",
        "            index = ['Model 1','Model 2','Model 3'])"
      ]
    },
    {
      "cell_type": "markdown",
      "metadata": {
        "id": "66WWr8thrtjv"
      },
      "source": [
        "From the above comparison, we can see that model 2 with 3 hidden layers has a better performance than model 1 with 1 hidden layer.\n",
        "\n",
        "By selecting the most important features via random forests, model 3 has a slightly better performance than model 2 in terms of RMSE and R2. \n",
        "\n",
        "Please notice that the predicted price is scaled. If we need the unscaled price, we need to convert it back to the original scale."
      ]
    }
  ],
  "metadata": {
    "anaconda-cloud": {},
    "kernelspec": {
      "display_name": "Python 3",
      "language": "python",
      "name": "python3"
    },
    "language_info": {
      "codemirror_mode": {
        "name": "ipython",
        "version": 3
      },
      "file_extension": ".py",
      "mimetype": "text/x-python",
      "name": "python",
      "nbconvert_exporter": "python",
      "pygments_lexer": "ipython3",
      "version": "3.6.8"
    },
    "colab": {
      "name": "Supervised_Methods_3_ANN.ipynb",
      "provenance": [],
      "include_colab_link": true
    }
  },
  "nbformat": 4,
  "nbformat_minor": 0
}