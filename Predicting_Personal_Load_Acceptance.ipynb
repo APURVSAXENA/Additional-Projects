{
  "cells": [
    {
      "cell_type": "markdown",
      "metadata": {
        "id": "view-in-github",
        "colab_type": "text"
      },
      "source": [
        "<a href=\"https://colab.research.google.com/github/APURVSAXENA/Additional-Projects/blob/master/Predicting_Personal_Load_Acceptance.ipynb\" target=\"_parent\"><img src=\"https://colab.research.google.com/assets/colab-badge.svg\" alt=\"Open In Colab\"/></a>"
      ]
    },
    {
      "cell_type": "markdown",
      "metadata": {
        "id": "RjSQnVUos2mt"
      },
      "source": [
        "#### <h1 align=\"center\"> Predicting Personal Loan Acceptance </h1>"
      ]
    },
    {
      "cell_type": "code",
      "execution_count": null,
      "metadata": {
        "id": "tBR6C4xCs2mx"
      },
      "outputs": [],
      "source": [
        "# Import modules\n",
        "import pandas as pd\n",
        "import numpy as np\n",
        "import matplotlib.pyplot as plt\n",
        "import seaborn as sns\n",
        "import itertools"
      ]
    },
    {
      "cell_type": "markdown",
      "metadata": {
        "id": "pPm7R81Ws2mz"
      },
      "source": [
        "## 1. Data\n",
        "\n",
        "The data file “UniversalBank.csv” contains a dataset of 5000 customers of the Universal Bank.\n",
        "\n",
        "Below is the description of columns in the dataset.\n",
        "\n",
        "- Id: Customer ID\n",
        "- Age: Customer’s age in completed years\n",
        "- Experience: #years of professional experience\n",
        "- Income: Annual income of the customer (1000 dollars)\n",
        "- ZIPCode: Home Address ZIP code.\n",
        "- Family: Family size of the customer\n",
        "- CCAvg: Avg. spending on credit cards per month (1000 dollors)\n",
        "- Education: Education Level. 1: Undergrad; 2: Graduate; 3: Advanced/Professional\n",
        "- Mortgage: Value of house mortgage if any. (1000 dollars)\n",
        "- Personal_Loan: Did this customer accept the personal loan offered in the last campaign?\n",
        "- Securities_Account: Does the customer have a securities account with the bank?\n",
        "- CD_Account: Does the customer have a certificate of deposit (CD) account with the bank?\n",
        "- Online: Does the customer use internet banking facilities?\n",
        "- CreditCard: Does the customer use a credit card issued by UniversalBank?\n",
        "\n",
        "**Objective**: We want to build a predictive model that can accurately predict if a customer will accept personal loan offered by the Universal Bank."
      ]
    },
    {
      "cell_type": "code",
      "execution_count": null,
      "metadata": {
        "scrolled": true,
        "id": "tArOtH8Ts2m0",
        "outputId": "705b7805-0296-4716-98d3-63510524d850"
      },
      "outputs": [
        {
          "data": {
            "text/html": [
              "<div>\n",
              "<style scoped>\n",
              "    .dataframe tbody tr th:only-of-type {\n",
              "        vertical-align: middle;\n",
              "    }\n",
              "\n",
              "    .dataframe tbody tr th {\n",
              "        vertical-align: top;\n",
              "    }\n",
              "\n",
              "    .dataframe thead th {\n",
              "        text-align: right;\n",
              "    }\n",
              "</style>\n",
              "<table border=\"1\" class=\"dataframe\">\n",
              "  <thead>\n",
              "    <tr style=\"text-align: right;\">\n",
              "      <th></th>\n",
              "      <th>Id</th>\n",
              "      <th>Age</th>\n",
              "      <th>Experience</th>\n",
              "      <th>Income</th>\n",
              "      <th>ZIP_Code</th>\n",
              "      <th>Family</th>\n",
              "      <th>CCAvg</th>\n",
              "      <th>Education</th>\n",
              "      <th>Mortgage</th>\n",
              "      <th>Personal_Loan</th>\n",
              "      <th>Securities_Account</th>\n",
              "      <th>CD_Account</th>\n",
              "      <th>Online</th>\n",
              "      <th>CreditCard</th>\n",
              "    </tr>\n",
              "  </thead>\n",
              "  <tbody>\n",
              "    <tr>\n",
              "      <th>0</th>\n",
              "      <td>1</td>\n",
              "      <td>25</td>\n",
              "      <td>1</td>\n",
              "      <td>49</td>\n",
              "      <td>91107</td>\n",
              "      <td>4</td>\n",
              "      <td>1.6</td>\n",
              "      <td>1</td>\n",
              "      <td>0</td>\n",
              "      <td>0</td>\n",
              "      <td>1</td>\n",
              "      <td>0</td>\n",
              "      <td>0</td>\n",
              "      <td>0</td>\n",
              "    </tr>\n",
              "    <tr>\n",
              "      <th>1</th>\n",
              "      <td>2</td>\n",
              "      <td>45</td>\n",
              "      <td>19</td>\n",
              "      <td>34</td>\n",
              "      <td>90089</td>\n",
              "      <td>3</td>\n",
              "      <td>1.5</td>\n",
              "      <td>1</td>\n",
              "      <td>0</td>\n",
              "      <td>0</td>\n",
              "      <td>1</td>\n",
              "      <td>0</td>\n",
              "      <td>0</td>\n",
              "      <td>0</td>\n",
              "    </tr>\n",
              "    <tr>\n",
              "      <th>2</th>\n",
              "      <td>3</td>\n",
              "      <td>39</td>\n",
              "      <td>15</td>\n",
              "      <td>11</td>\n",
              "      <td>94720</td>\n",
              "      <td>1</td>\n",
              "      <td>1.0</td>\n",
              "      <td>1</td>\n",
              "      <td>0</td>\n",
              "      <td>0</td>\n",
              "      <td>0</td>\n",
              "      <td>0</td>\n",
              "      <td>0</td>\n",
              "      <td>0</td>\n",
              "    </tr>\n",
              "    <tr>\n",
              "      <th>3</th>\n",
              "      <td>4</td>\n",
              "      <td>35</td>\n",
              "      <td>9</td>\n",
              "      <td>100</td>\n",
              "      <td>94112</td>\n",
              "      <td>1</td>\n",
              "      <td>2.7</td>\n",
              "      <td>2</td>\n",
              "      <td>0</td>\n",
              "      <td>0</td>\n",
              "      <td>0</td>\n",
              "      <td>0</td>\n",
              "      <td>0</td>\n",
              "      <td>0</td>\n",
              "    </tr>\n",
              "    <tr>\n",
              "      <th>4</th>\n",
              "      <td>5</td>\n",
              "      <td>35</td>\n",
              "      <td>8</td>\n",
              "      <td>45</td>\n",
              "      <td>91330</td>\n",
              "      <td>4</td>\n",
              "      <td>1.0</td>\n",
              "      <td>2</td>\n",
              "      <td>0</td>\n",
              "      <td>0</td>\n",
              "      <td>0</td>\n",
              "      <td>0</td>\n",
              "      <td>0</td>\n",
              "      <td>1</td>\n",
              "    </tr>\n",
              "  </tbody>\n",
              "</table>\n",
              "</div>"
            ],
            "text/plain": [
              "   Id  Age  Experience  Income  ZIP_Code  Family  CCAvg  Education  Mortgage  \\\n",
              "0   1   25           1      49     91107       4    1.6          1         0   \n",
              "1   2   45          19      34     90089       3    1.5          1         0   \n",
              "2   3   39          15      11     94720       1    1.0          1         0   \n",
              "3   4   35           9     100     94112       1    2.7          2         0   \n",
              "4   5   35           8      45     91330       4    1.0          2         0   \n",
              "\n",
              "   Personal_Loan  Securities_Account  CD_Account  Online  CreditCard  \n",
              "0              0                   1           0       0           0  \n",
              "1              0                   1           0       0           0  \n",
              "2              0                   0           0       0           0  \n",
              "3              0                   0           0       0           0  \n",
              "4              0                   0           0       0           1  "
            ]
          },
          "execution_count": 2,
          "metadata": {},
          "output_type": "execute_result"
        }
      ],
      "source": [
        "# Read in data\n",
        "dat = pd.read_csv(\"../Data/UniversalBank.csv\")\n",
        "dat.head()"
      ]
    },
    {
      "cell_type": "code",
      "execution_count": null,
      "metadata": {
        "scrolled": false,
        "id": "HQYI8cxBs2m0",
        "outputId": "40bccb6c-0603-46e7-9e8a-ca98876fce7c"
      },
      "outputs": [
        {
          "data": {
            "text/html": [
              "<div>\n",
              "<style scoped>\n",
              "    .dataframe tbody tr th:only-of-type {\n",
              "        vertical-align: middle;\n",
              "    }\n",
              "\n",
              "    .dataframe tbody tr th {\n",
              "        vertical-align: top;\n",
              "    }\n",
              "\n",
              "    .dataframe thead th {\n",
              "        text-align: right;\n",
              "    }\n",
              "</style>\n",
              "<table border=\"1\" class=\"dataframe\">\n",
              "  <thead>\n",
              "    <tr style=\"text-align: right;\">\n",
              "      <th></th>\n",
              "      <th>count</th>\n",
              "      <th>mean</th>\n",
              "      <th>std</th>\n",
              "      <th>min</th>\n",
              "      <th>25%</th>\n",
              "      <th>50%</th>\n",
              "      <th>75%</th>\n",
              "      <th>max</th>\n",
              "    </tr>\n",
              "  </thead>\n",
              "  <tbody>\n",
              "    <tr>\n",
              "      <th>Id</th>\n",
              "      <td>5000.0</td>\n",
              "      <td>2500.500000</td>\n",
              "      <td>1443.520003</td>\n",
              "      <td>1.0</td>\n",
              "      <td>1250.75</td>\n",
              "      <td>2500.5</td>\n",
              "      <td>3750.25</td>\n",
              "      <td>5000.0</td>\n",
              "    </tr>\n",
              "    <tr>\n",
              "      <th>Age</th>\n",
              "      <td>5000.0</td>\n",
              "      <td>45.338400</td>\n",
              "      <td>11.463166</td>\n",
              "      <td>23.0</td>\n",
              "      <td>35.00</td>\n",
              "      <td>45.0</td>\n",
              "      <td>55.00</td>\n",
              "      <td>67.0</td>\n",
              "    </tr>\n",
              "    <tr>\n",
              "      <th>Experience</th>\n",
              "      <td>5000.0</td>\n",
              "      <td>20.104600</td>\n",
              "      <td>11.467954</td>\n",
              "      <td>-3.0</td>\n",
              "      <td>10.00</td>\n",
              "      <td>20.0</td>\n",
              "      <td>30.00</td>\n",
              "      <td>43.0</td>\n",
              "    </tr>\n",
              "    <tr>\n",
              "      <th>Income</th>\n",
              "      <td>5000.0</td>\n",
              "      <td>73.774200</td>\n",
              "      <td>46.033729</td>\n",
              "      <td>8.0</td>\n",
              "      <td>39.00</td>\n",
              "      <td>64.0</td>\n",
              "      <td>98.00</td>\n",
              "      <td>224.0</td>\n",
              "    </tr>\n",
              "    <tr>\n",
              "      <th>ZIP_Code</th>\n",
              "      <td>5000.0</td>\n",
              "      <td>93152.503000</td>\n",
              "      <td>2121.852197</td>\n",
              "      <td>9307.0</td>\n",
              "      <td>91911.00</td>\n",
              "      <td>93437.0</td>\n",
              "      <td>94608.00</td>\n",
              "      <td>96651.0</td>\n",
              "    </tr>\n",
              "    <tr>\n",
              "      <th>Family</th>\n",
              "      <td>5000.0</td>\n",
              "      <td>2.396400</td>\n",
              "      <td>1.147663</td>\n",
              "      <td>1.0</td>\n",
              "      <td>1.00</td>\n",
              "      <td>2.0</td>\n",
              "      <td>3.00</td>\n",
              "      <td>4.0</td>\n",
              "    </tr>\n",
              "    <tr>\n",
              "      <th>CCAvg</th>\n",
              "      <td>5000.0</td>\n",
              "      <td>1.937938</td>\n",
              "      <td>1.747659</td>\n",
              "      <td>0.0</td>\n",
              "      <td>0.70</td>\n",
              "      <td>1.5</td>\n",
              "      <td>2.50</td>\n",
              "      <td>10.0</td>\n",
              "    </tr>\n",
              "    <tr>\n",
              "      <th>Education</th>\n",
              "      <td>5000.0</td>\n",
              "      <td>1.881000</td>\n",
              "      <td>0.839869</td>\n",
              "      <td>1.0</td>\n",
              "      <td>1.00</td>\n",
              "      <td>2.0</td>\n",
              "      <td>3.00</td>\n",
              "      <td>3.0</td>\n",
              "    </tr>\n",
              "    <tr>\n",
              "      <th>Mortgage</th>\n",
              "      <td>5000.0</td>\n",
              "      <td>56.498800</td>\n",
              "      <td>101.713802</td>\n",
              "      <td>0.0</td>\n",
              "      <td>0.00</td>\n",
              "      <td>0.0</td>\n",
              "      <td>101.00</td>\n",
              "      <td>635.0</td>\n",
              "    </tr>\n",
              "    <tr>\n",
              "      <th>Personal_Loan</th>\n",
              "      <td>5000.0</td>\n",
              "      <td>0.096000</td>\n",
              "      <td>0.294621</td>\n",
              "      <td>0.0</td>\n",
              "      <td>0.00</td>\n",
              "      <td>0.0</td>\n",
              "      <td>0.00</td>\n",
              "      <td>1.0</td>\n",
              "    </tr>\n",
              "    <tr>\n",
              "      <th>Securities_Account</th>\n",
              "      <td>5000.0</td>\n",
              "      <td>0.104400</td>\n",
              "      <td>0.305809</td>\n",
              "      <td>0.0</td>\n",
              "      <td>0.00</td>\n",
              "      <td>0.0</td>\n",
              "      <td>0.00</td>\n",
              "      <td>1.0</td>\n",
              "    </tr>\n",
              "    <tr>\n",
              "      <th>CD_Account</th>\n",
              "      <td>5000.0</td>\n",
              "      <td>0.060400</td>\n",
              "      <td>0.238250</td>\n",
              "      <td>0.0</td>\n",
              "      <td>0.00</td>\n",
              "      <td>0.0</td>\n",
              "      <td>0.00</td>\n",
              "      <td>1.0</td>\n",
              "    </tr>\n",
              "    <tr>\n",
              "      <th>Online</th>\n",
              "      <td>5000.0</td>\n",
              "      <td>0.596800</td>\n",
              "      <td>0.490589</td>\n",
              "      <td>0.0</td>\n",
              "      <td>0.00</td>\n",
              "      <td>1.0</td>\n",
              "      <td>1.00</td>\n",
              "      <td>1.0</td>\n",
              "    </tr>\n",
              "    <tr>\n",
              "      <th>CreditCard</th>\n",
              "      <td>5000.0</td>\n",
              "      <td>0.294000</td>\n",
              "      <td>0.455637</td>\n",
              "      <td>0.0</td>\n",
              "      <td>0.00</td>\n",
              "      <td>0.0</td>\n",
              "      <td>1.00</td>\n",
              "      <td>1.0</td>\n",
              "    </tr>\n",
              "  </tbody>\n",
              "</table>\n",
              "</div>"
            ],
            "text/plain": [
              "                     count          mean          std     min       25%  \\\n",
              "Id                  5000.0   2500.500000  1443.520003     1.0   1250.75   \n",
              "Age                 5000.0     45.338400    11.463166    23.0     35.00   \n",
              "Experience          5000.0     20.104600    11.467954    -3.0     10.00   \n",
              "Income              5000.0     73.774200    46.033729     8.0     39.00   \n",
              "ZIP_Code            5000.0  93152.503000  2121.852197  9307.0  91911.00   \n",
              "Family              5000.0      2.396400     1.147663     1.0      1.00   \n",
              "CCAvg               5000.0      1.937938     1.747659     0.0      0.70   \n",
              "Education           5000.0      1.881000     0.839869     1.0      1.00   \n",
              "Mortgage            5000.0     56.498800   101.713802     0.0      0.00   \n",
              "Personal_Loan       5000.0      0.096000     0.294621     0.0      0.00   \n",
              "Securities_Account  5000.0      0.104400     0.305809     0.0      0.00   \n",
              "CD_Account          5000.0      0.060400     0.238250     0.0      0.00   \n",
              "Online              5000.0      0.596800     0.490589     0.0      0.00   \n",
              "CreditCard          5000.0      0.294000     0.455637     0.0      0.00   \n",
              "\n",
              "                        50%       75%      max  \n",
              "Id                   2500.5   3750.25   5000.0  \n",
              "Age                    45.0     55.00     67.0  \n",
              "Experience             20.0     30.00     43.0  \n",
              "Income                 64.0     98.00    224.0  \n",
              "ZIP_Code            93437.0  94608.00  96651.0  \n",
              "Family                  2.0      3.00      4.0  \n",
              "CCAvg                   1.5      2.50     10.0  \n",
              "Education               2.0      3.00      3.0  \n",
              "Mortgage                0.0    101.00    635.0  \n",
              "Personal_Loan           0.0      0.00      1.0  \n",
              "Securities_Account      0.0      0.00      1.0  \n",
              "CD_Account              0.0      0.00      1.0  \n",
              "Online                  1.0      1.00      1.0  \n",
              "CreditCard              0.0      1.00      1.0  "
            ]
          },
          "execution_count": 3,
          "metadata": {},
          "output_type": "execute_result"
        }
      ],
      "source": [
        "# Descriptive statistics\n",
        "dat.describe().transpose()"
      ]
    },
    {
      "cell_type": "markdown",
      "metadata": {
        "id": "uaNqHGF0s2m1"
      },
      "source": [
        "We can find that the mean of Personal_Loan is 0.096. That means only 9.6% customers in the dataset accepted the personal loan. This means the dataset is imbalanced. The imbalance of the classes can be easily detected from the following frequency table and bar chart."
      ]
    },
    {
      "cell_type": "code",
      "execution_count": null,
      "metadata": {
        "id": "ZAyluAwUs2m1",
        "outputId": "2d5a16d3-f917-4e55-c083-6f53281b9511"
      },
      "outputs": [
        {
          "data": {
            "text/plain": [
              "0    4520\n",
              "1     480\n",
              "Name: Personal_Loan, dtype: int64"
            ]
          },
          "execution_count": 4,
          "metadata": {},
          "output_type": "execute_result"
        }
      ],
      "source": [
        "dat['Personal_Loan'].value_counts()"
      ]
    },
    {
      "cell_type": "code",
      "execution_count": null,
      "metadata": {
        "id": "qxWLnQjns2m2",
        "outputId": "4ab85794-e9ec-4bf3-bee8-1f8d81d51aae"
      },
      "outputs": [
        {
          "data": {
            "text/plain": [
              "<matplotlib.axes._subplots.AxesSubplot at 0x21afd1806a0>"
            ]
          },
          "execution_count": 5,
          "metadata": {},
          "output_type": "execute_result"
        },
        {
          "data": {
            "image/png": "[encoded data removed]",
            "text/plain": [
              "<Figure size 432x288 with 1 Axes>"
            ]
          },
          "metadata": {
            "needs_background": "light"
          },
          "output_type": "display_data"
        }
      ],
      "source": [
        "sns.countplot(x=\"Personal_Loan\", data=dat)"
      ]
    },
    {
      "cell_type": "markdown",
      "metadata": {
        "id": "PwsX4UQqs2m3"
      },
      "source": [
        "## 2. Data Preprocessing\n",
        "\n",
        "In this example, we classify whether a customer accepts the personal loan (Personal_Loan) by using all other variables except customer ID and Zip Code."
      ]
    },
    {
      "cell_type": "markdown",
      "metadata": {
        "id": "8EfdmZsEs2m4"
      },
      "source": [
        "### 2.1. Data Transformation"
      ]
    },
    {
      "cell_type": "code",
      "execution_count": null,
      "metadata": {
        "scrolled": false,
        "id": "u1BDOjels2m4"
      },
      "outputs": [],
      "source": [
        "# Drop Id and ZIP_Code\n",
        "dat = dat.drop(['Id','ZIP_Code'], axis = 1)"
      ]
    },
    {
      "cell_type": "markdown",
      "metadata": {
        "id": "-HoUX0wps2m5"
      },
      "source": [
        "### 2.2. One-Hot Encoding\n",
        "\n",
        "Let's use one-hot encoding (or dummy encoding) to encode the education column."
      ]
    },
    {
      "cell_type": "code",
      "execution_count": null,
      "metadata": {
        "id": "-E6i-E6es2m5",
        "outputId": "9f29681b-9878-4039-8752-bef43c5d8af3"
      },
      "outputs": [
        {
          "data": {
            "text/html": [
              "<div>\n",
              "<style scoped>\n",
              "    .dataframe tbody tr th:only-of-type {\n",
              "        vertical-align: middle;\n",
              "    }\n",
              "\n",
              "    .dataframe tbody tr th {\n",
              "        vertical-align: top;\n",
              "    }\n",
              "\n",
              "    .dataframe thead th {\n",
              "        text-align: right;\n",
              "    }\n",
              "</style>\n",
              "<table border=\"1\" class=\"dataframe\">\n",
              "  <thead>\n",
              "    <tr style=\"text-align: right;\">\n",
              "      <th></th>\n",
              "      <th>Age</th>\n",
              "      <th>Experience</th>\n",
              "      <th>Income</th>\n",
              "      <th>Family</th>\n",
              "      <th>CCAvg</th>\n",
              "      <th>Mortgage</th>\n",
              "      <th>Securities_Account</th>\n",
              "      <th>CD_Account</th>\n",
              "      <th>Online</th>\n",
              "      <th>CreditCard</th>\n",
              "      <th>Edu_1</th>\n",
              "      <th>Edu_2</th>\n",
              "      <th>Edu_3</th>\n",
              "    </tr>\n",
              "  </thead>\n",
              "  <tbody>\n",
              "    <tr>\n",
              "      <th>0</th>\n",
              "      <td>25</td>\n",
              "      <td>1</td>\n",
              "      <td>49</td>\n",
              "      <td>4</td>\n",
              "      <td>1.6</td>\n",
              "      <td>0</td>\n",
              "      <td>1</td>\n",
              "      <td>0</td>\n",
              "      <td>0</td>\n",
              "      <td>0</td>\n",
              "      <td>1</td>\n",
              "      <td>0</td>\n",
              "      <td>0</td>\n",
              "    </tr>\n",
              "    <tr>\n",
              "      <th>1</th>\n",
              "      <td>45</td>\n",
              "      <td>19</td>\n",
              "      <td>34</td>\n",
              "      <td>3</td>\n",
              "      <td>1.5</td>\n",
              "      <td>0</td>\n",
              "      <td>1</td>\n",
              "      <td>0</td>\n",
              "      <td>0</td>\n",
              "      <td>0</td>\n",
              "      <td>1</td>\n",
              "      <td>0</td>\n",
              "      <td>0</td>\n",
              "    </tr>\n",
              "    <tr>\n",
              "      <th>2</th>\n",
              "      <td>39</td>\n",
              "      <td>15</td>\n",
              "      <td>11</td>\n",
              "      <td>1</td>\n",
              "      <td>1.0</td>\n",
              "      <td>0</td>\n",
              "      <td>0</td>\n",
              "      <td>0</td>\n",
              "      <td>0</td>\n",
              "      <td>0</td>\n",
              "      <td>1</td>\n",
              "      <td>0</td>\n",
              "      <td>0</td>\n",
              "    </tr>\n",
              "    <tr>\n",
              "      <th>3</th>\n",
              "      <td>35</td>\n",
              "      <td>9</td>\n",
              "      <td>100</td>\n",
              "      <td>1</td>\n",
              "      <td>2.7</td>\n",
              "      <td>0</td>\n",
              "      <td>0</td>\n",
              "      <td>0</td>\n",
              "      <td>0</td>\n",
              "      <td>0</td>\n",
              "      <td>0</td>\n",
              "      <td>1</td>\n",
              "      <td>0</td>\n",
              "    </tr>\n",
              "    <tr>\n",
              "      <th>4</th>\n",
              "      <td>35</td>\n",
              "      <td>8</td>\n",
              "      <td>45</td>\n",
              "      <td>4</td>\n",
              "      <td>1.0</td>\n",
              "      <td>0</td>\n",
              "      <td>0</td>\n",
              "      <td>0</td>\n",
              "      <td>0</td>\n",
              "      <td>1</td>\n",
              "      <td>0</td>\n",
              "      <td>1</td>\n",
              "      <td>0</td>\n",
              "    </tr>\n",
              "  </tbody>\n",
              "</table>\n",
              "</div>"
            ],
            "text/plain": [
              "   Age  Experience  Income  Family  CCAvg  Mortgage  Securities_Account  \\\n",
              "0   25           1      49       4    1.6         0                   1   \n",
              "1   45          19      34       3    1.5         0                   1   \n",
              "2   39          15      11       1    1.0         0                   0   \n",
              "3   35           9     100       1    2.7         0                   0   \n",
              "4   35           8      45       4    1.0         0                   0   \n",
              "\n",
              "   CD_Account  Online  CreditCard  Edu_1  Edu_2  Edu_3  \n",
              "0           0       0           0      1      0      0  \n",
              "1           0       0           0      1      0      0  \n",
              "2           0       0           0      1      0      0  \n",
              "3           0       0           0      0      1      0  \n",
              "4           0       0           1      0      1      0  "
            ]
          },
          "execution_count": 7,
          "metadata": {},
          "output_type": "execute_result"
        }
      ],
      "source": [
        "# One-hot encode the categorical column\n",
        "X = pd.concat([dat,\n",
        "               pd.get_dummies(dat['Education'],prefix='Edu')],\n",
        "              axis=1)\n",
        "\n",
        "# Drop the original categorical column and the response variable\n",
        "X = X.drop(['Education','Personal_Loan'], axis=1)\n",
        "\n",
        "X.head()"
      ]
    },
    {
      "cell_type": "code",
      "execution_count": null,
      "metadata": {
        "id": "Qb_GPk5ls2m6",
        "outputId": "d535d415-e398-4075-d794-957f787168fc"
      },
      "outputs": [
        {
          "data": {
            "text/plain": [
              "0    0\n",
              "1    0\n",
              "2    0\n",
              "3    0\n",
              "4    0\n",
              "Name: Personal_Loan, dtype: int64"
            ]
          },
          "execution_count": 8,
          "metadata": {},
          "output_type": "execute_result"
        }
      ],
      "source": [
        "y = dat['Personal_Loan']\n",
        "y.head()"
      ]
    },
    {
      "cell_type": "markdown",
      "metadata": {
        "id": "yAZG8abhs2m6"
      },
      "source": [
        "### 2.3. Data Partition\n",
        "\n",
        "We use the sklearn.model_selection.train_test_split() method to split the dataset into test and training sets. Major parameters are:\n",
        "\n",
        "- **test_size** : float, int, or None (default is None). If float, should be between 0.0 and 1.0 and represent the proportion of the dataset to include in the test split. If int, represents the absolute number of test samples. If None, the value is automatically set to the complement of the train size. If train size is also None, test size is set to 0.25.\n",
        "\n",
        "- **train_size** : float, int, or None (default is None). If float, should be between 0.0 and 1.0 and represent the proportion of the dataset to include in the train split. If int, represents the absolute number of train samples. If None, the value is automatically set to the complement of the test size.\n",
        "\n",
        "- **random_state** : Pseudo-random number generator state used for random sampling.\n",
        "\n",
        "- **stratify** : data is split in a stratified fashion\n",
        "\n",
        "For the detail of the method, refer to http://scikit-learn.org/stable/modules/generated/sklearn.model_selection.train_test_split.html"
      ]
    },
    {
      "cell_type": "code",
      "execution_count": null,
      "metadata": {
        "id": "x7RanpXss2m6"
      },
      "outputs": [],
      "source": [
        "from sklearn.model_selection import train_test_split\n",
        "\n",
        "# 20-80% simple split\n",
        "# To make the result reproducible, set the random_state\n",
        "train_y,test_y,train_X,test_X = train_test_split(y, X,\n",
        "                                                 test_size=0.2,\n",
        "                                                 stratify=y,\n",
        "                                                 random_state=123)"
      ]
    },
    {
      "cell_type": "code",
      "execution_count": null,
      "metadata": {
        "id": "QpfKkoeGs2m7",
        "outputId": "67eab155-e8ef-45b9-d150-1e1d71962e29"
      },
      "outputs": [
        {
          "data": {
            "text/plain": [
              "(4000,)"
            ]
          },
          "execution_count": 10,
          "metadata": {},
          "output_type": "execute_result"
        }
      ],
      "source": [
        "train_y.shape"
      ]
    },
    {
      "cell_type": "code",
      "execution_count": null,
      "metadata": {
        "id": "5T_OcrY7s2m7",
        "outputId": "baca3e29-d423-4cdd-a6df-8166ac117e06"
      },
      "outputs": [
        {
          "data": {
            "text/plain": [
              "(1000,)"
            ]
          },
          "execution_count": 11,
          "metadata": {},
          "output_type": "execute_result"
        }
      ],
      "source": [
        "test_y.shape"
      ]
    },
    {
      "cell_type": "code",
      "execution_count": null,
      "metadata": {
        "id": "9mpjZn84s2m-",
        "outputId": "29e653c5-8359-49bc-c07c-5a8208c2d6d3"
      },
      "outputs": [
        {
          "data": {
            "text/plain": [
              "(4000, 13)"
            ]
          },
          "execution_count": 12,
          "metadata": {},
          "output_type": "execute_result"
        }
      ],
      "source": [
        "train_X.shape"
      ]
    },
    {
      "cell_type": "code",
      "execution_count": null,
      "metadata": {
        "id": "f0Bi7pdUs2m-",
        "outputId": "6e8a556e-dc3f-4f9b-84cc-e7e40c7ea01e"
      },
      "outputs": [
        {
          "data": {
            "text/plain": [
              "(1000, 13)"
            ]
          },
          "execution_count": 13,
          "metadata": {},
          "output_type": "execute_result"
        }
      ],
      "source": [
        "test_X.shape"
      ]
    },
    {
      "cell_type": "markdown",
      "metadata": {
        "id": "ZfMKQTZBs2m-"
      },
      "source": [
        "The parameter \"stratify=y\" makes sure that the classes keep the same relative frequency in both the training and testing datasets.\n",
        "\n",
        "This can be verified below: the means of the Personal_Loan are the same in both the training and testing datasets."
      ]
    },
    {
      "cell_type": "code",
      "execution_count": null,
      "metadata": {
        "id": "io6tT5Rjs2m-",
        "outputId": "6114362f-36b2-46e9-d2ab-d15c21e1466c"
      },
      "outputs": [
        {
          "data": {
            "text/plain": [
              "count    4000.000000\n",
              "mean        0.096000\n",
              "std         0.294628\n",
              "min         0.000000\n",
              "25%         0.000000\n",
              "50%         0.000000\n",
              "75%         0.000000\n",
              "max         1.000000\n",
              "Name: Personal_Loan, dtype: float64"
            ]
          },
          "execution_count": 14,
          "metadata": {},
          "output_type": "execute_result"
        }
      ],
      "source": [
        "train_y.describe()"
      ]
    },
    {
      "cell_type": "code",
      "execution_count": null,
      "metadata": {
        "id": "ciFPtGGjs2m_",
        "outputId": "2714cb6b-6e33-4126-b1d8-7b066a2882f9"
      },
      "outputs": [
        {
          "data": {
            "text/plain": [
              "count    1000.000000\n",
              "mean        0.096000\n",
              "std         0.294739\n",
              "min         0.000000\n",
              "25%         0.000000\n",
              "50%         0.000000\n",
              "75%         0.000000\n",
              "max         1.000000\n",
              "Name: Personal_Loan, dtype: float64"
            ]
          },
          "execution_count": 15,
          "metadata": {},
          "output_type": "execute_result"
        }
      ],
      "source": [
        "test_y.describe()"
      ]
    },
    {
      "cell_type": "markdown",
      "metadata": {
        "id": "FvnhAuECs2m_"
      },
      "source": [
        "## 3. Predictive Modeling"
      ]
    },
    {
      "cell_type": "markdown",
      "metadata": {
        "id": "uUoaqkzDs2m_"
      },
      "source": [
        "### 3.1. Logistic Regression without Class Weight"
      ]
    },
    {
      "cell_type": "code",
      "execution_count": null,
      "metadata": {
        "id": "u96QyZr8s2m_"
      },
      "outputs": [],
      "source": [
        "from sklearn.linear_model import LogisticRegression"
      ]
    },
    {
      "cell_type": "code",
      "execution_count": null,
      "metadata": {
        "id": "gd2JjAp-s2m_",
        "outputId": "d07a60d2-d49c-43ce-c10f-0bff0103741c"
      },
      "outputs": [
        {
          "data": {
            "text/plain": [
              "LogisticRegression(C=1.0, class_weight=None, dual=False, fit_intercept=True,\n",
              "          intercept_scaling=1, max_iter=100, multi_class='warn',\n",
              "          n_jobs=None, penalty='l2', random_state=None, solver='liblinear',\n",
              "          tol=0.0001, verbose=0, warm_start=False)"
            ]
          },
          "execution_count": 17,
          "metadata": {},
          "output_type": "execute_result"
        }
      ],
      "source": [
        "logit1 = LogisticRegression(solver='liblinear')\n",
        "logit1.fit(train_X, train_y)"
      ]
    },
    {
      "cell_type": "markdown",
      "metadata": {
        "id": "TXUzQOgJs2nA"
      },
      "source": [
        "As we can see from the result, the fit_intercept parameter is set as True by default. That's the reason we don't need to create the intercept term in the design matrics."
      ]
    },
    {
      "cell_type": "code",
      "execution_count": null,
      "metadata": {
        "id": "nUe_bTmgs2nA"
      },
      "outputs": [],
      "source": [
        "pred_y_logit1 = logit1.predict(test_X)"
      ]
    },
    {
      "cell_type": "code",
      "execution_count": null,
      "metadata": {
        "id": "26s9XyFXs2nA"
      },
      "outputs": [],
      "source": [
        "# Define a function to plot confusion matrix\n",
        "def plot_confusion_matrix(cm, classes,\n",
        "                          normalize=False,\n",
        "                          title='Confusion matrix',\n",
        "                          cmap=plt.cm.Blues):  \n",
        "    plt.imshow(cm, interpolation='nearest', cmap=cmap)\n",
        "    plt.title(title)\n",
        "    plt.colorbar()\n",
        "    tick_marks = np.arange(len(classes))\n",
        "    plt.xticks(tick_marks, classes, rotation=45)\n",
        "    plt.yticks(tick_marks, classes)\n",
        "    thresh = cm.max() / 2.\n",
        "    for i, j in itertools.product(range(cm.shape[0]), range(cm.shape[1])):\n",
        "        plt.text(j, i, format(cm[i, j], 'd'),\n",
        "                 horizontalalignment=\"center\",\n",
        "                 color=\"white\" if cm[i, j] > thresh else \"black\")\n",
        "\n",
        "    plt.tight_layout()\n",
        "    plt.ylabel('Predicted label')\n",
        "    plt.xlabel('True label')\n",
        "    plt.plot()"
      ]
    },
    {
      "cell_type": "code",
      "execution_count": null,
      "metadata": {
        "id": "JxshlrOBs2nA",
        "outputId": "f134731a-f079-47f6-d1d2-c3d6f9509615"
      },
      "outputs": [
        {
          "data": {
            "image/png": "[encoded data removed]",
            "text/plain": [
              "<Figure size 432x288 with 2 Axes>"
            ]
          },
          "metadata": {
            "needs_background": "light"
          },
          "output_type": "display_data"
        }
      ],
      "source": [
        "from sklearn import metrics\n",
        "\n",
        "# Compute confusion matrix\n",
        "cnf_matrix_logit1 = metrics.confusion_matrix(pred_y_logit1, test_y, labels=[1,0])\n",
        "\n",
        "# Plot non-normalized confusion matrix\n",
        "plot_confusion_matrix(cnf_matrix_logit1, classes=['Yes','No'],\n",
        "                      title='Confusion matrix, without normalization')"
      ]
    },
    {
      "cell_type": "code",
      "execution_count": null,
      "metadata": {
        "scrolled": true,
        "id": "5QHJKZcSs2nB",
        "outputId": "2f9454a1-336f-4a03-b41d-53b354d2dac4"
      },
      "outputs": [
        {
          "name": "stdout",
          "output_type": "stream",
          "text": [
            "              precision    recall  f1-score   support\n",
            "\n",
            "           0       0.96      0.99      0.98       904\n",
            "           1       0.89      0.66      0.75        96\n",
            "\n",
            "   micro avg       0.96      0.96      0.96      1000\n",
            "   macro avg       0.93      0.82      0.87      1000\n",
            "weighted avg       0.96      0.96      0.96      1000\n",
            "\n"
          ]
        }
      ],
      "source": [
        "# Print classification report\n",
        "print(metrics.classification_report(test_y,pred_y_logit1))"
      ]
    },
    {
      "cell_type": "markdown",
      "metadata": {
        "id": "TdH6MU1zs2nB"
      },
      "source": [
        "We can see that only 66% customers who actually accepted personal loan have been correctly classified by the logistic regression model. In practice, if it is imperative to predict customers who would like to accept personal loan (this means business for the bank), then we can actually assign a higher penalty for the customers who actually accepted the loan but were not correctly classified by the predictive model.\n",
        "\n",
        "We can do this by using the class_weight parameter, as demonstrated below."
      ]
    },
    {
      "cell_type": "markdown",
      "metadata": {
        "id": "AT47CokGs2nB"
      },
      "source": [
        "### 3.2. Logistic Regression with Class Weight"
      ]
    },
    {
      "cell_type": "code",
      "execution_count": null,
      "metadata": {
        "id": "WoqEFY8rs2nB",
        "outputId": "fa619cea-bb53-4949-cf24-56b6b732b2fb"
      },
      "outputs": [
        {
          "data": {
            "text/plain": [
              "LogisticRegression(C=1.0, class_weight={1: 10}, dual=False,\n",
              "          fit_intercept=True, intercept_scaling=1, max_iter=100,\n",
              "          multi_class='warn', n_jobs=None, penalty='l2', random_state=None,\n",
              "          solver='liblinear', tol=0.0001, verbose=0, warm_start=False)"
            ]
          },
          "execution_count": 22,
          "metadata": {},
          "output_type": "execute_result"
        }
      ],
      "source": [
        "# Assign class_weight as 10 for class 1 (class 0 will have 1 as class weight by default)\n",
        "logit2 = LogisticRegression(class_weight={1:10}, solver='liblinear')\n",
        "logit2.fit(train_X, train_y)"
      ]
    },
    {
      "cell_type": "code",
      "execution_count": null,
      "metadata": {
        "id": "ISTCVcsXs2nB"
      },
      "outputs": [],
      "source": [
        "pred_y_logit2 = logit2.predict(test_X)"
      ]
    },
    {
      "cell_type": "code",
      "execution_count": null,
      "metadata": {
        "id": "lYqmjxxVs2nC",
        "outputId": "bdb83015-fb51-43e3-90c0-a86e3169f79b"
      },
      "outputs": [
        {
          "data": {
            "image/png": "[encoded data removed]",
            "text/plain": [
              "<Figure size 432x288 with 2 Axes>"
            ]
          },
          "metadata": {
            "needs_background": "light"
          },
          "output_type": "display_data"
        }
      ],
      "source": [
        "# Compute confusion matrix\n",
        "cnf_matrix_logit2 = metrics.confusion_matrix(pred_y_logit2, test_y, labels = [1,0])\n",
        "\n",
        "# Plot non-normalized confusion matrix\n",
        "plot_confusion_matrix(cnf_matrix_logit2, classes=['Yes','No'],\n",
        "                      title='Confusion matrix, without normalization')"
      ]
    },
    {
      "cell_type": "code",
      "execution_count": null,
      "metadata": {
        "id": "wDXaro2js2nC",
        "outputId": "133fc28c-7132-4f45-de3d-4d9a77f767ea"
      },
      "outputs": [
        {
          "name": "stdout",
          "output_type": "stream",
          "text": [
            "              precision    recall  f1-score   support\n",
            "\n",
            "           0       0.98      0.90      0.94       904\n",
            "           1       0.48      0.86      0.62        96\n",
            "\n",
            "   micro avg       0.90      0.90      0.90      1000\n",
            "   macro avg       0.73      0.88      0.78      1000\n",
            "weighted avg       0.94      0.90      0.91      1000\n",
            "\n"
          ]
        }
      ],
      "source": [
        "# Print classification report\n",
        "print(metrics.classification_report(test_y, pred_y_logit2))"
      ]
    },
    {
      "cell_type": "markdown",
      "metadata": {
        "id": "vbzMoLhqs2nC"
      },
      "source": [
        "We can see that now 86% customers who actually accepted personal loan have been correctly classified by the logistic regression model. By assigning a higher penalty to the misclassified customers who have actually accepted personal loan, we can improve the recall of the positive class significantly."
      ]
    },
    {
      "cell_type": "markdown",
      "metadata": {
        "id": "SDI5twD_s2nC"
      },
      "source": [
        "### 3.3. Support Vector Classifier with Class Weight\n",
        "\n",
        "Now, let's extend the logistic regression modeling process to other machine learning methods. Let's choose support vector machine for classification."
      ]
    },
    {
      "cell_type": "code",
      "execution_count": null,
      "metadata": {
        "id": "BDJRNIz7s2nD",
        "outputId": "555ceccb-d693-44a8-ab08-52f0c994bc4c"
      },
      "outputs": [
        {
          "data": {
            "text/plain": [
              "SVC(C=1.0, cache_size=200, class_weight={1: 10}, coef0=0.0,\n",
              "  decision_function_shape='ovr', degree=3, gamma='auto_deprecated',\n",
              "  kernel='linear', max_iter=-1, probability=False, random_state=None,\n",
              "  shrinking=True, tol=0.001, verbose=False)"
            ]
          },
          "execution_count": 26,
          "metadata": {},
          "output_type": "execute_result"
        }
      ],
      "source": [
        "from sklearn.svm import SVC\n",
        "svc = SVC(kernel='linear', class_weight={1: 10})\n",
        "svc.fit(train_X, train_y)"
      ]
    },
    {
      "cell_type": "code",
      "execution_count": null,
      "metadata": {
        "id": "SXy58onGs2nD"
      },
      "outputs": [],
      "source": [
        "pred_y_svc = svc.predict(test_X)"
      ]
    },
    {
      "cell_type": "code",
      "execution_count": null,
      "metadata": {
        "id": "mmJioYj7s2nD",
        "outputId": "96f7d551-0e44-4c31-efcf-10cd825dad07"
      },
      "outputs": [
        {
          "data": {
            "image/png": "[encoded data removed]",
            "text/plain": [
              "<Figure size 432x288 with 2 Axes>"
            ]
          },
          "metadata": {
            "needs_background": "light"
          },
          "output_type": "display_data"
        }
      ],
      "source": [
        "# Compute confusion matrix\n",
        "cnf_matrix_svc = metrics.confusion_matrix(pred_y_svc, test_y, labels=[1,0])\n",
        "\n",
        "# Plot non-normalized confusion matrix\n",
        "plot_confusion_matrix(cnf_matrix_svc, classes=['Yes','No'],\n",
        "                      title='Confusion matrix, without normalization')"
      ]
    },
    {
      "cell_type": "code",
      "execution_count": null,
      "metadata": {
        "id": "gqvLDFXSs2nD",
        "outputId": "506af7b4-83ec-4e0d-98a8-1ee3314e57d9"
      },
      "outputs": [
        {
          "name": "stdout",
          "output_type": "stream",
          "text": [
            "              precision    recall  f1-score   support\n",
            "\n",
            "           0       0.98      0.91      0.95       904\n",
            "           1       0.50      0.86      0.64        96\n",
            "\n",
            "   micro avg       0.91      0.91      0.91      1000\n",
            "   macro avg       0.74      0.89      0.79      1000\n",
            "weighted avg       0.94      0.91      0.92      1000\n",
            "\n"
          ]
        }
      ],
      "source": [
        "# Print classification report\n",
        "print(metrics.classification_report(test_y, pred_y_svc))"
      ]
    },
    {
      "cell_type": "markdown",
      "metadata": {
        "id": "1Y1rD1MXs2nD"
      },
      "source": [
        "We can find that SVM can more accurately predict the outcome than the logistic regression model."
      ]
    },
    {
      "cell_type": "markdown",
      "metadata": {
        "id": "3VA_ch4ss2nD"
      },
      "source": [
        "### 3.3. Comparison"
      ]
    },
    {
      "cell_type": "markdown",
      "metadata": {
        "id": "lWVOn47_s2nE"
      },
      "source": [
        "After we set the class weight to assign a larger penalty for mis-classified minority class (Personal_Loan = 1), we find the logistic regression model has improved the recall of the minority class from 0.66 to 0.86. But the precision of the minority has been reduced from 0.89 to 0.48.\n",
        "\n",
        "This is the trade-off between precision and recall. Given a model with high recall (most of the class is correctly classified), we will have a relatively low precision (some classified instances are wrong).\n",
        "\n",
        "The performance of all the three models can the summarized as below:"
      ]
    },
    {
      "cell_type": "code",
      "execution_count": null,
      "metadata": {
        "id": "ieLblNkus2nE"
      },
      "outputs": [],
      "source": [
        "acc = [metrics.accuracy_score(test_y, pred_y_logit1),\n",
        "       metrics.accuracy_score(test_y, pred_y_logit2),\n",
        "       metrics.accuracy_score(test_y, pred_y_svc)]\n",
        "\n",
        "pre = [metrics.precision_score(test_y, pred_y_logit1),\n",
        "       metrics.precision_score(test_y, pred_y_logit2),\n",
        "       metrics.precision_score(test_y, pred_y_svc)]\n",
        "\n",
        "rec = [metrics.recall_score(test_y, pred_y_logit1),\n",
        "       metrics.recall_score(test_y, pred_y_logit2),\n",
        "       metrics.recall_score(test_y, pred_y_svc)]\n",
        "\n",
        "f1  = [metrics.f1_score(test_y, pred_y_logit1),\n",
        "       metrics.f1_score(test_y, pred_y_logit2),\n",
        "       metrics.f1_score(test_y, pred_y_svc)]"
      ]
    },
    {
      "cell_type": "code",
      "execution_count": null,
      "metadata": {
        "id": "91qoj6eWs2nE",
        "outputId": "9e7002af-a936-45c3-e168-fcb64a0f7526"
      },
      "outputs": [
        {
          "data": {
            "text/html": [
              "<div>\n",
              "<style scoped>\n",
              "    .dataframe tbody tr th:only-of-type {\n",
              "        vertical-align: middle;\n",
              "    }\n",
              "\n",
              "    .dataframe tbody tr th {\n",
              "        vertical-align: top;\n",
              "    }\n",
              "\n",
              "    .dataframe thead th {\n",
              "        text-align: right;\n",
              "    }\n",
              "</style>\n",
              "<table border=\"1\" class=\"dataframe\">\n",
              "  <thead>\n",
              "    <tr style=\"text-align: right;\">\n",
              "      <th></th>\n",
              "      <th>Accuracy</th>\n",
              "      <th>Precision</th>\n",
              "      <th>Recall</th>\n",
              "      <th>F1 Score</th>\n",
              "    </tr>\n",
              "  </thead>\n",
              "  <tbody>\n",
              "    <tr>\n",
              "      <th>Logit without class weight</th>\n",
              "      <td>0.959</td>\n",
              "      <td>0.887324</td>\n",
              "      <td>0.656250</td>\n",
              "      <td>0.754491</td>\n",
              "    </tr>\n",
              "    <tr>\n",
              "      <th>Logit with class weight</th>\n",
              "      <td>0.897</td>\n",
              "      <td>0.479769</td>\n",
              "      <td>0.864583</td>\n",
              "      <td>0.617100</td>\n",
              "    </tr>\n",
              "    <tr>\n",
              "      <th>SVM with class weight</th>\n",
              "      <td>0.905</td>\n",
              "      <td>0.503030</td>\n",
              "      <td>0.864583</td>\n",
              "      <td>0.636015</td>\n",
              "    </tr>\n",
              "  </tbody>\n",
              "</table>\n",
              "</div>"
            ],
            "text/plain": [
              "                            Accuracy  Precision    Recall  F1 Score\n",
              "Logit without class weight     0.959   0.887324  0.656250  0.754491\n",
              "Logit with class weight        0.897   0.479769  0.864583  0.617100\n",
              "SVM with class weight          0.905   0.503030  0.864583  0.636015"
            ]
          },
          "execution_count": 31,
          "metadata": {},
          "output_type": "execute_result"
        }
      ],
      "source": [
        "pd.DataFrame({'Accuracy':acc,\n",
        "              'Precision':pre, \n",
        "              'Recall':rec, \n",
        "              'F1 Score': f1},\n",
        "             index = ['Logit without class weight',\n",
        "                      'Logit with class weight',\n",
        "                      'SVM with class weight'])"
      ]
    },
    {
      "cell_type": "markdown",
      "metadata": {
        "id": "zMF1OTYms2nE"
      },
      "source": [
        "**Note**: The metrics.precision_score() method only calculate performance metrics based on the class 1."
      ]
    },
    {
      "cell_type": "markdown",
      "metadata": {
        "id": "kPya9cgSs2nE"
      },
      "source": [
        "## 4. Hypothesis Testing Using Bootstrap\n",
        "\n",
        "As shown in the previous section, we can easily compare different models regarding their performance. For example, if we use F1 score as the criterion, we can say that the SVM with class weight has a higher F1 score than that of the logit with class weight. However, the question is whether such difference is statistically significant. We cannot evaluate the significance of performance difference since we don't know the distribution of the performance metric yet.\n",
        "\n",
        "In this section, let's use the bootstrap method to estimate the distribution of performance metrics for different models. With such estimates, we can test hypothesis regarding the difference of performance for different models.\n",
        "\n",
        "As the logit without class weight has too low recall, we'll not compare it in this section. Thus, our (alternative) hypothesis is:\n",
        "\n",
        "**Hypothesis**: The logit and SVC models have different performance in terms of F1 score."
      ]
    },
    {
      "cell_type": "code",
      "execution_count": null,
      "metadata": {
        "id": "822As7Nys2nE"
      },
      "outputs": [],
      "source": [
        "# Use the sklean.utils.resample to implement the bootstrap procedure\n",
        "from sklearn.utils import resample"
      ]
    },
    {
      "cell_type": "code",
      "execution_count": null,
      "metadata": {
        "id": "JvPgq-tVs2nF"
      },
      "outputs": [],
      "source": [
        "# Set the number of bootstraps\n",
        "n_bootstraps = 1000\n",
        "\n",
        "# Initiate lists of performance metric\n",
        "bootstrap_f1_logit = []\n",
        "bootstrap_f1_svc = []\n",
        "\n",
        "# Set the random number seed\n",
        "np.random.seed(123)\n",
        "\n",
        "# Resample the test dataset, and calculate performance metric\n",
        "for i in range(n_bootstraps):\n",
        "        \n",
        "    # Get a bootstrap of test dataset\n",
        "    resample_test_X, resample_test_y = resample(test_X, test_y, replace = True)\n",
        "    \n",
        "    # Calculate predicted outcome\n",
        "    pred_y_logit2_bs = logit2.predict(resample_test_X)\n",
        "    pred_y_svc_bs = svc.predict(resample_test_X)\n",
        "    \n",
        "    # Calculate f1 score of the logit model using the bootstrap\n",
        "    bootstrap_f1_logit.append(metrics.f1_score(resample_test_y, pred_y_logit2_bs))\n",
        "    \n",
        "    # Calculate f1 score of the logit model using the bootstrap\n",
        "    bootstrap_f1_svc.append(metrics.f1_score(resample_test_y, pred_y_svc_bs))\n",
        "\n",
        "# Convert the performance metric data as Pandas Series\n",
        "bootstrap_f1_logit = pd.Series(bootstrap_f1_logit)\n",
        "bootstrap_f1_svc = pd.Series(bootstrap_f1_svc)"
      ]
    },
    {
      "cell_type": "code",
      "execution_count": null,
      "metadata": {
        "id": "3tvVOk9fs2nF"
      },
      "outputs": [],
      "source": [
        "bootstrap_f1_logit.describe()"
      ]
    },
    {
      "cell_type": "code",
      "execution_count": null,
      "metadata": {
        "id": "noBmj-Ebs2nF"
      },
      "outputs": [],
      "source": [
        "bootstrap_f1_svc.describe()"
      ]
    },
    {
      "cell_type": "code",
      "execution_count": null,
      "metadata": {
        "id": "7h5cSid3s2nF"
      },
      "outputs": [],
      "source": [
        "# Plot the performance\n",
        "bootstrap_f1_logit.plot(kind='hist', title = 'Histogram of F1 score for Logit')"
      ]
    },
    {
      "cell_type": "code",
      "execution_count": null,
      "metadata": {
        "scrolled": true,
        "id": "KM1s3IjNs2nF"
      },
      "outputs": [],
      "source": [
        "bootstrap_f1_svc.plot(kind='hist', title = 'Histogram of F1 score for SVC')"
      ]
    },
    {
      "cell_type": "markdown",
      "metadata": {
        "id": "aM5XAiENs2nG"
      },
      "source": [
        "The mean F1 score of the logit model is 0.615, while the mean F1 score of the SVC model is 0.634. Do the two F1 scores have significant difference?\n",
        "\n",
        "Now, let's calculate 95% confidence intervals using the percentile method."
      ]
    },
    {
      "cell_type": "code",
      "execution_count": null,
      "metadata": {
        "id": "FNqgS05es2nG"
      },
      "outputs": [],
      "source": [
        "# 95% confidence interval of F1 score for logit\n",
        "print(\"(\", \n",
        "      np.percentile(bootstrap_f1_logit, 2.5),\n",
        "     \", \",\n",
        "     np.percentile(bootstrap_f1_logit, 97.5),\n",
        "     \")\")"
      ]
    },
    {
      "cell_type": "markdown",
      "metadata": {
        "id": "yQfdkYNFs2nG"
      },
      "source": [
        "It shows that the F1 score of the logit model belongs to the range (0.542, 0.683) with 95% confidence."
      ]
    },
    {
      "cell_type": "code",
      "execution_count": null,
      "metadata": {
        "id": "dHAYvXwis2nG"
      },
      "outputs": [],
      "source": [
        "# 95% confidence interval of F1 score for SVC\n",
        "print(\"(\", \n",
        "      np.percentile(bootstrap_f1_svc, 2.5),\n",
        "     \", \",\n",
        "     np.percentile(bootstrap_f1_svc, 97.5),\n",
        "     \")\")"
      ]
    },
    {
      "cell_type": "markdown",
      "metadata": {
        "id": "6gruEZd-s2nG"
      },
      "source": [
        "It shows that the F1 score of the SVC model belongs to the range (0.560, 0.699) with 95% confidence."
      ]
    },
    {
      "cell_type": "markdown",
      "metadata": {
        "id": "fp6ngN9Bs2nG"
      },
      "source": [
        "As the two intervals have overlap, the difference in F1 score between the logit and SVC models is not statistically significant. We don't have evidence to support the hypothesis that the two models have different performance in terms of F1 score. That is to say, SVC has the similar performance with logit model in terms of F1-score."
      ]
    },
    {
      "cell_type": "markdown",
      "metadata": {
        "id": "ZV_4gWAFs2nG"
      },
      "source": [
        "Another way to calculate the 95% confidence interval is to use normal approximation. Assume that the statistic x (F1 score in this case) follows a normal distribution, then the 95% confidence interval of x is calculated as:\n",
        "\n",
        "$$[mean(x)-1.96*std(x), mean(x)+1.96*std(x)]$$"
      ]
    },
    {
      "cell_type": "code",
      "execution_count": null,
      "metadata": {
        "id": "BPHvCDU5s2nH"
      },
      "outputs": [],
      "source": [
        "# 95% confidence interval of F1 score for logit\n",
        "print(\"(\", \n",
        "      np.mean(bootstrap_f1_logit) - 1.96* np.std(bootstrap_f1_logit),\n",
        "     \", \",\n",
        "     np.mean(bootstrap_f1_logit) + 1.96* np.std(bootstrap_f1_logit),\n",
        "     \")\")"
      ]
    },
    {
      "cell_type": "code",
      "execution_count": null,
      "metadata": {
        "id": "hLTW2LNms2nH"
      },
      "outputs": [],
      "source": [
        "# 95% confidence interval of F1 score for SVC\n",
        "print(\"(\", \n",
        "      np.mean(bootstrap_f1_svc) - 1.96* np.std(bootstrap_f1_svc),\n",
        "     \", \",\n",
        "     np.mean(bootstrap_f1_svc) + 1.96* np.std(bootstrap_f1_svc),\n",
        "     \")\")"
      ]
    },
    {
      "cell_type": "markdown",
      "metadata": {
        "id": "JkH13Klns2nH"
      },
      "source": [
        "We get the similar result by using the normal approximation to calculate the 95% confidence interval.\n",
        "\n",
        "The percentile method and normal approximation method have similar results. However, the percentile method is more preferred as it is a non-parametric method: we don't need to make assumption regarding the distribution of the F1 score."
      ]
    }
  ],
  "metadata": {
    "kernelspec": {
      "display_name": "Python 3",
      "language": "python",
      "name": "python3"
    },
    "language_info": {
      "codemirror_mode": {
        "name": "ipython",
        "version": 3
      },
      "file_extension": ".py",
      "mimetype": "text/x-python",
      "name": "python",
      "nbconvert_exporter": "python",
      "pygments_lexer": "ipython3",
      "version": "3.6.8"
    },
    "colab": {
      "name": "Predicting_Personal_Load_Acceptance.ipynb",
      "provenance": [],
      "include_colab_link": true
    }
  },
  "nbformat": 4,
  "nbformat_minor": 0
}